{
 "cells": [
  {
   "cell_type": "code",
   "execution_count": 14,
   "id": "e7a08ac4-517b-4e83-a44b-a390587060a2",
   "metadata": {},
   "outputs": [
    {
     "data": {
      "text/html": [
       "<div>\n",
       "<style scoped>\n",
       "    .dataframe tbody tr th:only-of-type {\n",
       "        vertical-align: middle;\n",
       "    }\n",
       "\n",
       "    .dataframe tbody tr th {\n",
       "        vertical-align: top;\n",
       "    }\n",
       "\n",
       "    .dataframe thead th {\n",
       "        text-align: right;\n",
       "    }\n",
       "</style>\n",
       "<table border=\"1\" class=\"dataframe\">\n",
       "  <thead>\n",
       "    <tr style=\"text-align: right;\">\n",
       "      <th></th>\n",
       "      <th>np</th>\n",
       "      <th>tiempo</th>\n",
       "    </tr>\n",
       "  </thead>\n",
       "  <tbody>\n",
       "    <tr>\n",
       "      <th>Cantidad de Procesadores: 1</th>\n",
       "      <td>479.1990</td>\n",
       "      <td>132</td>\n",
       "    </tr>\n",
       "    <tr>\n",
       "      <th>Cantidad de Procesadores: 2</th>\n",
       "      <td>353.2550</td>\n",
       "      <td>132</td>\n",
       "    </tr>\n",
       "    <tr>\n",
       "      <th>Cantidad de Procesadores: 3</th>\n",
       "      <td>259.8000</td>\n",
       "      <td>132</td>\n",
       "    </tr>\n",
       "    <tr>\n",
       "      <th>Cantidad de Procesadores: 4</th>\n",
       "      <td>203.9070</td>\n",
       "      <td>132</td>\n",
       "    </tr>\n",
       "    <tr>\n",
       "      <th>Cantidad de Procesadores: 5</th>\n",
       "      <td>167.7640</td>\n",
       "      <td>132</td>\n",
       "    </tr>\n",
       "    <tr>\n",
       "      <th>Cantidad de Procesadores: 6</th>\n",
       "      <td>142.1750</td>\n",
       "      <td>132</td>\n",
       "    </tr>\n",
       "    <tr>\n",
       "      <th>Cantidad de Procesadores: 7</th>\n",
       "      <td>123.3440</td>\n",
       "      <td>132</td>\n",
       "    </tr>\n",
       "    <tr>\n",
       "      <th>Cantidad de Procesadores: 8</th>\n",
       "      <td>108.9080</td>\n",
       "      <td>132</td>\n",
       "    </tr>\n",
       "    <tr>\n",
       "      <th>Cantidad de Procesadores: 9</th>\n",
       "      <td>97.6456</td>\n",
       "      <td>132</td>\n",
       "    </tr>\n",
       "    <tr>\n",
       "      <th>Cantidad de Procesadores: 10</th>\n",
       "      <td>88.2858</td>\n",
       "      <td>132</td>\n",
       "    </tr>\n",
       "    <tr>\n",
       "      <th>Cantidad de Procesadores: 11</th>\n",
       "      <td>80.6620</td>\n",
       "      <td>132</td>\n",
       "    </tr>\n",
       "    <tr>\n",
       "      <th>Cantidad de Procesadores: 12</th>\n",
       "      <td>74.1254</td>\n",
       "      <td>132</td>\n",
       "    </tr>\n",
       "    <tr>\n",
       "      <th>Cantidad de Procesadores: 13</th>\n",
       "      <td>68.7414</td>\n",
       "      <td>132</td>\n",
       "    </tr>\n",
       "    <tr>\n",
       "      <th>Cantidad de Procesadores: 14</th>\n",
       "      <td>63.9271</td>\n",
       "      <td>132</td>\n",
       "    </tr>\n",
       "    <tr>\n",
       "      <th>Cantidad de Procesadores: 15</th>\n",
       "      <td>59.6917</td>\n",
       "      <td>132</td>\n",
       "    </tr>\n",
       "  </tbody>\n",
       "</table>\n",
       "</div>"
      ],
      "text/plain": [
       "                                    np  tiempo\n",
       "Cantidad de Procesadores: 1   479.1990     132\n",
       "Cantidad de Procesadores: 2   353.2550     132\n",
       "Cantidad de Procesadores: 3   259.8000     132\n",
       "Cantidad de Procesadores: 4   203.9070     132\n",
       "Cantidad de Procesadores: 5   167.7640     132\n",
       "Cantidad de Procesadores: 6   142.1750     132\n",
       "Cantidad de Procesadores: 7   123.3440     132\n",
       "Cantidad de Procesadores: 8   108.9080     132\n",
       "Cantidad de Procesadores: 9    97.6456     132\n",
       "Cantidad de Procesadores: 10   88.2858     132\n",
       "Cantidad de Procesadores: 11   80.6620     132\n",
       "Cantidad de Procesadores: 12   74.1254     132\n",
       "Cantidad de Procesadores: 13   68.7414     132\n",
       "Cantidad de Procesadores: 14   63.9271     132\n",
       "Cantidad de Procesadores: 15   59.6917     132"
      ]
     },
     "execution_count": 14,
     "metadata": {},
     "output_type": "execute_result"
    }
   ],
   "source": [
    "import pandas as pd\n",
    "import numpy as np\n",
    "import matplotlib.pyplot as plt\n",
    "\n",
    "#df  = pd.read_csv(\"tiempo_sec.dat\")\n",
    "df1 = pd.read_csv(\"tiempos2.dat\", sep=',',  names=['np','tiempo'])\n",
    "#df2 = pd.read_csv(\"tiempos1.dat\", sep=',',  names=['np','tiempo','enc'])\n",
    "\n",
    "\n",
    "max1 = df1['tiempo'].max()\n",
    "#max2 = df2['tiempo'].max()\n",
    "#print( max1, max2 )\n",
    "\n",
    "#maximo = np.max( [max1, max2 ])\n",
    "#print(maximo)\n",
    "\n",
    "#max1\n",
    "df1"
   ]
  },
  {
   "cell_type": "code",
   "execution_count": 47,
   "id": "aad11a09-575b-403f-8a7e-32c568886a13",
   "metadata": {},
   "outputs": [
    {
     "data": {
      "text/html": [
       "<div>\n",
       "<style scoped>\n",
       "    .dataframe tbody tr th:only-of-type {\n",
       "        vertical-align: middle;\n",
       "    }\n",
       "\n",
       "    .dataframe tbody tr th {\n",
       "        vertical-align: top;\n",
       "    }\n",
       "\n",
       "    .dataframe thead th {\n",
       "        text-align: right;\n",
       "    }\n",
       "</style>\n",
       "<table border=\"1\" class=\"dataframe\">\n",
       "  <thead>\n",
       "    <tr style=\"text-align: right;\">\n",
       "      <th></th>\n",
       "      <th>sec</th>\n",
       "      <th>tiempos</th>\n",
       "      <th>np</th>\n",
       "      <th>tiempo</th>\n",
       "    </tr>\n",
       "  </thead>\n",
       "  <tbody>\n",
       "    <tr>\n",
       "      <th>Cantidad de Procesadores: 1</th>\n",
       "      <td>510.036</td>\n",
       "      <td>1</td>\n",
       "      <td>479.1990</td>\n",
       "      <td>132</td>\n",
       "    </tr>\n",
       "    <tr>\n",
       "      <th>Cantidad de Procesadores: 2</th>\n",
       "      <td>510.036</td>\n",
       "      <td>2</td>\n",
       "      <td>353.2550</td>\n",
       "      <td>132</td>\n",
       "    </tr>\n",
       "    <tr>\n",
       "      <th>Cantidad de Procesadores: 3</th>\n",
       "      <td>510.036</td>\n",
       "      <td>3</td>\n",
       "      <td>259.8000</td>\n",
       "      <td>132</td>\n",
       "    </tr>\n",
       "    <tr>\n",
       "      <th>Cantidad de Procesadores: 4</th>\n",
       "      <td>510.036</td>\n",
       "      <td>4</td>\n",
       "      <td>203.9070</td>\n",
       "      <td>132</td>\n",
       "    </tr>\n",
       "    <tr>\n",
       "      <th>Cantidad de Procesadores: 5</th>\n",
       "      <td>510.036</td>\n",
       "      <td>5</td>\n",
       "      <td>167.7640</td>\n",
       "      <td>132</td>\n",
       "    </tr>\n",
       "    <tr>\n",
       "      <th>Cantidad de Procesadores: 6</th>\n",
       "      <td>510.036</td>\n",
       "      <td>6</td>\n",
       "      <td>142.1750</td>\n",
       "      <td>132</td>\n",
       "    </tr>\n",
       "    <tr>\n",
       "      <th>Cantidad de Procesadores: 7</th>\n",
       "      <td>510.036</td>\n",
       "      <td>7</td>\n",
       "      <td>123.3440</td>\n",
       "      <td>132</td>\n",
       "    </tr>\n",
       "    <tr>\n",
       "      <th>Cantidad de Procesadores: 8</th>\n",
       "      <td>510.036</td>\n",
       "      <td>8</td>\n",
       "      <td>108.9080</td>\n",
       "      <td>132</td>\n",
       "    </tr>\n",
       "    <tr>\n",
       "      <th>Cantidad de Procesadores: 9</th>\n",
       "      <td>510.036</td>\n",
       "      <td>9</td>\n",
       "      <td>97.6456</td>\n",
       "      <td>132</td>\n",
       "    </tr>\n",
       "    <tr>\n",
       "      <th>Cantidad de Procesadores: 10</th>\n",
       "      <td>510.036</td>\n",
       "      <td>10</td>\n",
       "      <td>88.2858</td>\n",
       "      <td>132</td>\n",
       "    </tr>\n",
       "    <tr>\n",
       "      <th>Cantidad de Procesadores: 11</th>\n",
       "      <td>510.036</td>\n",
       "      <td>11</td>\n",
       "      <td>80.6620</td>\n",
       "      <td>132</td>\n",
       "    </tr>\n",
       "    <tr>\n",
       "      <th>Cantidad de Procesadores: 12</th>\n",
       "      <td>510.036</td>\n",
       "      <td>12</td>\n",
       "      <td>74.1254</td>\n",
       "      <td>132</td>\n",
       "    </tr>\n",
       "    <tr>\n",
       "      <th>Cantidad de Procesadores: 13</th>\n",
       "      <td>510.036</td>\n",
       "      <td>13</td>\n",
       "      <td>68.7414</td>\n",
       "      <td>132</td>\n",
       "    </tr>\n",
       "    <tr>\n",
       "      <th>Cantidad de Procesadores: 14</th>\n",
       "      <td>510.036</td>\n",
       "      <td>14</td>\n",
       "      <td>63.9271</td>\n",
       "      <td>132</td>\n",
       "    </tr>\n",
       "    <tr>\n",
       "      <th>Cantidad de Procesadores: 15</th>\n",
       "      <td>510.036</td>\n",
       "      <td>15</td>\n",
       "      <td>59.6917</td>\n",
       "      <td>132</td>\n",
       "    </tr>\n",
       "  </tbody>\n",
       "</table>\n",
       "</div>"
      ],
      "text/plain": [
       "                                  sec  tiempos        np  tiempo\n",
       "Cantidad de Procesadores: 1   510.036        1  479.1990     132\n",
       "Cantidad de Procesadores: 2   510.036        2  353.2550     132\n",
       "Cantidad de Procesadores: 3   510.036        3  259.8000     132\n",
       "Cantidad de Procesadores: 4   510.036        4  203.9070     132\n",
       "Cantidad de Procesadores: 5   510.036        5  167.7640     132\n",
       "Cantidad de Procesadores: 6   510.036        6  142.1750     132\n",
       "Cantidad de Procesadores: 7   510.036        7  123.3440     132\n",
       "Cantidad de Procesadores: 8   510.036        8  108.9080     132\n",
       "Cantidad de Procesadores: 9   510.036        9   97.6456     132\n",
       "Cantidad de Procesadores: 10  510.036       10   88.2858     132\n",
       "Cantidad de Procesadores: 11  510.036       11   80.6620     132\n",
       "Cantidad de Procesadores: 12  510.036       12   74.1254     132\n",
       "Cantidad de Procesadores: 13  510.036       13   68.7414     132\n",
       "Cantidad de Procesadores: 14  510.036       14   63.9271     132\n",
       "Cantidad de Procesadores: 15  510.036       15   59.6917     132"
      ]
     },
     "execution_count": 47,
     "metadata": {},
     "output_type": "execute_result"
    }
   ],
   "source": [
    "# Using DataFrame.insert() to add a column\n",
    "#df.insert(2, \"Age\", [21, 23, 24, 21], True)\n",
    "\n",
    "tiempos = [1,2,3,4,5,6,7,8,9,10,11,12,13,14,15]\n",
    "tiempoSec = [510.036,510.036,510.036,510.036,510.036,510.036,510.036,510.036,510.036,510.036,510.036,510.036,510.036,510.036,510.036]\n",
    "\n",
    "df1.insert(0,\"sec\",tiempoSec)\n",
    "df1\n"
   ]
  },
  {
   "cell_type": "code",
   "execution_count": null,
   "id": "c9ea33a3-e84f-4ef2-9ead-8c15b2f8f3ac",
   "metadata": {},
   "outputs": [],
   "source": [
    "#Rango (1, 2000000)\n",
    "#Max Gap: 132\n",
    "#Tiempo Total: 510.036"
   ]
  },
  {
   "cell_type": "code",
   "execution_count": 33,
   "id": "8e4c43ff-b9ed-4ccd-a06d-b09120376c1e",
   "metadata": {},
   "outputs": [
    {
     "data": {
      "text/plain": [
       "Text(0.5, 1.0, 'Primos gemelos en 2,000,000')"
      ]
     },
     "execution_count": 33,
     "metadata": {},
     "output_type": "execute_result"
    },
    {
     "data": {
      "image/png": "[encoded data removed]",
      "text/plain": [
       "<Figure size 432x288 with 1 Axes>"
      ]
     },
     "metadata": {
      "needs_background": "light"
     },
     "output_type": "display_data"
    }
   ],
   "source": [
    "plt.plot(1,510.036,color='r',marker='*',markersize=20)\n",
    "plt.text(1.5,510.036,'<--- secuencial',color='r')\n",
    "plt.plot(df1['tiempos'], df1['np'],color='b',marker='.',label='paralela v1',linestyle='dashed')\n",
    "#plt.plot(df2['np'], df2['tiempo'],color='g',marker='.',label='paralela v2')\n",
    "plt.xlabel(\"Numero de procesos\")\n",
    "plt.ylabel(\"Tiempo\")\n",
    "plt.legend()\n",
    "plt.title(\"Primos gemelos en 2,000,000\")\n",
    "#plt.axis([0.5, 10.5, -0.1, maximo+0.5])"
   ]
  },
  {
   "cell_type": "code",
   "execution_count": 27,
   "id": "3cbaefe8-268e-468e-a19b-b50dff1054df",
   "metadata": {},
   "outputs": [
    {
     "data": {
      "text/plain": [
       "Cantidad de Procesadores: 1     0.939540\n",
       "Cantidad de Procesadores: 2     0.692608\n",
       "Cantidad de Procesadores: 3     0.509376\n",
       "Cantidad de Procesadores: 4     0.399789\n",
       "Cantidad de Procesadores: 5     0.328926\n",
       "Cantidad de Procesadores: 6     0.278755\n",
       "Cantidad de Procesadores: 7     0.241834\n",
       "Cantidad de Procesadores: 8     0.213530\n",
       "Cantidad de Procesadores: 9     0.191448\n",
       "Cantidad de Procesadores: 10    0.173097\n",
       "Cantidad de Procesadores: 11    0.158150\n",
       "Cantidad de Procesadores: 12    0.145334\n",
       "Cantidad de Procesadores: 13    0.134778\n",
       "Cantidad de Procesadores: 14    0.125338\n",
       "Cantidad de Procesadores: 15    0.117034\n",
       "Name: np, dtype: float64"
      ]
     },
     "execution_count": 27,
     "metadata": {},
     "output_type": "execute_result"
    }
   ],
   "source": [
    "df1['np'].div(510.036)"
   ]
  },
  {
   "cell_type": "code",
   "execution_count": 53,
   "id": "d809b48f-6a06-4f83-a07b-13d83b6de268",
   "metadata": {},
   "outputs": [
    {
     "data": {
      "text/plain": [
       "Text(0.5, 1.0, 'Speedup')"
      ]
     },
     "execution_count": 53,
     "metadata": {},
     "output_type": "execute_result"
    },
    {
     "data": {
      "image/png": "[encoded data removed]",
      "text/plain": [
       "<Figure size 432x288 with 1 Axes>"
      ]
     },
     "metadata": {
      "needs_background": "light"
     },
     "output_type": "display_data"
    }
   ],
   "source": [
    "#plt.plot(1,510.036,color='r',marker='*',markersize=20)\n",
    "#plt.text(1.5,510.036,'<--- secuencial',color='r')\n",
    "plt.plot(df1['tiempos'], df1['sec']/df1['np'],color='b',marker='.',label='paralela v1',linestyle='dashed')\n",
    "#plt.plot(df2['np'], df2['tiempo'],color='g',marker='.',label='paralela v2')\n",
    "plt.ylabel(\"speedup\")\n",
    "plt.xlabel(\"num procesos\")\n",
    "plt.legend()\n",
    "plt.title(\"Speedup\")\n",
    "#plt.axis([0.5, 10.5, -0.1, maximo+0.5])"
   ]
  },
  {
   "cell_type": "code",
   "execution_count": 56,
   "id": "cf1f6b07-7081-4098-9ae8-01bda1bb0f43",
   "metadata": {},
   "outputs": [
    {
     "data": {
      "text/plain": [
       "Text(0.5, 1.0, 'Eficiencia')"
      ]
     },
     "execution_count": 56,
     "metadata": {},
     "output_type": "execute_result"
    },
    {
     "data": {
      "image/png": "[encoded data removed]",
      "text/plain": [
       "<Figure size 432x288 with 1 Axes>"
      ]
     },
     "metadata": {
      "needs_background": "light"
     },
     "output_type": "display_data"
    }
   ],
   "source": [
    "#plt.plot(1,510.036,color='r',marker='*',markersize=20)\n",
    "#plt.text(1.5,510.036,'<--- secuencial',color='r')\n",
    "plt.plot(df1['tiempos'], df1['sec']/(df1['np']*df1['tiempos']),color='b',marker='.',label='paralela v1',linestyle='dashed')\n",
    "#plt.plot(df2['np'], df2['tiempo'],color='g',marker='.',label='paralela v2')\n",
    "plt.ylabel(\"Eficiencia\")\n",
    "plt.xlabel(\"num procesos\")\n",
    "plt.legend()\n",
    "plt.title(\"Eficiencia\")\n",
    "#plt.axis([0.5, 10.5, -0.1, maximo+0.5])"
   ]
  }
 ],
 "metadata": {
  "kernelspec": {
   "display_name": "Python 3 (ipykernel)",
   "language": "python",
   "name": "python3"
  },
  "language_info": {
   "codemirror_mode": {
    "name": "ipython",
    "version": 3
   },
   "file_extension": ".py",
   "mimetype": "text/x-python",
   "name": "python",
   "nbconvert_exporter": "python",
   "pygments_lexer": "ipython3",
   "version": "3.8.5"
  }
 },
 "nbformat": 4,
 "nbformat_minor": 5
}
