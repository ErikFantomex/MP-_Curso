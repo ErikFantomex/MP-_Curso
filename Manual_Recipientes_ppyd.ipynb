{
  "nbformat": 4,
  "nbformat_minor": 0,
  "metadata": {
    "colab": {
      "provenance": [],
      "collapsed_sections": [
        "1YUp4D2dXMsV",
        "fUPfLJyTX9Pw",
        "I8xThFlFYZvz"
      ],
      "toc_visible": true,
      "include_colab_link": true
    },
    "kernelspec": {
      "display_name": "Python 3",
      "name": "python3"
    },
    "language_info": {
      "name": "python"
    }
  },
  "cells": [
    {
      "cell_type": "markdown",
      "metadata": {
        "id": "view-in-github",
        "colab_type": "text"
      },
      "source": [
        "<a href=\"https://colab.research.google.com/github/ErikFantomex/MPI_Curso/blob/master/Manual_Recipientes_ppyd.ipynb\" target=\"_parent\"><img src=\"https://colab.research.google.com/assets/colab-badge.svg\" alt=\"Open In Colab\"/></a>"
      ]
    },
    {
      "cell_type": "markdown",
      "metadata": {
        "id": "gUcpET90arNZ"
      },
      "source": [
        "# **Contando números primos**\n"
      ]
    },
    {
      "cell_type": "markdown",
      "metadata": {
        "id": "SwfSNMZoE-qg"
      },
      "source": [
        "## Código"
      ]
    },
    {
      "cell_type": "code",
      "metadata": {
        "colab": {
          "base_uri": "https://localhost:8080/"
        },
        "id": "-ADJC5DETo9j",
        "outputId": "52b2a3ad-f931-4f3a-8bf2-2d2bc8016e73"
      },
      "source": [
        "%%writefile contando_primos.cpp\n",
        "#include \"mpi.h\" \n",
        "#include<cstdio> \n",
        "#include<cstdlib> \n",
        "\n",
        "#define BLOCK_LOW(id,p,n) ((id)*(n)/(p))\n",
        "#define BLOCK_HIGH(id,p,n) (BLOCK_LOW((id)+1,p,n)-1)\n",
        "#define BLOCK_SIZE(id,p,n)(BLOCK_HIGH(id,p,n)-BLOCK_LOW(id,p,n)+1)\n",
        "\n",
        "int main(int argc, char **argv ) {      \n",
        "  MPI_Init( &argc , &argv); \n",
        "  int id, i, j, np, n, ind, gap, inicio, fin, num_elems_rango;\n",
        "\n",
        "  MPI_Comm_rank(MPI_COMM_WORLD, &id); \n",
        "  MPI_Comm_size(MPI_COMM_WORLD, &np); \n",
        "\n",
        "  n      = atoi(argv[1]);\n",
        "  inicio = BLOCK_LOW(id, np, n) + 1; // para que empiece en 1\n",
        "  fin    = BLOCK_HIGH(id, np, n) + 1;\n",
        "  num_elems_rango = BLOCK_SIZE(id, np, n);\n",
        "\n",
        "  int cantNumPrimos = 0;\n",
        "\n",
        "  if (inicio == 1) inicio++;  // Debe haber otra forma de arreglarlo.\n",
        "\n",
        "  for (int i = inicio; i < fin; i++) {\n",
        "      bool esPrimo = true;\n",
        "\n",
        "      for (int j = 2; j < i; j++) {\n",
        "          if (i % j == 0) {\n",
        "              esPrimo = false;\n",
        "\n",
        "              break;\n",
        "          }\n",
        "      }\n",
        "\n",
        "      if (esPrimo) {\n",
        "          std::cout << i << ' ';\n",
        "          cantNumPrimos++;\n",
        "      }\n",
        "  }\n",
        "\n",
        "  std::cout << \"\\nProcesador [\" << id << \"], rango (\" << inicio << \", \" << fin << \"), encontrados: \" << cantNumPrimos << std::endl;\n",
        " \n",
        "  MPI_Finalize(); \n",
        "} "
      ],
      "execution_count": null,
      "outputs": [
        {
          "name": "stdout",
          "output_type": "stream",
          "text": [
            "Writing contando_primos.cpp\n"
          ]
        }
      ]
    },
    {
      "cell_type": "markdown",
      "metadata": {
        "id": "PPqDEC03FV4T"
      },
      "source": [
        "## Bash"
      ]
    },
    {
      "cell_type": "code",
      "metadata": {
        "colab": {
          "base_uri": "https://localhost:8080/"
        },
        "id": "JQ3iOikIYTLa",
        "outputId": "332646e3-562a-4d47-cd57-1fca2ff31d39"
      },
      "source": [
        "%%script bash\n",
        "\n",
        "#!/bin/bash\n",
        "\n",
        "# PBS Job Script para uso de mpi\n",
        "\n",
        "#Modifique segun el numero de procesadores necesitados\n",
        "\n",
        "#PBS -l nodes=1:ppn=4\n",
        "\n",
        "#PBS -l walltime=00:10:00\n",
        "\n",
        "#PBS -N MPI\n",
        "\n",
        "#PBS -V\n",
        "\n",
        "#PBS -q batch\n",
        "\n",
        "#PBS -k eo\n",
        "\n",
        "##source /opt/intel/oneapi/setvars.sh\n",
        "\n",
        "mpicxx contando_primos.cpp -o contando_primos\n",
        "\n",
        "mpirun --allow-run-as-root -np 5 contando_primos 100"
      ],
      "execution_count": null,
      "outputs": [
        {
          "name": "stdout",
          "output_type": "stream",
          "text": [
            "23 29 31 37 \n",
            "Procesador [1], rango (21, 40), encontrados: 4\n",
            "83 89 97 \n",
            "Procesador [4], rango (81, 100), encontrados: 3\n",
            "41 43 47 53 59 \n",
            "61 67 71 73 79 \n",
            "Procesador [3], rango (61, 80), encontrados: 5\n",
            "2 3 5 7 11 13 17 19 \n",
            "Procesador [0], rango (2, 20), encontrados: 8\n",
            "Procesador [2], rango (41, 60), encontrados: 5\n"
          ]
        }
      ]
    },
    {
      "cell_type": "markdown",
      "metadata": {
        "id": "Hdb0qBQ-5Ox1"
      },
      "source": [
        "# **Total de Números Primos**"
      ]
    },
    {
      "cell_type": "markdown",
      "metadata": {
        "id": "dEvvoHVhgMgL"
      },
      "source": [
        "### Código"
      ]
    },
    {
      "cell_type": "code",
      "metadata": {
        "colab": {
          "base_uri": "https://localhost:8080/"
        },
        "id": "Sahnn9NU5a5y",
        "outputId": "eaa49ba2-6e94-4442-e3db-4e5b1a23271a"
      },
      "source": [
        "%%writefile total_num_primos.cpp\n",
        "#include \"mpi.h\"\n",
        "#include<cstdio> \n",
        "#include<cstdlib>\n",
        "#include<iostream>\n",
        "#include<cstring>\n",
        "\n",
        "#include<sys/time.h>\n",
        "\n",
        "using namespace std;\n",
        "\n",
        "#define BLOCK_LOW(id,p,n) ((id)*(n)/(p))\n",
        "#define BLOCK_HIGH(id,p,n) (BLOCK_LOW((id)+1,p,n)-1)\n",
        "#define BLOCK_SIZE(id,p,n)(BLOCK_HIGH(id,p,n)-BLOCK_LOW(id,p,n)+1)\n",
        "\n",
        "int main(int argc, char **argv) {      \n",
        "  MPI_Init( &argc , &argv); \n",
        "  int id, i, j, np, n, ind, inicio, fin, num_elems_rango, root = 0;\n",
        "\n",
        "  MPI_Comm_rank(MPI_COMM_WORLD, &id); \n",
        "  MPI_Comm_size(MPI_COMM_WORLD, &np); \n",
        "\n",
        "  n      = atoi(argv[1]);\n",
        "  inicio = BLOCK_LOW(id, np, n) + 1; // para que empiece en 1\n",
        "  fin    = BLOCK_HIGH(id, np, n) + 1;\n",
        "//  num_elems_rango = BLOCK_SIZE(id, np, n);\n",
        "\n",
        "  int cantNumPrimos = 0;\n",
        "\n",
        "  if (inicio == 1) inicio++;  // Debe haber otra forma de arreglarlo.\n",
        "\n",
        "  for (int i = inicio; i < fin; i++) {\n",
        "      bool esPrimo = true;\n",
        "\n",
        "      for (int j = 2; j < i; j++) {\n",
        "          if (i % j == 0) {\n",
        "              esPrimo = false;\n",
        "\n",
        "              break;\n",
        "          }\n",
        "      }\n",
        "\n",
        "      if (esPrimo) {\n",
        "          std::cout << i << ' ';\n",
        "          cantNumPrimos++;\n",
        "      }\n",
        "  }\n",
        "\n",
        "  cout << \"\\nProcesador [\" << id << \"], rango [\" << inicio << \", \" << fin << \"], encontrados: \" << cantNumPrimos << endl;\n",
        "\n",
        "  // Realizamos la transferencia de información al procesador 0 desde los demás.\n",
        "  MPI_Send(&cantNumPrimos, 1, MPI_INT, root, 9, MPI_COMM_WORLD);\n",
        "\n",
        "  if( id == root ){\n",
        "      int primosTotales = 0;\n",
        "      for( i = 0 ; i < np ; i++ ){\n",
        "          MPI_Recv(&cantNumPrimos, 1, MPI_INT, i, 9, MPI_COMM_WORLD, MPI_STATUS_IGNORE);\n",
        "          \n",
        "          primosTotales += cantNumPrimos;\n",
        "      }\n",
        "  \n",
        "    cout << \"\\nRango [1, \" << n << \"]\" << endl;\n",
        "    cout << \"Total de números primos: \" << primosTotales << endl;\n",
        "\n",
        "  }\n",
        " \n",
        "  MPI_Finalize(); \n",
        "} "
      ],
      "execution_count": null,
      "outputs": [
        {
          "name": "stdout",
          "output_type": "stream",
          "text": [
            "Writing total_num_primos.cpp\n"
          ]
        }
      ]
    },
    {
      "cell_type": "markdown",
      "metadata": {
        "id": "ffd6zQZIgHwj"
      },
      "source": [
        "### BASH"
      ]
    },
    {
      "cell_type": "code",
      "metadata": {
        "colab": {
          "base_uri": "https://localhost:8080/"
        },
        "id": "iRUY0XluAnSo",
        "outputId": "5c6a861f-4328-459e-ff07-588b3bb471fb"
      },
      "source": [
        "%%script bash\n",
        "\n",
        "#!/bin/bash\n",
        "\n",
        "# PBS Job Script para uso de mpi\n",
        "\n",
        "#Modifique segun el numero de procesadores necesitados\n",
        "\n",
        "#PBS -l nodes=1:ppn=4\n",
        "\n",
        "#PBS -l walltime=00:10:00\n",
        "\n",
        "#PBS -N MPI\n",
        "\n",
        "#PBS -V\n",
        "\n",
        "#PBS -q batch\n",
        "\n",
        "#PBS -k eo\n",
        "\n",
        "##source /opt/intel/oneapi/setvars.sh\n",
        "\n",
        "mpicxx total_num_primos.cpp -o total_primos\n",
        "\n",
        "mpirun --allow-run-as-root -np 5 total_primos 100"
      ],
      "execution_count": null,
      "outputs": [
        {
          "name": "stdout",
          "output_type": "stream",
          "text": [
            "2 3 5 7 11 13 17 19 \n",
            "Procesador [0], rango [2, 20], encontrados: 8\n",
            "23 29 31 37 \n",
            "61 67 71 73 79 \n",
            "Procesador [3], rango [61, 80], encontrados: 5\n",
            "41 43 47 53 59 \n",
            "Procesador [2], rango [41, 60], encontrados: 5\n",
            "Procesador [1], rango [21, 40], encontrados: 4\n",
            "83 89 97 \n",
            "Procesador [4], rango [81, 100], encontrados: 3\n",
            "\n",
            "Rango [1, 100]\n",
            "Total de números primos: 25\n"
          ]
        }
      ]
    },
    {
      "cell_type": "markdown",
      "metadata": {
        "id": "6LkzDOXdfcwL"
      },
      "source": [
        "# **Tarea 1 - 26/Ago/2021**"
      ]
    },
    {
      "cell_type": "markdown",
      "metadata": {
        "id": "l4yM4RjVgS9w"
      },
      "source": [
        "### *Código*"
      ]
    },
    {
      "cell_type": "code",
      "metadata": {
        "colab": {
          "base_uri": "https://localhost:8080/"
        },
        "id": "cewXuVjSsqwA",
        "outputId": "4a3dd47e-b767-4dc6-8add-e11dcb8716d5"
      },
      "source": [
        "%%writefile red_circular.cpp\n",
        "#include \"mpi.h\"\n",
        "#include <iostream>\n",
        "#include <cstring>\n",
        " \n",
        "using namespace std;\n",
        " \n",
        "int main( ) {\n",
        "    MPI_Init(NULL, NULL);\n",
        " \n",
        "    int cpu_ID, total_CPU;\n",
        "    char salida[100], entrada[100];\n",
        " \n",
        "    MPI_Comm_size(MPI_COMM_WORLD, &total_CPU);  // Número total de procesos.\n",
        "    MPI_Comm_rank(MPI_COMM_WORLD, &cpu_ID);     // Valor de nuestro identificador.\n",
        " \n",
        "    int root = 0;\n",
        "    int last = total_CPU - 1;\n",
        "    int next = cpu_ID + 1;\n",
        "    int prev = cpu_ID - 1;\n",
        " \n",
        "    if ( cpu_ID == root ) {\n",
        "        // Enviando el mensaje.\n",
        "        sprintf(salida, \"HOLA PROCESO [%d], ATENTAMENTE PROCESO [%d].\\n\", next, root);\n",
        "        MPI_Send(salida, strlen(salida) + 1, MPI_CHAR, next, root * 10 + 1, MPI_COMM_WORLD);\n",
        " \n",
        "        // Recibiendo el mensaje.\n",
        "        MPI_Recv(entrada, 100, MPI_CHAR, last, last * 10 + 1, MPI_COMM_WORLD, MPI_STATUS_IGNORE); \n",
        "        cout << \"Soy el proceso [\" << root << \"], recibí el mensaje:\\n\" << entrada;\n",
        " \n",
        "    } else if ( cpu_ID == last ) {\n",
        "        // Enviando el mensaje.\n",
        "        sprintf(salida, \"HOLA PROCESO [%d], ATENTAMENTE PROCESO [%d].\\n\", root, last);\n",
        "        MPI_Send(salida, strlen(salida) + 1, MPI_CHAR, root, last * 10 + 1, MPI_COMM_WORLD);\n",
        " \n",
        "        // Recibiendo el mensaje.\n",
        "        MPI_Recv(entrada, 100, MPI_CHAR, prev, prev * 10 + 1, MPI_COMM_WORLD, MPI_STATUS_IGNORE); \n",
        "        cout << \"Soy el proceso [\" << last << \"], recibí el mensaje:\\n\" << entrada;\n",
        " \n",
        "    } else {\n",
        "        // Enviando el mensaje.\n",
        "        sprintf(salida, \"HOLA PROCESO [%d], ATENTAMENTE PROCESO [%d].\\n\", next, cpu_ID);\n",
        "        MPI_Send(salida, strlen(salida) + 1, MPI_CHAR, next, cpu_ID * 10 + 1, MPI_COMM_WORLD);\n",
        " \n",
        "        // Recibiendo el mensaje.\n",
        "        MPI_Recv(entrada, 100, MPI_CHAR, prev, prev * 10 + 1, MPI_COMM_WORLD, MPI_STATUS_IGNORE); \n",
        "        cout << \"Soy el proceso [\" << cpu_ID << \"], recibí el mensaje:\\n\" << entrada;\n",
        " \n",
        "    }\n",
        "                            \n",
        "    MPI_Finalize(); \n",
        "    return 0;\n",
        "}"
      ],
      "execution_count": null,
      "outputs": [
        {
          "output_type": "stream",
          "name": "stdout",
          "text": [
            "Writing red_circular.cpp\n"
          ]
        }
      ]
    },
    {
      "cell_type": "markdown",
      "metadata": {
        "id": "eMdVKprzgfBo"
      },
      "source": [
        "### *Bash*"
      ]
    },
    {
      "cell_type": "code",
      "metadata": {
        "id": "TXA30xfqYfSp"
      },
      "source": [
        "%%script bash\n",
        "#!/bin/bash\n",
        "\n",
        "# PBS Job Script para uso de mpi\n",
        "\n",
        "#Modifique segun el numero de procesadores necesitados\n",
        "\n",
        "#PBS -l nodes=1:ppn=4\n",
        "\n",
        "#PBS -l walltime=00:10:00\n",
        "\n",
        "#PBS -N MPI\n",
        "\n",
        "#PBS -V\n",
        "\n",
        "#PBS -q batch\n",
        "\n",
        "#PBS -k eo\n",
        "\n",
        "##source /opt/intel/oneapi/setvars.sh\n",
        "\n",
        "mpicxx red_anillo.cpp -o red_anillo\n",
        "\n",
        "mpirun --allow-run-as-root -np 5 red_anillo"
      ],
      "execution_count": null,
      "outputs": []
    },
    {
      "cell_type": "markdown",
      "metadata": {
        "id": "fhD-gv3mfyYb"
      },
      "source": [
        "# **Tarea 2 **"
      ]
    },
    {
      "cell_type": "markdown",
      "metadata": {
        "id": "itIyVQyshNxz"
      },
      "source": [
        "### *Código - Versión 1*"
      ]
    },
    {
      "cell_type": "code",
      "metadata": {
        "colab": {
          "base_uri": "https://localhost:8080/"
        },
        "id": "bN7ZLWXMf5o_",
        "outputId": "31dfbc09-dd5b-4746-c917-f677b81e9035"
      },
      "source": [
        "%%writefile encontrando_primos_contrarreloj.cpp\n",
        "\n",
        "#include <iostream>\n",
        "#include <cstdlib>\n",
        "#include <cmath>\n",
        "#include \"mpi.h\"\n",
        "\n",
        "using std::cout;\n",
        "using std::endl;\n",
        "\n",
        "#define BLOCK_LOW(id,p,n) ((id)*(n)/(p))\n",
        "#define BLOCK_HIGH(id,p,n) (BLOCK_LOW((id)+1,p,n)-1)\n",
        "#define BLOCK_SIZE(id,p,n)(BLOCK_HIGH(id,p,n)-BLOCK_LOW(id,p,n)+1)\n",
        "\n",
        "int main(int argc, char **argv ) {      \n",
        "  MPI_Init( &argc , &argv); \n",
        "  int id, i, j, np, n, ind, inicio, fin, num_elems_rango, root = 0;\n",
        "  MPI_Comm_rank(MPI_COMM_WORLD, &id); \n",
        "  MPI_Comm_size(MPI_COMM_WORLD, &np); \n",
        "\n",
        "  n      = atoi(argv[1]);\n",
        "  inicio = BLOCK_LOW(id, np, n) + 1; // para que empiece en 1\n",
        "  fin    = BLOCK_HIGH(id, np, n) + 1;\n",
        "  num_elems_rango = BLOCK_SIZE(id, np, n);\n",
        "\n",
        "  int cantNumPrimos = 0;\n",
        "\n",
        "  // Comenzamos la medición del tiempo.\n",
        "  MPI_Barrier(MPI_COMM_WORLD);\n",
        "  double inicioTiempo = MPI_Wtime();\n",
        "\n",
        "  for (int i = (inicio == 1 ? 2 : inicio); i < fin; i++) {\n",
        "      bool esPrimo = true;\n",
        "\n",
        "      for (int j = 2; j < i; j++) {\n",
        "          if (i % j == 0) {\n",
        "              esPrimo = false;\n",
        "\n",
        "              break;\n",
        "          }\n",
        "      }\n",
        "\n",
        "      if (esPrimo) cantNumPrimos++;\n",
        "  }\n",
        "\n",
        "  // Transferimos cantNumPrimos desde los otros procesadores hacia root.\n",
        "  MPI_Send(&cantNumPrimos, 1, MPI_INT, root, 9, MPI_COMM_WORLD);\n",
        "\n",
        "  if ( id == root ) {\n",
        "    int primosTotales = 0;\n",
        "\n",
        "    for ( i = 0 ; i < np ; i++ ) {\n",
        "      MPI_Recv(&cantNumPrimos, 1, MPI_INT, i, 9, MPI_COMM_WORLD, MPI_STATUS_IGNORE);\n",
        "      primosTotales += cantNumPrimos;\n",
        "    }\n",
        "\n",
        "    // Finalizamos la medición del tiempo.\n",
        "    double finTiempo = MPI_Wtime();\n",
        "\n",
        "    double tiempoTotal = finTiempo - inicioTiempo;\n",
        "  \n",
        "    cout << \"Cantidad de procesadores: \" << np << endl;\n",
        "    cout << \"Rango [1, \" << n << \"]\" << endl;\n",
        "    cout << \"Total de números primos: \" << primosTotales << endl;\n",
        "    cout << \"Tiempo transcurrido: \" << tiempoTotal << \" segundos.\\n\" << endl;\n",
        "  }\n",
        " \n",
        "  MPI_Finalize(); \n",
        "}"
      ],
      "execution_count": null,
      "outputs": [
        {
          "output_type": "stream",
          "name": "stdout",
          "text": [
            "Overwriting encontrando_primos_contrarreloj.cpp\n"
          ]
        }
      ]
    },
    {
      "cell_type": "markdown",
      "metadata": {
        "id": "gCnJoDT6hSdg"
      },
      "source": [
        "### *Bash - Versión 1*"
      ]
    },
    {
      "cell_type": "code",
      "metadata": {
        "id": "-36BfMb7hW7U",
        "colab": {
          "base_uri": "https://localhost:8080/",
          "height": 640
        },
        "outputId": "ad3cd443-d339-4966-aff9-18dbd9afcee9"
      },
      "source": [
        "%%script bash\n",
        "\n",
        "#!/bin/bash\n",
        "\n",
        "#PBS Job Script para uso de MPI\n",
        "\n",
        "#Modifique según el número de procesadores necesitados\n",
        "\n",
        "#PBS -l nodes=1:ppn=4\n",
        "#PBS -l walltime=00:10:00\n",
        "#PBS -N MPI\n",
        "#PBS -V\n",
        "#PBS -q batch\n",
        "#PBS -k eo\n",
        "\n",
        "##source /opt/intel/oneapi/setvars.sh\n",
        "\n",
        "mpicxx encontrando_primos_contrarreloj.cpp -o encontrando_primos_contrarreloj\n",
        "\n",
        "\n",
        "  mpirun --allow-run-as-root -np $2 encontrando_primos_contrarreloj 2000\n"
      ],
      "execution_count": null,
      "outputs": [
        {
          "output_type": "stream",
          "name": "stderr",
          "text": [
            "----------------------------------------------------------------------------\n",
            "Open MPI has detected that a parameter given to a command line\n",
            "option does not match the expected format:\n",
            "\n",
            "  Option: np\n",
            "  Param:  encontrando_primos_contrarreloj\n",
            "\n",
            "This is frequently caused by omitting to provide the parameter\n",
            "to an option that requires one. Please check the command line and try again.\n",
            "----------------------------------------------------------------------------\n"
          ]
        },
        {
          "output_type": "error",
          "ename": "CalledProcessError",
          "evalue": "ignored",
          "traceback": [
            "\u001b[0;31m---------------------------------------------------------------------------\u001b[0m",
            "\u001b[0;31mCalledProcessError\u001b[0m                        Traceback (most recent call last)",
            "\u001b[0;32m<ipython-input-17-e51b457063fc>\u001b[0m in \u001b[0;36m<module>\u001b[0;34m\u001b[0m\n\u001b[0;32m----> 1\u001b[0;31m \u001b[0mget_ipython\u001b[0m\u001b[0;34m(\u001b[0m\u001b[0;34m)\u001b[0m\u001b[0;34m.\u001b[0m\u001b[0mrun_cell_magic\u001b[0m\u001b[0;34m(\u001b[0m\u001b[0;34m'script'\u001b[0m\u001b[0;34m,\u001b[0m \u001b[0;34m'bash'\u001b[0m\u001b[0;34m,\u001b[0m \u001b[0;34m'\\n#!/bin/bash\\n\\n#PBS Job Script para uso de MPI\\n\\n#Modifique según el número de procesadores necesitados\\n\\n#PBS -l nodes=1:ppn=4\\n#PBS -l walltime=00:10:00\\n#PBS -N MPI\\n#PBS -V\\n#PBS -q batch\\n#PBS -k eo\\n\\n##source /opt/intel/oneapi/setvars.sh\\n\\nmpicxx encontrando_primos_contrarreloj.cpp -o encontrando_primos_contrarreloj\\n\\n\\n  mpirun --allow-run-as-root -np $2 encontrando_primos_contrarreloj 2000\\n'\u001b[0m\u001b[0;34m)\u001b[0m\u001b[0;34m\u001b[0m\u001b[0;34m\u001b[0m\u001b[0m\n\u001b[0m",
            "\u001b[0;32m/usr/local/lib/python3.7/dist-packages/IPython/core/interactiveshell.py\u001b[0m in \u001b[0;36mrun_cell_magic\u001b[0;34m(self, magic_name, line, cell)\u001b[0m\n\u001b[1;32m   2357\u001b[0m             \u001b[0;32mwith\u001b[0m \u001b[0mself\u001b[0m\u001b[0;34m.\u001b[0m\u001b[0mbuiltin_trap\u001b[0m\u001b[0;34m:\u001b[0m\u001b[0;34m\u001b[0m\u001b[0;34m\u001b[0m\u001b[0m\n\u001b[1;32m   2358\u001b[0m                 \u001b[0margs\u001b[0m \u001b[0;34m=\u001b[0m \u001b[0;34m(\u001b[0m\u001b[0mmagic_arg_s\u001b[0m\u001b[0;34m,\u001b[0m \u001b[0mcell\u001b[0m\u001b[0;34m)\u001b[0m\u001b[0;34m\u001b[0m\u001b[0;34m\u001b[0m\u001b[0m\n\u001b[0;32m-> 2359\u001b[0;31m                 \u001b[0mresult\u001b[0m \u001b[0;34m=\u001b[0m \u001b[0mfn\u001b[0m\u001b[0;34m(\u001b[0m\u001b[0;34m*\u001b[0m\u001b[0margs\u001b[0m\u001b[0;34m,\u001b[0m \u001b[0;34m**\u001b[0m\u001b[0mkwargs\u001b[0m\u001b[0;34m)\u001b[0m\u001b[0;34m\u001b[0m\u001b[0;34m\u001b[0m\u001b[0m\n\u001b[0m\u001b[1;32m   2360\u001b[0m             \u001b[0;32mreturn\u001b[0m \u001b[0mresult\u001b[0m\u001b[0;34m\u001b[0m\u001b[0;34m\u001b[0m\u001b[0m\n\u001b[1;32m   2361\u001b[0m \u001b[0;34m\u001b[0m\u001b[0m\n",
            "\u001b[0;32m<decorator-gen-103>\u001b[0m in \u001b[0;36mshebang\u001b[0;34m(self, line, cell)\u001b[0m\n",
            "\u001b[0;32m/usr/local/lib/python3.7/dist-packages/IPython/core/magic.py\u001b[0m in \u001b[0;36m<lambda>\u001b[0;34m(f, *a, **k)\u001b[0m\n\u001b[1;32m    185\u001b[0m     \u001b[0;31m# but it's overkill for just that one bit of state.\u001b[0m\u001b[0;34m\u001b[0m\u001b[0;34m\u001b[0m\u001b[0;34m\u001b[0m\u001b[0m\n\u001b[1;32m    186\u001b[0m     \u001b[0;32mdef\u001b[0m \u001b[0mmagic_deco\u001b[0m\u001b[0;34m(\u001b[0m\u001b[0marg\u001b[0m\u001b[0;34m)\u001b[0m\u001b[0;34m:\u001b[0m\u001b[0;34m\u001b[0m\u001b[0;34m\u001b[0m\u001b[0m\n\u001b[0;32m--> 187\u001b[0;31m         \u001b[0mcall\u001b[0m \u001b[0;34m=\u001b[0m \u001b[0;32mlambda\u001b[0m \u001b[0mf\u001b[0m\u001b[0;34m,\u001b[0m \u001b[0;34m*\u001b[0m\u001b[0ma\u001b[0m\u001b[0;34m,\u001b[0m \u001b[0;34m**\u001b[0m\u001b[0mk\u001b[0m\u001b[0;34m:\u001b[0m \u001b[0mf\u001b[0m\u001b[0;34m(\u001b[0m\u001b[0;34m*\u001b[0m\u001b[0ma\u001b[0m\u001b[0;34m,\u001b[0m \u001b[0;34m**\u001b[0m\u001b[0mk\u001b[0m\u001b[0;34m)\u001b[0m\u001b[0;34m\u001b[0m\u001b[0;34m\u001b[0m\u001b[0m\n\u001b[0m\u001b[1;32m    188\u001b[0m \u001b[0;34m\u001b[0m\u001b[0m\n\u001b[1;32m    189\u001b[0m         \u001b[0;32mif\u001b[0m \u001b[0mcallable\u001b[0m\u001b[0;34m(\u001b[0m\u001b[0marg\u001b[0m\u001b[0;34m)\u001b[0m\u001b[0;34m:\u001b[0m\u001b[0;34m\u001b[0m\u001b[0;34m\u001b[0m\u001b[0m\n",
            "\u001b[0;32m/usr/local/lib/python3.7/dist-packages/IPython/core/magics/script.py\u001b[0m in \u001b[0;36mshebang\u001b[0;34m(self, line, cell)\u001b[0m\n\u001b[1;32m    243\u001b[0m             \u001b[0msys\u001b[0m\u001b[0;34m.\u001b[0m\u001b[0mstderr\u001b[0m\u001b[0;34m.\u001b[0m\u001b[0mflush\u001b[0m\u001b[0;34m(\u001b[0m\u001b[0;34m)\u001b[0m\u001b[0;34m\u001b[0m\u001b[0;34m\u001b[0m\u001b[0m\n\u001b[1;32m    244\u001b[0m         \u001b[0;32mif\u001b[0m \u001b[0margs\u001b[0m\u001b[0;34m.\u001b[0m\u001b[0mraise_error\u001b[0m \u001b[0;32mand\u001b[0m \u001b[0mp\u001b[0m\u001b[0;34m.\u001b[0m\u001b[0mreturncode\u001b[0m\u001b[0;34m!=\u001b[0m\u001b[0;36m0\u001b[0m\u001b[0;34m:\u001b[0m\u001b[0;34m\u001b[0m\u001b[0;34m\u001b[0m\u001b[0m\n\u001b[0;32m--> 245\u001b[0;31m             \u001b[0;32mraise\u001b[0m \u001b[0mCalledProcessError\u001b[0m\u001b[0;34m(\u001b[0m\u001b[0mp\u001b[0m\u001b[0;34m.\u001b[0m\u001b[0mreturncode\u001b[0m\u001b[0;34m,\u001b[0m \u001b[0mcell\u001b[0m\u001b[0;34m,\u001b[0m \u001b[0moutput\u001b[0m\u001b[0;34m=\u001b[0m\u001b[0mout\u001b[0m\u001b[0;34m,\u001b[0m \u001b[0mstderr\u001b[0m\u001b[0;34m=\u001b[0m\u001b[0merr\u001b[0m\u001b[0;34m)\u001b[0m\u001b[0;34m\u001b[0m\u001b[0;34m\u001b[0m\u001b[0m\n\u001b[0m\u001b[1;32m    246\u001b[0m \u001b[0;34m\u001b[0m\u001b[0m\n\u001b[1;32m    247\u001b[0m     \u001b[0;32mdef\u001b[0m \u001b[0m_run_script\u001b[0m\u001b[0;34m(\u001b[0m\u001b[0mself\u001b[0m\u001b[0;34m,\u001b[0m \u001b[0mp\u001b[0m\u001b[0;34m,\u001b[0m \u001b[0mcell\u001b[0m\u001b[0;34m,\u001b[0m \u001b[0mto_close\u001b[0m\u001b[0;34m)\u001b[0m\u001b[0;34m:\u001b[0m\u001b[0;34m\u001b[0m\u001b[0;34m\u001b[0m\u001b[0m\n",
            "\u001b[0;31mCalledProcessError\u001b[0m: Command 'b'\\n#!/bin/bash\\n\\n#PBS Job Script para uso de MPI\\n\\n#Modifique seg\\xc3\\xban el n\\xc3\\xbamero de procesadores necesitados\\n\\n#PBS -l nodes=1:ppn=4\\n#PBS -l walltime=00:10:00\\n#PBS -N MPI\\n#PBS -V\\n#PBS -q batch\\n#PBS -k eo\\n\\n##source /opt/intel/oneapi/setvars.sh\\n\\nmpicxx encontrando_primos_contrarreloj.cpp -o encontrando_primos_contrarreloj\\n\\n\\n  mpirun --allow-run-as-root -np $2 encontrando_primos_contrarreloj 2000\\n'' returned non-zero exit status 213."
          ]
        }
      ]
    },
    {
      "cell_type": "markdown",
      "metadata": {
        "id": "To8VkW8dJtuW"
      },
      "source": [
        "### *Código - Versión 2*"
      ]
    },
    {
      "cell_type": "code",
      "metadata": {
        "cellView": "code",
        "colab": {
          "base_uri": "https://localhost:8080/"
        },
        "id": "dqwo4jfmJtL6",
        "outputId": "68dd83c5-611a-4cda-9bbe-b1cbbe5c1ca0"
      },
      "source": [
        "%%writefile encontrando_primos_contrarreloj_02.cpp\n",
        "\n",
        "#include <iostream>\n",
        "#include <cstdlib>\n",
        "#include \"mpi.h\"\n",
        "\n",
        "using std::cout;\n",
        "using std::endl;\n",
        "\n",
        "#define BLOCK_LOW(id,p,n) ((id)*(n)/(p))\n",
        "#define BLOCK_HIGH(id,p,n) (BLOCK_LOW((id)+1,p,n)-1)\n",
        "#define BLOCK_SIZE(id,p,n)(BLOCK_HIGH(id,p,n)-BLOCK_LOW(id,p,n)+1)\n",
        "\n",
        "int main(int argc, char **argv ) {      \n",
        "  MPI_Init( &argc , &argv); \n",
        "  int id, i, j, np, n, ind, inicio, fin, num_elems_rango, root = 0;\n",
        "\n",
        "  MPI_Comm_rank(MPI_COMM_WORLD, &id); \n",
        "  MPI_Comm_size(MPI_COMM_WORLD, &np); \n",
        "\n",
        "  n      = atoi(argv[1]);\n",
        "  inicio = BLOCK_LOW(id, np, n) + 1; // para que empiece en 1\n",
        "  fin    = BLOCK_HIGH(id, np, n) + 1;\n",
        "  num_elems_rango = BLOCK_SIZE(id, np, n);\n",
        "\n",
        "  int cantNumPrimos = 0;\n",
        "\n",
        "  // Comenzamos la medición del tiempo.\n",
        "  MPI_Barrier(MPI_COMM_WORLD);\n",
        "  double inicioTiempo = MPI_Wtime();\n",
        "\n",
        "  for (int i = (inicio == 1 ? 2 : inicio); i < fin; i++) {\n",
        "      bool esPrimo = true;\n",
        "\n",
        "      for (int j = 2; j < i; j++) {\n",
        "          if (i % j == 0) {\n",
        "              esPrimo = false;\n",
        "\n",
        "              break;\n",
        "          }\n",
        "      }\n",
        "\n",
        "      if (esPrimo) cantNumPrimos++;\n",
        "  }\n",
        "\n",
        "  // Transferimos cantNumPrimos desde los otros procesadores hacia root.\n",
        "  int numPrimosTotales = 0;\n",
        "  MPI_Reduce(&cantNumPrimos, &numPrimosTotales, 1, MPI_INT, MPI_SUM, root, MPI_COMM_WORLD);\n",
        "\n",
        "  if ( id == root ) {\n",
        "    // Finalizamos la medición del tiempo.\n",
        "    double finTiempo = MPI_Wtime();\n",
        "\n",
        "    double tiempoTotal = finTiempo - inicioTiempo;\n",
        "\n",
        "    cout << \"Cantidad de procesadores: \" << np << endl;\n",
        "    cout << \"Rango [1, \" << n << \"]\" << endl;\n",
        "    cout << \"Total de números primos: \" << numPrimosTotales << endl;\n",
        "    cout << \"Tiempo transcurrido: \" << tiempoTotal << \" segundos.\\n\" << endl;\n",
        "  }\n",
        " \n",
        "  MPI_Finalize(); \n",
        "}"
      ],
      "execution_count": null,
      "outputs": [
        {
          "output_type": "stream",
          "name": "stdout",
          "text": [
            "Writing encontrando_primos_contrarreloj_02.cpp\n"
          ]
        }
      ]
    },
    {
      "cell_type": "markdown",
      "metadata": {
        "id": "Pn_L3AvKJ1PP"
      },
      "source": [
        "### *Bash - Versión 2*"
      ]
    },
    {
      "cell_type": "code",
      "metadata": {
        "colab": {
          "base_uri": "https://localhost:8080/"
        },
        "id": "euDGBaH4J5Ws",
        "outputId": "6da5e01d-a492-4f91-f662-bce0a970fca4"
      },
      "source": [
        "%%script bash\n",
        "\n",
        "#!/bin/bash\n",
        "\n",
        "# PBS Job Script para uso de mpi\n",
        "\n",
        "#Modifique segun el numero de procesadores necesitados\n",
        "\n",
        "#PBS -l nodes=1:ppn=4\n",
        "#PBS -l walltime=00:10:00\n",
        "#PBS -N MPI\n",
        "#PBS -V\n",
        "#PBS -q batch\n",
        "#PBS -k eo\n",
        "\n",
        "##source /opt/intel/oneapi/setvars.sh\n",
        "\n",
        "mpicxx encontrando_primos_contrarreloj_02.cpp -o encontrando_primos_contrarreloj_02\n",
        "\n",
        "max_procesadores=6\n",
        "\n",
        "for ((i = 1; i <= $max_procesadores; ++i)); do\n",
        "  mpirun --allow-run-as-root -np 1 encontrando_primos_contrarreloj_02 2100\n",
        "done"
      ],
      "execution_count": null,
      "outputs": [
        {
          "output_type": "stream",
          "name": "stdout",
          "text": [
            "Cantidad de procesadores: 1\n",
            "Rango [1, 2100]\n",
            "Total de números primos: 317\n",
            "Tiempo transcurrido: 0.00124448 segundos.\n",
            "\n",
            "Cantidad de procesadores: 1\n",
            "Rango [1, 2100]\n",
            "Total de números primos: 317\n",
            "Tiempo transcurrido: 0.00113722 segundos.\n",
            "\n",
            "Cantidad de procesadores: 1\n",
            "Rango [1, 2100]\n",
            "Total de números primos: 317\n",
            "Tiempo transcurrido: 0.00113539 segundos.\n",
            "\n",
            "Cantidad de procesadores: 1\n",
            "Rango [1, 2100]\n",
            "Total de números primos: 317\n",
            "Tiempo transcurrido: 0.00123956 segundos.\n",
            "\n",
            "Cantidad de procesadores: 1\n",
            "Rango [1, 2100]\n",
            "Total de números primos: 317\n",
            "Tiempo transcurrido: 0.00116517 segundos.\n",
            "\n",
            "Cantidad de procesadores: 1\n",
            "Rango [1, 2100]\n",
            "Total de números primos: 317\n",
            "Tiempo transcurrido: 0.0011314 segundos.\n",
            "\n"
          ]
        }
      ]
    },
    {
      "cell_type": "markdown",
      "metadata": {
        "id": "kTQ-bsa1P-J1"
      },
      "source": [
        "### *Código - Versión 3*"
      ]
    },
    {
      "cell_type": "code",
      "metadata": {
        "colab": {
          "base_uri": "https://localhost:8080/"
        },
        "id": "kIWsFg0lQE0t",
        "outputId": "60db9299-33ce-42fb-cfa9-77ad720bf49c"
      },
      "source": [
        "%%writefile encontrando_primos_secuencial.c\n",
        "\n",
        "#include <stdio.h>\n",
        "#include <stdlib.h>\n",
        "#include <time.h>\n",
        "#include <sys/time.h>\n",
        "\n",
        "\n",
        "float dt(struct t *inicio, struct t *final) {\n",
        "  return (final->tv_sec - inicio->tv_sec) + 1e-6*(final->tv_usec - inicio->tv_usec);\n",
        "}\n",
        "\n",
        "int main(int argc, char **argv ) {\n",
        "      \n",
        "    int i,j,bandera;\n",
        "    int n = atoi(argv[1]);\n",
        "    time_t comienzo = time(NULL);  \n",
        "    \n",
        "    struct t inicio;\n",
        "    struct t final;    \n",
        "\n",
        "    gettimeofday(&inicio, NULL);\n",
        "\n",
        "    int evaluacion = 0;\n",
        "    for(i = 2; i <= n; i++){\n",
        "      bandera = 0;\n",
        "      for(j = 2; j<= i/2; j++){\n",
        "        if(i%j == 0){\n",
        "          bandera = 1;\n",
        "            break;\n",
        "        }\n",
        "      }\n",
        "      if(bandera == 0){\n",
        "        evaluacion++;\n",
        "      }\n",
        "    }           \n",
        "  printf (\"Total de números primos: %d \\n\" ,evaluacion);\n",
        "  gettimeofday(&final,NULL); // Tiempo\n",
        "  printf (\"Tiempo transcurrido en segundos:\", dt(&inicio,&final));\n",
        "  \n",
        "  return 0;\n",
        "\n",
        "}"
      ],
      "execution_count": null,
      "outputs": [
        {
          "output_type": "stream",
          "name": "stdout",
          "text": [
            "Writing encontrando_primos_secuencial.c\n"
          ]
        }
      ]
    },
    {
      "cell_type": "code",
      "source": [
        "#!/bin/bash\n",
        "\n",
        "#SBATCH --nodes=1\n",
        "#SBATCH --ntasks-per-node=3\n",
        "#SBATCH --job-name=Abraham\n",
        "#SBATCH --time=4:00:00\n",
        "#SBATCH --constraint=broadwell\n",
        "#SBATCH --partition=general\n",
        "\n",
        "module load intel/oneAPI-2021\n",
        "\n",
        "echo \"VERSION SECUENCIAL\"\n",
        "echo \"n=2M\"\n",
        "gcc Primos_Secuencial.c  -o Primos\n",
        "./Primos 2000000"
      ],
      "metadata": {
        "colab": {
          "base_uri": "https://localhost:8080/",
          "height": 979
        },
        "id": "jZ-6OneV5mw0",
        "outputId": "bb07e000-e2f6-4db5-b021-3284f755436a"
      },
      "execution_count": null,
      "outputs": [
        {
          "output_type": "stream",
          "name": "stderr",
          "text": [
            "encontrando_primos_secuencial.c: In function ‘float dt(t*, t*)’:\n",
            "encontrando_primos_secuencial.c:9:16: error: invalid use of incomplete type ‘struct t’\n",
            "   return (final->tv_sec - inicio->tv_sec) + 1e-6*(final->tv_usec - inicio->tv_usec);\n",
            "                ^~\n",
            "encontrando_primos_secuencial.c:8:17: note: forward declaration of ‘struct t’\n",
            " float dt(struct t *inicio, struct t *final) {\n",
            "                 ^\n",
            "encontrando_primos_secuencial.c:9:33: error: invalid use of incomplete type ‘struct t’\n",
            "   return (final->tv_sec - inicio->tv_sec) + 1e-6*(final->tv_usec - inicio->tv_usec);\n",
            "                                 ^~\n",
            "encontrando_primos_secuencial.c:8:17: note: forward declaration of ‘struct t’\n",
            " float dt(struct t *inicio, struct t *final) {\n",
            "                 ^\n",
            "encontrando_primos_secuencial.c:9:56: error: invalid use of incomplete type ‘struct t’\n",
            "   return (final->tv_sec - inicio->tv_sec) + 1e-6*(final->tv_usec - inicio->tv_usec);\n",
            "                                                        ^~\n",
            "encontrando_primos_secuencial.c:8:17: note: forward declaration of ‘struct t’\n",
            " float dt(struct t *inicio, struct t *final) {\n",
            "                 ^\n",
            "encontrando_primos_secuencial.c:9:74: error: invalid use of incomplete type ‘struct t’\n",
            "   return (final->tv_sec - inicio->tv_sec) + 1e-6*(final->tv_usec - inicio->tv_usec);\n",
            "                                                                          ^~\n",
            "encontrando_primos_secuencial.c:8:17: note: forward declaration of ‘struct t’\n",
            " float dt(struct t *inicio, struct t *final) {\n",
            "                 ^\n",
            "encontrando_primos_secuencial.c: In function ‘int main(int, char**)’:\n",
            "encontrando_primos_secuencial.c:18:14: error: aggregate ‘t inicio’ has incomplete type and cannot be defined\n",
            "     struct t inicio;\n",
            "              ^~~~~~\n",
            "encontrando_primos_secuencial.c:19:14: error: aggregate ‘t final’ has incomplete type and cannot be defined\n",
            "     struct t final;\n",
            "              ^~~~~\n",
            "bash: line 2: ./encontrando_primos_secuencial: No such file or directory\n"
          ]
        },
        {
          "output_type": "error",
          "ename": "CalledProcessError",
          "evalue": "ignored",
          "traceback": [
            "\u001b[0;31m---------------------------------------------------------------------------\u001b[0m",
            "\u001b[0;31mCalledProcessError\u001b[0m                        Traceback (most recent call last)",
            "\u001b[0;32m<ipython-input-13-f93c140887cd>\u001b[0m in \u001b[0;36m<module>\u001b[0;34m\u001b[0m\n\u001b[0;32m----> 1\u001b[0;31m \u001b[0mget_ipython\u001b[0m\u001b[0;34m(\u001b[0m\u001b[0;34m)\u001b[0m\u001b[0;34m.\u001b[0m\u001b[0mrun_cell_magic\u001b[0m\u001b[0;34m(\u001b[0m\u001b[0;34m'script'\u001b[0m\u001b[0;34m,\u001b[0m \u001b[0;34m'bash'\u001b[0m\u001b[0;34m,\u001b[0m \u001b[0;34m'g++ encontrando_primos_secuencial.c -o encontrando_primos_secuencial\\n./encontrando_primos_secuencial 2000000\\n'\u001b[0m\u001b[0;34m)\u001b[0m\u001b[0;34m\u001b[0m\u001b[0;34m\u001b[0m\u001b[0m\n\u001b[0m",
            "\u001b[0;32m/usr/local/lib/python3.7/dist-packages/IPython/core/interactiveshell.py\u001b[0m in \u001b[0;36mrun_cell_magic\u001b[0;34m(self, magic_name, line, cell)\u001b[0m\n\u001b[1;32m   2357\u001b[0m             \u001b[0;32mwith\u001b[0m \u001b[0mself\u001b[0m\u001b[0;34m.\u001b[0m\u001b[0mbuiltin_trap\u001b[0m\u001b[0;34m:\u001b[0m\u001b[0;34m\u001b[0m\u001b[0;34m\u001b[0m\u001b[0m\n\u001b[1;32m   2358\u001b[0m                 \u001b[0margs\u001b[0m \u001b[0;34m=\u001b[0m \u001b[0;34m(\u001b[0m\u001b[0mmagic_arg_s\u001b[0m\u001b[0;34m,\u001b[0m \u001b[0mcell\u001b[0m\u001b[0;34m)\u001b[0m\u001b[0;34m\u001b[0m\u001b[0;34m\u001b[0m\u001b[0m\n\u001b[0;32m-> 2359\u001b[0;31m                 \u001b[0mresult\u001b[0m \u001b[0;34m=\u001b[0m \u001b[0mfn\u001b[0m\u001b[0;34m(\u001b[0m\u001b[0;34m*\u001b[0m\u001b[0margs\u001b[0m\u001b[0;34m,\u001b[0m \u001b[0;34m**\u001b[0m\u001b[0mkwargs\u001b[0m\u001b[0;34m)\u001b[0m\u001b[0;34m\u001b[0m\u001b[0;34m\u001b[0m\u001b[0m\n\u001b[0m\u001b[1;32m   2360\u001b[0m             \u001b[0;32mreturn\u001b[0m \u001b[0mresult\u001b[0m\u001b[0;34m\u001b[0m\u001b[0;34m\u001b[0m\u001b[0m\n\u001b[1;32m   2361\u001b[0m \u001b[0;34m\u001b[0m\u001b[0m\n",
            "\u001b[0;32m<decorator-gen-103>\u001b[0m in \u001b[0;36mshebang\u001b[0;34m(self, line, cell)\u001b[0m\n",
            "\u001b[0;32m/usr/local/lib/python3.7/dist-packages/IPython/core/magic.py\u001b[0m in \u001b[0;36m<lambda>\u001b[0;34m(f, *a, **k)\u001b[0m\n\u001b[1;32m    185\u001b[0m     \u001b[0;31m# but it's overkill for just that one bit of state.\u001b[0m\u001b[0;34m\u001b[0m\u001b[0;34m\u001b[0m\u001b[0;34m\u001b[0m\u001b[0m\n\u001b[1;32m    186\u001b[0m     \u001b[0;32mdef\u001b[0m \u001b[0mmagic_deco\u001b[0m\u001b[0;34m(\u001b[0m\u001b[0marg\u001b[0m\u001b[0;34m)\u001b[0m\u001b[0;34m:\u001b[0m\u001b[0;34m\u001b[0m\u001b[0;34m\u001b[0m\u001b[0m\n\u001b[0;32m--> 187\u001b[0;31m         \u001b[0mcall\u001b[0m \u001b[0;34m=\u001b[0m \u001b[0;32mlambda\u001b[0m \u001b[0mf\u001b[0m\u001b[0;34m,\u001b[0m \u001b[0;34m*\u001b[0m\u001b[0ma\u001b[0m\u001b[0;34m,\u001b[0m \u001b[0;34m**\u001b[0m\u001b[0mk\u001b[0m\u001b[0;34m:\u001b[0m \u001b[0mf\u001b[0m\u001b[0;34m(\u001b[0m\u001b[0;34m*\u001b[0m\u001b[0ma\u001b[0m\u001b[0;34m,\u001b[0m \u001b[0;34m**\u001b[0m\u001b[0mk\u001b[0m\u001b[0;34m)\u001b[0m\u001b[0;34m\u001b[0m\u001b[0;34m\u001b[0m\u001b[0m\n\u001b[0m\u001b[1;32m    188\u001b[0m \u001b[0;34m\u001b[0m\u001b[0m\n\u001b[1;32m    189\u001b[0m         \u001b[0;32mif\u001b[0m \u001b[0mcallable\u001b[0m\u001b[0;34m(\u001b[0m\u001b[0marg\u001b[0m\u001b[0;34m)\u001b[0m\u001b[0;34m:\u001b[0m\u001b[0;34m\u001b[0m\u001b[0;34m\u001b[0m\u001b[0m\n",
            "\u001b[0;32m/usr/local/lib/python3.7/dist-packages/IPython/core/magics/script.py\u001b[0m in \u001b[0;36mshebang\u001b[0;34m(self, line, cell)\u001b[0m\n\u001b[1;32m    243\u001b[0m             \u001b[0msys\u001b[0m\u001b[0;34m.\u001b[0m\u001b[0mstderr\u001b[0m\u001b[0;34m.\u001b[0m\u001b[0mflush\u001b[0m\u001b[0;34m(\u001b[0m\u001b[0;34m)\u001b[0m\u001b[0;34m\u001b[0m\u001b[0;34m\u001b[0m\u001b[0m\n\u001b[1;32m    244\u001b[0m         \u001b[0;32mif\u001b[0m \u001b[0margs\u001b[0m\u001b[0;34m.\u001b[0m\u001b[0mraise_error\u001b[0m \u001b[0;32mand\u001b[0m \u001b[0mp\u001b[0m\u001b[0;34m.\u001b[0m\u001b[0mreturncode\u001b[0m\u001b[0;34m!=\u001b[0m\u001b[0;36m0\u001b[0m\u001b[0;34m:\u001b[0m\u001b[0;34m\u001b[0m\u001b[0;34m\u001b[0m\u001b[0m\n\u001b[0;32m--> 245\u001b[0;31m             \u001b[0;32mraise\u001b[0m \u001b[0mCalledProcessError\u001b[0m\u001b[0;34m(\u001b[0m\u001b[0mp\u001b[0m\u001b[0;34m.\u001b[0m\u001b[0mreturncode\u001b[0m\u001b[0;34m,\u001b[0m \u001b[0mcell\u001b[0m\u001b[0;34m,\u001b[0m \u001b[0moutput\u001b[0m\u001b[0;34m=\u001b[0m\u001b[0mout\u001b[0m\u001b[0;34m,\u001b[0m \u001b[0mstderr\u001b[0m\u001b[0;34m=\u001b[0m\u001b[0merr\u001b[0m\u001b[0;34m)\u001b[0m\u001b[0;34m\u001b[0m\u001b[0;34m\u001b[0m\u001b[0m\n\u001b[0m\u001b[1;32m    246\u001b[0m \u001b[0;34m\u001b[0m\u001b[0m\n\u001b[1;32m    247\u001b[0m     \u001b[0;32mdef\u001b[0m \u001b[0m_run_script\u001b[0m\u001b[0;34m(\u001b[0m\u001b[0mself\u001b[0m\u001b[0;34m,\u001b[0m \u001b[0mp\u001b[0m\u001b[0;34m,\u001b[0m \u001b[0mcell\u001b[0m\u001b[0;34m,\u001b[0m \u001b[0mto_close\u001b[0m\u001b[0;34m)\u001b[0m\u001b[0;34m:\u001b[0m\u001b[0;34m\u001b[0m\u001b[0;34m\u001b[0m\u001b[0m\n",
            "\u001b[0;31mCalledProcessError\u001b[0m: Command 'b'g++ encontrando_primos_secuencial.c -o encontrando_primos_secuencial\\n./encontrando_primos_secuencial 2000000\\n'' returned non-zero exit status 127."
          ]
        }
      ]
    },
    {
      "cell_type": "code",
      "source": [
        "#!/bin/bash\n",
        "\n",
        "#SBATCH --nodes=1\n",
        "#SBATCH --ntasks-per-node=3\n",
        "#SBATCH --job-name=Abraham\n",
        "#SBATCH --time=4:00:00\n",
        "#SBATCH --constraint=broadwell\n",
        "#SBATCH --partition=general\n",
        "\n",
        "module load intel/oneAPI-2021\n",
        "\n",
        "echo \"VERSION SECUENCIAL\"\n",
        "echo \"n=2M\"\n",
        "gcc Primos_Secuencial.c  -o Primos\n",
        "./Primos 2000000"
      ],
      "metadata": {
        "id": "ajGVE-PF4-tH"
      },
      "execution_count": null,
      "outputs": []
    },
    {
      "cell_type": "markdown",
      "metadata": {
        "id": "bUz3Rpo_FNcq"
      },
      "source": [
        "### *Bash - Versión 3*"
      ]
    },
    {
      "cell_type": "code",
      "metadata": {
        "colab": {
          "base_uri": "https://localhost:8080/"
        },
        "id": "bKz9rCxuFQyR",
        "outputId": "6cd2575f-1700-4f22-cbef-3c55c7a4dcb9"
      },
      "source": [
        "%%script bash\n",
        "\n",
        "#!/bin/bash\n",
        "\n",
        "# PBS Job Script para uso de mpi\n",
        "\n",
        "#Modifique segun el numero de procesadores necesitados\n",
        "\n",
        "#PBS -l nodes=1:ppn=4\n",
        "#PBS -l walltime=00:10:00\n",
        "#PBS -N MPI\n",
        "#PBS -V\n",
        "#PBS -q batch\n",
        "#PBS -k eo\n",
        "\n",
        "##source /opt/intel/oneapi/setvars.sh\n",
        "\n",
        "mpicxx encontrando_primos_contrarreloj_03.cpp -o encontrando_primos_contrarreloj_03\n",
        "\n",
        " mpirun --allow-run-as-root -np 1 encontrando_primos_contrarreloj_03"
      ],
      "execution_count": null,
      "outputs": [
        {
          "name": "stdout",
          "output_type": "stream",
          "text": [
            "Process is terminated.\n"
          ]
        }
      ]
    },
    {
      "cell_type": "markdown",
      "metadata": {
        "id": "scD9tbQhRmhp"
      },
      "source": [
        "# **Tarea 03 - 09/Sep/2022 - Máximo intervalo entre números primos**"
      ]
    },
    {
      "cell_type": "markdown",
      "metadata": {
        "id": "GhbPBHwsg0Ex"
      },
      "source": [
        "### *Código - Versión 1*"
      ]
    },
    {
      "cell_type": "code",
      "metadata": {
        "colab": {
          "base_uri": "https://localhost:8080/"
        },
        "id": "FlUH0Fw1RvwY",
        "outputId": "241a922c-ba0f-4ec6-db4e-71947f3dbfcd"
      },
      "source": [
        "%%writefile encontrarGap.cpp\n",
        "\n",
        "#include <iostream>\n",
        "#include <cstdlib>\n",
        "#include \"mpi.h\"\n",
        "\n",
        "using std::cout;\n",
        "using std::endl;\n",
        "\n",
        "#define BLOCK_LOW(id,p,n) ((id)*(n)/(p))\n",
        "#define BLOCK_HIGH(id,p,n) (BLOCK_LOW((id)+1,p,n)-1)\n",
        "#define BLOCK_SIZE(id,p,n)(BLOCK_HIGH(id,p,n)-BLOCK_LOW(id,p,n)+1)\n",
        "\n",
        "int main(int argc, char **argv ) {      \n",
        "  MPI_Init( &argc , &argv); \n",
        "  int id, i, j, np, n, gap, inicio, fin, num_elems_rango, root = 0;\n",
        "\n",
        "  MPI_Comm_size(MPI_COMM_WORLD, &np);\n",
        "  MPI_Comm_rank(MPI_COMM_WORLD, &id);\n",
        "\n",
        "  n      = atoi(argv[1]);\n",
        "  inicio = BLOCK_LOW(id, np, n) + 1; // para que empiece en 1\n",
        "  fin    = BLOCK_HIGH(id, np, n) + 1;\n",
        "  num_elems_rango = BLOCK_SIZE(id, np, n);\n",
        "\n",
        "  int maxGap = 0, primerPrimAbs = 0, primerPrimo = 0, ultimoPrimo = 0;\n",
        "\n",
        "  cout << \"numProc_\" << id << \", rango_\" << inicio <<','<< fin << endl;\n",
        "\n",
        "  // Comenzamos la medición del tiempo.\n",
        "  MPI_Barrier(MPI_COMM_WORLD);\n",
        "  double inicioTiempo = MPI_Wtime();\n",
        "\n",
        "  for (int i = (inicio == 1 ? 2 : inicio); i <= fin; i++) {\n",
        "      bool esPrimo = true;\n",
        "\n",
        "      for (int j = 2; j < i; j++) {\n",
        "          if (i % j == 0) {\n",
        "              esPrimo = false;\n",
        "\n",
        "              break;\n",
        "          }\n",
        "      }\n",
        "      \n",
        "      if (esPrimo) {\n",
        "          if (primerPrimo == 0) {\n",
        "              primerPrimAbs = primerPrimo = i;\n",
        "          } else if (ultimoPrimo == 0) {\n",
        "              ultimoPrimo = i;\n",
        "\n",
        "              maxGap = ultimoPrimo - primerPrimo;\n",
        "          } else {\n",
        "              primerPrimo = ultimoPrimo;\n",
        "              ultimoPrimo = i;\n",
        "\n",
        "              if (maxGap < ultimoPrimo - primerPrimo) {\n",
        "                  maxGap = ultimoPrimo - primerPrimo;\n",
        "              }\n",
        "          }\n",
        "      }\n",
        "  }\n",
        "\n",
        "  if (ultimoPrimo == 0) {\n",
        "      ultimoPrimo = primerPrimo;\n",
        "  }\n",
        "\n",
        "  if (id != np - 1 && ultimoPrimo != 0) {\n",
        "      // Enviar ultimoPrimo con SEND().\n",
        "      MPI_Send(&ultimoPrimo, 1, MPI_INT, id + 1, id * 10 + 1, MPI_COMM_WORLD);   \n",
        "  }\n",
        "  \n",
        "  if (id != root) {\n",
        "      int primoRecibido;\n",
        "      MPI_Recv(&primoRecibido, 1, MPI_INT, id - 1, (id - 1) * 10 + 1, MPI_COMM_WORLD, MPI_STATUS_IGNORE);\n",
        "\n",
        "      if (primoRecibido > 1 && primoRecibido < primerPrimAbs) {\n",
        "          if (maxGap < primerPrimAbs - primoRecibido) {\n",
        "              maxGap = primerPrimAbs - primoRecibido;\n",
        "          }\n",
        "      }\n",
        "      \n",
        "  }\n",
        "  \n",
        "  int maxGapFinal;\n",
        "  MPI_Reduce(&maxGap, &maxGapFinal, 1, MPI_INT, MPI_MAX, root, MPI_COMM_WORLD);\n",
        "\n",
        "  if(id == root) {\n",
        "    // Finalizamos la medición del tiempo.\n",
        "    double finTiempo = MPI_Wtime();\n",
        "    double tiempoTotal = finTiempo - inicioTiempo;  \n",
        "    \n",
        "    cout << \"\\nRango (1, \" << n << \")\" << endl;\n",
        "    cout << \"Cantidad de Procesadores: \" << np << endl;\n",
        "    cout << \"Max Gap: \" << maxGapFinal << endl;\n",
        "    cout << \"Tiempo Total: \" << tiempoTotal << endl;\n",
        "  }\n",
        " \n",
        "  MPI_Finalize(); \n",
        "} "
      ],
      "execution_count": null,
      "outputs": [
        {
          "name": "stdout",
          "output_type": "stream",
          "text": [
            "Overwriting encontrarGap.cpp\n"
          ]
        }
      ]
    },
    {
      "cell_type": "markdown",
      "metadata": {
        "id": "y9DzbtB3g8cG"
      },
      "source": [
        "### *Bash - Versión 1*"
      ]
    },
    {
      "cell_type": "code",
      "metadata": {
        "id": "WORk8p_HUr2q"
      },
      "source": [
        "%%script bash\n",
        "\n",
        "#!/bin/bash\n",
        "\n",
        "# PBS Job Script para uso de MPI\n",
        "\n",
        "#Modifique segun el numero de procesadores necesitados\n",
        "\n",
        "#PBS -l nodes=1:ppn=4\n",
        "#PBS -l walltime=00:10:00\n",
        "#PBS -N MPI\n",
        "#PBS -V\n",
        "#PBS -q batch\n",
        "#PBS -k eo\n",
        "\n",
        "##source /opt/intel/oneapi/setvars.sh\n",
        "\n",
        "mpicxx encontrarGap.cpp -o max_gap\n",
        "\n",
        "mpirun --allow-run-as-root -np 9 ./max_gap 30"
      ],
      "execution_count": null,
      "outputs": []
    },
    {
      "cell_type": "markdown",
      "metadata": {
        "id": "TaAkCaZvqHVy"
      },
      "source": [
        "### *Código - Versión 2*"
      ]
    },
    {
      "cell_type": "code",
      "metadata": {
        "colab": {
          "base_uri": "https://localhost:8080/"
        },
        "id": "41hBkspgqR4C",
        "outputId": "75ff38ed-ad11-495a-cfc5-2f686eb31d11"
      },
      "source": [
        "%%writefile gap02.cpp\n",
        "\n",
        "#include <iostream>\n",
        "#include <cstdlib>\n",
        "#include \"mpi.h\"\n",
        "\n",
        "using std::cout;\n",
        "using std::endl;\n",
        "\n",
        "int main(int argc, char **argv ) {      \n",
        "  MPI_Init( &argc , &argv);\n",
        "\n",
        "  // Podrá recibirse finRango así?\n",
        "  int maxGap = 0, primerPrimo = 0, ultimoPrimo = 0, finRango = atoi(argv[1]);\n",
        "\n",
        "  // Comenzamos la medición del tiempo.\n",
        "  MPI_Barrier(MPI_COMM_WORLD);\n",
        "  double inicioTiempo = MPI_Wtime();\n",
        "\n",
        "  for (int i = 1; i <= finRango; i++) {\n",
        "      bool esPrimo = true;\n",
        "\n",
        "      for (int j = 2; j < i; j++) {\n",
        "          if (i % j == 0) {\n",
        "              esPrimo = false;\n",
        "\n",
        "              break;\n",
        "          }\n",
        "      }\n",
        "      \n",
        "      if (esPrimo) {\n",
        "          if (primerPrimo == 0) {\n",
        "              primerPrimo = i;\n",
        "          } else if (ultimoPrimo == 0) {\n",
        "              ultimoPrimo = i;\n",
        "\n",
        "              maxGap = ultimoPrimo - primerPrimo;\n",
        "          } else {\n",
        "              primerPrimo = ultimoPrimo;\n",
        "              ultimoPrimo = i;\n",
        "\n",
        "              if (maxGap < ultimoPrimo - primerPrimo) {\n",
        "                  maxGap = ultimoPrimo - primerPrimo;\n",
        "              }\n",
        "          }\n",
        "      }\n",
        "  }\n",
        "\n",
        "  // Finalizamos la medición del tiempo.\n",
        "  double finTiempo = MPI_Wtime();\n",
        "  double tiempoTotal = finTiempo - inicioTiempo;  \n",
        "  \n",
        "  cout << \"\\nRango (1, \" << finRango << \")\" << endl;\n",
        "  cout << \"Max Gap: \" << maxGap << endl;\n",
        "  cout << \"Tiempo Total: \" << tiempoTotal << endl;\n",
        " \n",
        "  MPI_Finalize(); \n",
        "} "
      ],
      "execution_count": null,
      "outputs": [
        {
          "name": "stdout",
          "output_type": "stream",
          "text": [
            "Writing gap02.cpp\n"
          ]
        }
      ]
    },
    {
      "cell_type": "markdown",
      "metadata": {
        "id": "oTy1ZkaJqS19"
      },
      "source": [
        "### *Bash - Versión 2*"
      ]
    },
    {
      "cell_type": "code",
      "metadata": {
        "colab": {
          "base_uri": "https://localhost:8080/",
          "height": 128
        },
        "id": "QfpgZkcbqVOr",
        "outputId": "7b7020dd-ea80-419f-ebf5-7cf897c47baf"
      },
      "source": [
        "#!/bin/bash\n",
        "\n",
        "# PBS Job Script para uso de MPI\n",
        "\n",
        "#Modifique segun el numero de procesadores necesitados\n",
        "\n",
        "#PBS -l nodes=1:ppn=4\n",
        "#PBS -l walltime=00:10:00\n",
        "#PBS -N MPI\n",
        "#PBS -V\n",
        "#PBS -q batch\n",
        "#PBS -k eo\n",
        "\n",
        "## source /opt/intel/oneapi/setvars.sh\n",
        "\n",
        "mpicxx gap02.cpp -o max_gap_02\n",
        "\n",
        "mpirun --allow-run-as-root -np 1 ./max_gap_02 1000000"
      ],
      "execution_count": null,
      "outputs": [
        {
          "ename": "SyntaxError",
          "evalue": "ignored",
          "output_type": "error",
          "traceback": [
            "\u001b[0;36m  File \u001b[0;32m\"<ipython-input-6-986f57c842ec>\"\u001b[0;36m, line \u001b[0;32m16\u001b[0m\n\u001b[0;31m    mpicxx gap02.cpp -o max_gap_02\u001b[0m\n\u001b[0m               ^\u001b[0m\n\u001b[0;31mSyntaxError\u001b[0m\u001b[0;31m:\u001b[0m invalid syntax\n"
          ]
        }
      ]
    },
    {
      "cell_type": "markdown",
      "metadata": {
        "id": "kie1urujEbow"
      },
      "source": [
        "# **Tarea 04 - 12/Sep/2022 - Números primos gemelos**"
      ]
    },
    {
      "cell_type": "markdown",
      "metadata": {
        "id": "xytzUTA4FbIn"
      },
      "source": [
        "### *Código - Versión 1*"
      ]
    },
    {
      "cell_type": "code",
      "metadata": {
        "colab": {
          "base_uri": "https://localhost:8080/"
        },
        "id": "H8UxjgdzSCGn",
        "outputId": "109ae501-0d95-4309-e18a-b90743590cf5"
      },
      "source": [
        "%%writefile numPrimGemelos01.cpp\n",
        "\n",
        "#include <iostream>\n",
        "#include <cstdlib>\n",
        "#include \"mpi.h\"\n",
        "\n",
        "using std::cout;\n",
        "using std::endl;\n",
        "\n",
        "#define BLOCK_LOW(id,p,n) ((id)*(n)/(p))\n",
        "#define BLOCK_HIGH(id,p,n) (BLOCK_LOW((id)+1,p,n)-1)\n",
        "\n",
        "int main(int argc, char **argv ) {      \n",
        "  MPI_Init( &argc , &argv); \n",
        "  int id, i, j, np, n, gap, inicio, fin, root = 0;\n",
        "\n",
        "  MPI_Comm_rank(MPI_COMM_WORLD, &id); \n",
        "  MPI_Comm_size(MPI_COMM_WORLD, &np); \n",
        "\n",
        "  n      = atoi(argv[1]);\n",
        "  inicio = BLOCK_LOW(id, np, n) + 1; // para que empiece en 1\n",
        "  fin    = BLOCK_HIGH(id, np, n) + 1;\n",
        "\n",
        "  int numPrimGemelos = 0, primerPrimAbs = 0, primerPrimo = 0, ultimoPrimo = 0;\n",
        "\n",
        "  // Comenzamos la medición del tiempo.\n",
        "  MPI_Barrier(MPI_COMM_WORLD);\n",
        "  double inicioTiempo = MPI_Wtime();\n",
        "\n",
        "  for (int i = (inicio == 1 ? 2 : inicio); i <= fin; i++) {\n",
        "      bool esPrimo = true;\n",
        "\n",
        "      for (int j = 2; j < i; j++) {\n",
        "          if (i % j == 0) {\n",
        "              esPrimo = false;\n",
        "\n",
        "              break;\n",
        "          }\n",
        "      }\n",
        "      \n",
        "      if (esPrimo) {\n",
        "          if (primerPrimo == 0) {\n",
        "              primerPrimAbs = primerPrimo = i;\n",
        "          } else if (ultimoPrimo == 0) {\n",
        "              ultimoPrimo = i;\n",
        "\n",
        "              if (ultimoPrimo - 2 == primerPrimo) {\n",
        "                  numPrimGemelos++;\n",
        "              }\n",
        "          } else {\n",
        "              primerPrimo = ultimoPrimo;\n",
        "              ultimoPrimo = i;\n",
        "\n",
        "              if (ultimoPrimo - 2 == primerPrimo) {\n",
        "                  numPrimGemelos++;\n",
        "              }\n",
        "          }\n",
        "      }\n",
        "  }\n",
        "\n",
        "  if (ultimoPrimo == 0) {\n",
        "      ultimoPrimo = primerPrimo;\n",
        "  }\n",
        "\n",
        "  if (id != np - 1 && ultimoPrimo != 0) {\n",
        "      // Enviar ultimoPrimo con SEND().\n",
        "      MPI_Send(&ultimoPrimo, 1, MPI_INT, id + 1, id * 10 + 1, MPI_COMM_WORLD);   \n",
        "  }\n",
        "  \n",
        "  if (id != root) {\n",
        "      int primoRecibido;\n",
        "      MPI_Recv(&primoRecibido, 1, MPI_INT, id - 1, (id - 1) * 10 + 1, MPI_COMM_WORLD, MPI_STATUS_IGNORE);\n",
        "\n",
        "      if (primoRecibido > 0 && primoRecibido < primerPrimAbs) {\n",
        "          if (primerPrimAbs - 2 == primoRecibido) {\n",
        "              numPrimGemelos++;\n",
        "          }\n",
        "      }\n",
        "      \n",
        "  }\n",
        "  \n",
        "  int numPrimGemTotal;\n",
        "  MPI_Reduce(&numPrimGemelos, &numPrimGemTotal, 1, MPI_INT, MPI_SUM, root, MPI_COMM_WORLD);\n",
        "\n",
        "  if(id == root) {\n",
        "    // Finalizamos la medición del tiempo.\n",
        "    double finTiempo = MPI_Wtime();\n",
        "    double tiempoTotal = finTiempo - inicioTiempo;  \n",
        "    \n",
        "    cout << \"\\nRango (1, \" << n << \")\" << endl;\n",
        "    cout << \"Cantidad de Procesadores: \" << np << endl;\n",
        "    cout << \"Cantidad de Primos Gemelos: \" << numPrimGemTotal << endl;\n",
        "    cout << \"Tiempo Total: \" << tiempoTotal << endl;\n",
        "  }\n",
        " \n",
        "  MPI_Finalize(); \n",
        "}"
      ],
      "execution_count": null,
      "outputs": [
        {
          "output_type": "stream",
          "name": "stdout",
          "text": [
            "Writing numPrimGemelos01.cpp\n"
          ]
        }
      ]
    },
    {
      "cell_type": "code",
      "source": [
        "%%script bash\n",
        "mpicxx numPrimGemelos01.cpp -o cantPrimGemelos01 \n",
        "\n",
        "mpirun --allow-run-as-root -np 5 ./cantPrimGemelos01 100000"
      ],
      "metadata": {
        "colab": {
          "base_uri": "https://localhost:8080/"
        },
        "id": "Q5I0Xk2KasYL",
        "outputId": "f5730356-2576-4f50-9b51-d49cf4df075d"
      },
      "execution_count": null,
      "outputs": [
        {
          "output_type": "stream",
          "name": "stdout",
          "text": [
            "\n",
            "Rango (1, 100)\n",
            "Cantidad de Procesadores: 5\n",
            "Cantidad de Primos Gemelos: 8\n",
            "Tiempo Total: 0.000122512\n"
          ]
        }
      ]
    },
    {
      "cell_type": "markdown",
      "metadata": {
        "id": "BfHZHqqdFnJ4"
      },
      "source": [
        "### *Bash - Versión 1*"
      ]
    },
    {
      "cell_type": "code",
      "metadata": {
        "colab": {
          "base_uri": "https://localhost:8080/"
        },
        "id": "UDJJ07moFqS0",
        "outputId": "f0683040-0ada-43c5-8408-c3875289cc96"
      },
      "source": [
        "%%script bash\n",
        "\n",
        "#!/bin/bash\n",
        "\n",
        "# PBS Job Script para uso de MPI\n",
        "\n",
        "#Modifique segun el numero de procesadores necesitados\n",
        "\n",
        "#PBS -l nodes=1:ppn=4\n",
        "#PBS -l walltime=00:10:00\n",
        "#PBS -N MPI\n",
        "#PBS -V\n",
        "#PBS -q batch\n",
        "#PBS -k eo\n",
        "\n",
        "##source /opt/intel/oneapi/setvars.sh\n",
        "\n",
        "mpicxx numPrimGemelos01.cpp -o cantPrimGemelos01\n",
        "\n",
        "mpirun --allow-run-as-root -np 5 ./cantPrimGemelos01 100"
      ],
      "execution_count": null,
      "outputs": [
        {
          "name": "stdout",
          "output_type": "stream",
          "text": [
            "\n",
            "Rango (1, 100)\n",
            "Cantidad de Procesadores: 5\n",
            "Cantidad de Primos Gemelos: 8\n",
            "Tiempo Total: 0.000273029\n"
          ]
        }
      ]
    },
    {
      "cell_type": "markdown",
      "metadata": {
        "id": "4z0PY7tenZRy"
      },
      "source": [
        "### *Código - Versión 2*"
      ]
    },
    {
      "cell_type": "code",
      "metadata": {
        "colab": {
          "base_uri": "https://localhost:8080/"
        },
        "id": "BlGSKlGPndao",
        "outputId": "edca4b98-da40-4965-b2f8-bf9eb7073fd7"
      },
      "source": [
        "%%writefile numPrimGemelos02.cpp\n",
        "\n",
        "#include <iostream>\n",
        "#include <cstdlib>\n",
        "#include <sys/time.h>\n",
        "\n",
        "using std::cout;\n",
        "using std::endl;\n",
        "\n",
        "int main(int argc, char **argv ) {      \n",
        "  int numPrimGemelos = 0, primerPrimo = 0, ultimoPrimo = 0, finRango = atoi(argv[1]);\n",
        "\n",
        "  // Comenzamos la medición del tiempo.\n",
        "  struct timeval inicioTiempo, finTiempo;\n",
        "  gettimeofday(&inicioTiempo, 0);\n",
        "\n",
        "  for (int i = 1; i <= finRango; i++) {\n",
        "      bool esPrimo = true;\n",
        "\n",
        "      for (int j = 2; j < i; j++) {\n",
        "          if (i % j == 0) {\n",
        "              esPrimo = false;\n",
        "\n",
        "              break;\n",
        "          }\n",
        "      }\n",
        "      \n",
        "      if (esPrimo) {\n",
        "          if (primerPrimo == 0) {\n",
        "              primerPrimo = i;\n",
        "          } else if (ultimoPrimo == 0) {\n",
        "              ultimoPrimo = i;\n",
        "\n",
        "              if (ultimoPrimo - 2 == primerPrimo) {\n",
        "                  numPrimGemelos++;\n",
        "              }\n",
        "          } else {\n",
        "              primerPrimo = ultimoPrimo;\n",
        "              ultimoPrimo = i;\n",
        "\n",
        "              if (ultimoPrimo - 2 == primerPrimo) {\n",
        "                  numPrimGemelos++;\n",
        "              }\n",
        "          }\n",
        "      }\n",
        "  }\n",
        "\n",
        "  // Finalizamos la medición del tiempo.\n",
        "  gettimeofday(&finTiempo, 0);\n",
        "\n",
        "  long segundos = finTiempo.tv_sec - inicioTiempo.tv_sec;\n",
        "  long microsegundos = finTiempo.tv_usec - inicioTiempo.tv_usec;\n",
        "  double tiempoTotal = segundos + (microsegundos * 1e-6);\n",
        "\n",
        "  cout << \"\\nRango (1, \" << finRango << \")\" << endl;\n",
        "  cout << \"Cantidad de Primos Gemelos: \" << numPrimGemelos << endl;\n",
        "  cout << \"Tiempo Total: \" << tiempoTotal << endl;\n",
        "}"
      ],
      "execution_count": null,
      "outputs": [
        {
          "name": "stdout",
          "output_type": "stream",
          "text": [
            "Overwriting numPrimGemelos02.cpp\n"
          ]
        }
      ]
    },
    {
      "cell_type": "markdown",
      "metadata": {
        "id": "FFhKSxCRnjQT"
      },
      "source": [
        "### *Bash - Versión 2*"
      ]
    },
    {
      "cell_type": "code",
      "metadata": {
        "colab": {
          "base_uri": "https://localhost:8080/"
        },
        "id": "iDh884otnkLV",
        "outputId": "c7a25a92-0013-4728-a9f2-c36d068b789d"
      },
      "source": [
        "%%script bash\n",
        "\n",
        "#!/bin/bash\n",
        "\n",
        "# PBS Job Script para uso de MPI\n",
        "\n",
        "#Modifique segun el numero de procesadores necesitados\n",
        "\n",
        "#PBS -l nodes=1:ppn=4\n",
        "#PBS -l walltime=00:10:00\n",
        "#PBS -N MPI\n",
        "#PBS -V\n",
        "#PBS -q batch\n",
        "#PBS -k eo\n",
        "\n",
        "##source /opt/intel/oneapi/setvars.sh\n",
        "\n",
        "g++ numPrimGemelos02.cpp -o cantPrimGemelos02\n",
        "\n",
        "./cantPrimGemelos02 100"
      ],
      "execution_count": null,
      "outputs": [
        {
          "name": "stdout",
          "output_type": "stream",
          "text": [
            "\n",
            "Rango (1, 100)\n",
            "Cantidad de Primos Gemelos: 8\n",
            "Tiempo Total: 5e-06\n"
          ]
        }
      ]
    },
    {
      "cell_type": "markdown",
      "metadata": {
        "id": "tuzBzY5NwSeK"
      },
      "source": [
        "# **Ordenamiento desde archivo**\n",
        "1.   Generador del archivo datos.dat\n",
        "2.   Ordenamiento de los valores en datos.dat"
      ]
    },
    {
      "cell_type": "markdown",
      "metadata": {
        "id": "gxFF_0CNMcID"
      },
      "source": [
        "## Generador de datos aleatorios"
      ]
    },
    {
      "cell_type": "markdown",
      "metadata": {
        "id": "CtFhwRRGMquE"
      },
      "source": [
        "### Código"
      ]
    },
    {
      "cell_type": "code",
      "metadata": {
        "colab": {
          "base_uri": "https://localhost:8080/"
        },
        "id": "9mxuUb-BwWTF",
        "outputId": "f2dec746-07a6-4a75-cb25-9b997449aefe"
      },
      "source": [
        "%%writefile generador_archivo_datos.c\n",
        "#include<stdio.h>\n",
        "#include<stdlib.h>\n",
        "#include<time.h>\n",
        "// ---> argv[1]: Nombre del archivo a generar <---\n",
        "// ---> argv[2]: numero de datos a generar    <---\n",
        "int main(int argc, char*argv[]){\n",
        "  FILE *fp;\n",
        "  int n,*datos, i;\n",
        "  \n",
        "  n = atoi(argv[2]);\n",
        "  fp = fopen(argv[1], \"w\");\n",
        "  if(fp){\n",
        "    srand(time(NULL));\n",
        "    fprintf(fp,\"%d\\n\",n);\n",
        "    for(i=0;i<n;i++)\n",
        "      fprintf(fp,\"%d\\n\",rand()%1000);\n",
        "    \n",
        "    fclose(fp);\n",
        "  }\n",
        "  \n",
        "\treturn 0;\n",
        "}"
      ],
      "execution_count": null,
      "outputs": [
        {
          "output_type": "stream",
          "name": "stdout",
          "text": [
            "Writing generador_archivo_datos.c\n"
          ]
        }
      ]
    },
    {
      "cell_type": "markdown",
      "metadata": {
        "id": "F_OUaZS7Muhk"
      },
      "source": [
        "### Bash"
      ]
    },
    {
      "cell_type": "code",
      "metadata": {
        "id": "fdUVQhxgwfJQ"
      },
      "source": [
        "%%script bash\n",
        "gcc generador_archivo_datos.c -o generar\n",
        "./generar datos.dat 37"
      ],
      "execution_count": null,
      "outputs": []
    },
    {
      "cell_type": "markdown",
      "metadata": {
        "id": "OJB6-fh9MySE"
      },
      "source": [
        "## Tarea 05 -Ordenamiento Merge Split - Paralelo"
      ]
    },
    {
      "cell_type": "markdown",
      "metadata": {
        "id": "HhFcAgHwM7kb"
      },
      "source": [
        "### Código"
      ]
    },
    {
      "cell_type": "code",
      "metadata": {
        "colab": {
          "base_uri": "https://localhost:8080/"
        },
        "id": "GZ8zJtW5-ZGh",
        "outputId": "7b4e842d-f7fe-417f-cefc-0b8f36d03092"
      },
      "source": [
        "%%writefile ordenamientoQsort_PAR.cpp\n",
        "#include <stdlib.h>\n",
        "#include \"mpi.h\"\n",
        "#include <stdio.h>\n",
        "#include <math.h> // ceil()\n",
        "#include <limits.h> // INT_MAX \n",
        "\n",
        "// Función utilizada por qsort() para comparar los elementos.\n",
        "int comparar(const void *_a, const void *_b) {\n",
        "    int *a, *b;\n",
        "    \n",
        "    a = (int *) _a;\n",
        "    b = (int *) _b;\n",
        "    \n",
        "    return (*a - *b);\n",
        "}\n",
        "\n",
        "// Ordena los subarreglos resultantes.\n",
        "void mezcla(int *S_i, int chunksize) {\n",
        "    int *aux;\n",
        "\n",
        "    aux = (int *)malloc(chunksize*sizeof(int));\n",
        "\n",
        "    int i = 0, j = 0, k =  chunksize/2;\n",
        "\n",
        "    while (j < chunksize/2 && k < chunksize) {\n",
        "        aux[i++] = (S_i[j] < S_i[k]) ? S_i[j++] : S_i[k++];\n",
        "    }\n",
        "\n",
        "    while (j < chunksize/2) {\n",
        "        aux[i++] = S_i[j++];\n",
        "    }\n",
        "\n",
        "    while (k < chunksize) {\n",
        "        aux[i++] = S_i[k++];\n",
        "    }\n",
        "\n",
        "    for (i = 0; i < chunksize; i++) {\n",
        "        S_i[i] = aux[i];\n",
        "    }\n",
        "\n",
        "    free(aux);\n",
        "}\n",
        "\n",
        "// Comprueba si se le ha asignado memoria al puntero.\n",
        "void asignarMemoria(int **arreglo, const unsigned numElem) {\n",
        "  *arreglo = (int *) malloc(numElem * sizeof(int));\n",
        "\n",
        "  if (*arreglo == NULL) {\n",
        "    printf(\"Memoria insuficiente\\n\");\n",
        "\n",
        "    MPI_Abort(MPI_COMM_WORLD, 99);\n",
        "  }\n",
        "}\n",
        "\n",
        "// Imprime el arreglo completo.\n",
        "void imprimirArreglo(const int *arreglo, const unsigned numElem) {\n",
        "\tprintf(\"[\");\n",
        "\t\n",
        "\tfor (int i = 0; i < numElem; i++) {\n",
        "\t\tprintf(\"%d, \", arreglo[i]);\n",
        "\t}\n",
        "\t\n",
        "\tprintf(\"\\b\\b]\\n\");\n",
        "}\n",
        "\n",
        "//  Lectura de archivos\n",
        "int read_array(char* fname, int **arr, int np) {\n",
        "  FILE *myFile;\n",
        "  unsigned int i, n, chunksize, faltantes;\n",
        "\n",
        "  myFile = fopen(fname, \"r\");\n",
        "  if(!myFile){\n",
        "    printf(\"ERROR: No se pudo abrir el archivo para lectura %s\",fname);\n",
        "    MPI_Abort(MPI_COMM_WORLD, 99);\n",
        "  }\n",
        "\n",
        "  fscanf(myFile, \"%i\\n\", &n); // numero de datoss a leer\n",
        "\n",
        "  chunksize = ceil(n*1.0 / np);\n",
        "  faltantes = np*chunksize - n;\n",
        "\n",
        "  asignarMemoria(arr, chunksize*np);\n",
        "\n",
        "/*\n",
        "  *arr = (int *) malloc((chunksize*np)*sizeof(int));\n",
        "  if (*arr == NULL) {\n",
        "    printf(\"Memoria insuficiente\\n\");\n",
        "    MPI_Abort(MPI_COMM_WORLD, 99);\n",
        "  }\n",
        "*/\n",
        "\n",
        "  for ( i=0; i < n; i++)\n",
        "    fscanf(myFile, \"%i\\n\", (*arr)+i);\n",
        "\n",
        "  for ( i=n; i < n + faltantes; i++) //<--- Dummys\n",
        "    (*arr)[i] = INT_MAX;\n",
        "\n",
        "  return n;\n",
        "}\n",
        "\n",
        "// Programa principal\n",
        "int main(int argc, char**argv) {\n",
        "  int rank, np, root, faltantes;\n",
        "  unsigned int n, chunksize, i;\n",
        "  double start, time;\n",
        "  int *Arreglo, *S_i;\n",
        "\n",
        "  MPI_Init(&argc, &argv);\n",
        "\n",
        "  MPI_Comm_size(MPI_COMM_WORLD, &np); // Numero total de procesos\n",
        "  MPI_Comm_rank(MPI_COMM_WORLD, &rank); // Valor de nuestro identificador\n",
        "\n",
        "  root = np - 1;  // Root es el último\n",
        "\n",
        "  MPI_Barrier(MPI_COMM_WORLD);  // sincronización\n",
        "  double tInicial = MPI_Wtime();  // <--- toma de tiempo 1\n",
        "\n",
        "  if (rank == root){ // Lee los datos del archivo\n",
        "    n = read_array(argv[1], &Arreglo, np);\n",
        "    chunksize = ceil(n*1.0 / np);\n",
        "    faltantes = np*chunksize - n;\n",
        "\n",
        "    imprimirArreglo(Arreglo, n);\n",
        "\n",
        "/*\n",
        "    printf(\"[\");\n",
        "\n",
        "    for (int i = 0; i < n; i++) {\n",
        "        printf(\"%d, \", Arreglo[i]);\n",
        "    }\n",
        "\n",
        "    printf(\"\\b\\b]\");\n",
        "*/\n",
        "  }\n",
        "  \n",
        "  // Comunica longitud de los chunks\n",
        "  MPI_Bcast(&chunksize, 1, MPI_UNSIGNED, root, MPI_COMM_WORLD);\n",
        "  \n",
        "  // Pide memoria del doble de dicha longitud para poder ordenar.\n",
        "  asignarMemoria(&S_i, 2*chunksize);\n",
        "\n",
        "/*\n",
        "  S_i = (int *) malloc(2*chunksize*sizeof(int));\n",
        "  if (S_i == NULL) {\n",
        "    printf(\"Memoria insuficiente\\n\");\n",
        "    MPI_Abort(MPI_COMM_WORLD, 99);\n",
        "  }\n",
        "*/\n",
        "\n",
        "  MPI_Scatter(Arreglo, chunksize, MPI_INT, S_i, chunksize, MPI_INT, root, MPI_COMM_WORLD);\n",
        "\n",
        "  qsort(  S_i, chunksize, sizeof(int), &comparar );\n",
        "\n",
        "  for(i=1;i<=ceil(np/2.0);i++) {\n",
        "    if(rank%2==1) {\n",
        "         MPI_Send( S_i, chunksize, MPI_INT, rank-1, 10, MPI_COMM_WORLD );\n",
        "         MPI_Recv( S_i, chunksize, MPI_INT, rank-1, 10, MPI_COMM_WORLD, MPI_STATUS_IGNORE );\n",
        "    }\n",
        "\n",
        "    if(rank%2==0 && rank!=np-1) {\n",
        "      MPI_Recv( S_i+chunksize, chunksize, MPI_INT, rank+1, 10, MPI_COMM_WORLD, MPI_STATUS_IGNORE );   \n",
        "      mezcla(S_i, 2*chunksize); // <---- \n",
        "      MPI_Send(S_i+chunksize, chunksize, MPI_INT, rank+1, 10, MPI_COMM_WORLD);  \n",
        "    }\n",
        "\n",
        "    if(rank%2==0 && rank!=0) {\n",
        "         MPI_Send( S_i, chunksize, MPI_INT, rank-1, 10, MPI_COMM_WORLD );\n",
        "         MPI_Recv( S_i, chunksize, MPI_INT, rank-1, 10, MPI_COMM_WORLD, MPI_STATUS_IGNORE );\n",
        "    }\n",
        "\n",
        "    if(rank%2==1 && rank!=np-1) {\n",
        "      MPI_Recv( S_i+chunksize, chunksize, MPI_INT, rank+1, 10, MPI_COMM_WORLD, MPI_STATUS_IGNORE );   \n",
        "      mezcla(S_i, 2*chunksize); // <---- \n",
        "      MPI_Send(S_i+chunksize, chunksize, MPI_INT, rank+1, 10, MPI_COMM_WORLD);  \n",
        "    }\n",
        "  }\n",
        "  \n",
        "  // Recolectar de nuevo los datos en el root e imprimir\n",
        "  MPI_Gather(S_i, chunksize, MPI_INT, Arreglo, chunksize, MPI_INT, root, MPI_COMM_WORLD );\n",
        "  \n",
        "  double tFinal = MPI_Wtime(); // <--- toma de tiempo 2\n",
        "\n",
        "  if(rank==root) {\n",
        "      imprimirArreglo(Arreglo, n);\n",
        "\n",
        "/*\n",
        "      printf(\"\\n[\");\n",
        "      \n",
        "      for(i=0;i<n;i++)\n",
        "        printf(\"%d, \",Arreglo[i]);\n",
        "\n",
        "      printf(\"\\b\\b]\");\n",
        "*/\n",
        "\n",
        "      double tTotal = tFinal - tInicial; \n",
        "\n",
        "      printf(\"\\nN\\243mero de procesos = %d\", np);\n",
        "      printf(\"\\nCantidad de elementos = %d\", n);\n",
        "      printf(\"\\nTiempo total = %f segundos\", tTotal);\n",
        "      printf(\" \\n\");\n",
        "  }\n",
        "  \n",
        "  free(S_i);\n",
        "  if (rank == root) free(Arreglo);\n",
        "\n",
        "  MPI_Finalize();\n",
        "  return 0;\n",
        "}"
      ],
      "execution_count": null,
      "outputs": [
        {
          "output_type": "stream",
          "name": "stdout",
          "text": [
            "Writing ordenamientoQsort_PAR.cpp\n"
          ]
        }
      ]
    },
    {
      "cell_type": "markdown",
      "metadata": {
        "id": "Nl0a3h5HM_e6"
      },
      "source": [
        "### Bash"
      ]
    },
    {
      "cell_type": "code",
      "metadata": {
        "colab": {
          "base_uri": "https://localhost:8080/"
        },
        "id": "v5hSODwDR0FX",
        "outputId": "4ec3f35b-e750-440b-ad85-efffc9c90df6"
      },
      "source": [
        "%%script bash\n",
        "mpicxx ordenamientoQsort_PAR.cpp -o Ordenamiento_PAR -lm\n",
        "mpirun --allow-run-as-root -np 16 Ordenamiento_PAR datos.dat"
      ],
      "execution_count": null,
      "outputs": [
        {
          "output_type": "stream",
          "name": "stdout",
          "text": [
            "[875, 334, 352, 667, 593, 398, 562, 536, 561, 645, 604, 408, 96, 820, 337, 560, 709, 224, 114, 41, 459, 421, 224, 509, 726, 449, 323, 463, 409, 329, 358, 284, 663, 710, 951, 257, 460, \b\b]\n",
            "[41, 96, 114, 224, 224, 257, 284, 323, 329, 334, 337, 352, 358, 398, 408, 409, 421, 449, 459, 460, 463, 509, 536, 560, 561, 562, 593, 604, 645, 663, 667, 709, 710, 726, 820, 875, 951, \b\b]\n",
            "\n",
            "N�mero de procesos = 16\n",
            "Cantidad de elementos = 37\n",
            "Tiempo total = 0.004295 segundos \n"
          ]
        }
      ]
    },
    {
      "cell_type": "markdown",
      "metadata": {
        "id": "jpjIEz0UNDaz"
      },
      "source": [
        "## Ordenamiento - Secuencial"
      ]
    },
    {
      "cell_type": "markdown",
      "metadata": {
        "id": "L5eewniRNJQt"
      },
      "source": [
        "### Código"
      ]
    },
    {
      "cell_type": "code",
      "metadata": {
        "colab": {
          "base_uri": "https://localhost:8080/"
        },
        "id": "h-YXXig5NQ-e",
        "outputId": "770e20be-d174-4806-f70f-2c922373070e"
      },
      "source": [
        "%%writefile ordenamientoQsort_SEC.c\n",
        "#include <stdlib.h>\n",
        "#include <stdio.h>\n",
        "#include <math.h> // ceil()\n",
        "#include <limits.h> // INT_MAX \n",
        "#include <sys/time.h>\n",
        "\n",
        "// Función utilizada por qsort() para comparar los elementos.\n",
        "int comparar(const void *_a, const void *_b) {\n",
        "    int *a, *b;\n",
        "    \n",
        "    a = (int *) _a;\n",
        "    b = (int *) _b;\n",
        "    \n",
        "    return (*a - *b);\n",
        "}\n",
        "\n",
        "void imprimirArreglo(const int *arreglo, const unsigned numElem) {\n",
        "\tprintf(\"[\");\n",
        "\t\n",
        "\tfor (int i = 0; i < numElem; i++) {\n",
        "\t\tprintf(\"%d, \", arreglo[i]);\n",
        "\t}\n",
        "\t\n",
        "\tprintf(\"\\b\\b]\\n\");\n",
        "}\n",
        "\n",
        "// Lectura de los datos.\n",
        "int read_array(char* fname, int **arr) {\n",
        "  FILE *myFile;\n",
        "  myFile = fopen(fname, \"r\");\n",
        "\n",
        "  if (!myFile) {\n",
        "    printf(\"ERROR: No se pudo abrir el archivo para lectura %s\",fname);\n",
        "    return -1;\n",
        "  }\n",
        "\n",
        "  unsigned int n;\n",
        "  fscanf(myFile, \"%i\\n\", &n); // Número de datos a leer.\n",
        "\n",
        "  *arr = (int *) malloc(n*1.0*sizeof(int));\n",
        "\n",
        "  if (*arr == NULL) {\n",
        "    printf(\"Memoria insuficiente\\n\");\n",
        "    return -1;\n",
        "  }\n",
        "\n",
        "  for (int i = 0; i < n; i++)\n",
        "    fscanf(myFile, \"%i\\n\", (*arr)+i);\n",
        "\n",
        "  return n;\n",
        "}\n",
        "\n",
        "// Programa principal\n",
        "int main(int argc, char**argv) {\n",
        "  int *Arreglo;\n",
        "  unsigned int n;\n",
        "\n",
        "  struct timeval tInicial;  // <--- toma de tiempo 1\n",
        "  gettimeofday(&tInicial, 0);\n",
        "  \n",
        "  n = read_array(argv[1], &Arreglo);\n",
        "\n",
        "  imprimirArreglo(Arreglo, n);\n",
        "\n",
        "  qsort(Arreglo, n, sizeof(int), &comparar);\n",
        " \n",
        "  struct timeval tFinal;  // <--- toma de tiempo 2\n",
        "  gettimeofday(&tFinal, 0);\n",
        "\n",
        "  long segundos = tFinal.tv_sec - tInicial.tv_sec;\n",
        "  long microsegundos = tFinal.tv_usec - tInicial.tv_usec;\n",
        "  double tTotal = segundos + (microsegundos * 1e-6);\n",
        "\n",
        "  printf(\"\\nCantidad de elementos = %d\", n);\n",
        "  printf(\"\\nTiempo total = %f segundos\", tTotal);\n",
        "\n",
        "  free(Arreglo);\n",
        "\n",
        "  return 0;\n",
        "}"
      ],
      "execution_count": null,
      "outputs": [
        {
          "output_type": "stream",
          "name": "stdout",
          "text": [
            "Writing ordenamientoQsort_SEC.c\n"
          ]
        }
      ]
    },
    {
      "cell_type": "markdown",
      "metadata": {
        "id": "_Z9dz9u4NObT"
      },
      "source": [
        "### Bash"
      ]
    },
    {
      "cell_type": "code",
      "metadata": {
        "colab": {
          "base_uri": "https://localhost:8080/"
        },
        "id": "0PUdx-7gNRbk",
        "outputId": "87b98020-a6ba-4872-9a0c-609e4a88b0f6"
      },
      "source": [
        "%%script bash\n",
        "gcc version2.c -o version2\n",
        "\n",
        "./version2 datos.dat\n"
      ],
      "execution_count": null,
      "outputs": [
        {
          "name": "stdout",
          "output_type": "stream",
          "text": [
            "[971, 399, 563, 610, 526, 372, 228, 245, 592, 613, 932, 254, 824, 902, 358, 394, 377, 141, 549, 411, 861, 567, 833, 535, 438, 397, 707, 20, 120, 905, 592, 443, 657, 508, 53, 183, 880, \b\b]\n",
            "\n",
            "Cantidad de elementos = 37\n",
            "Tiempo total = 0.000064 segundos"
          ]
        }
      ]
    },
    {
      "cell_type": "markdown",
      "metadata": {
        "id": "XEQXwcIFzxvg"
      },
      "source": [
        "## Tarea 06 -Ordenamiento Regular Sampling- Paralelo\n",
        "* Leer un dataset de un archivo (datos.dat) con n datos. Suponer que se usan p procesos. Un proceso lee los datos del archivo e inicia una dispersión de los datos. Usar la función BLOCK_SIZE() para determinar cuántos elementos enviar a cada proceso.\n",
        "* Cada proceso ordena localmente sus datos con QuickSort\n",
        "Cada proceso selecciona los datos que se encuentran en los índices 0, n/p^2, 2n/p^2, 3n/p^2,..., (p-1)n/p^2 como muestras regulares\n",
        "* Un proceso recolecta y ordena las muestras regulares y selecciona p-1 valores pivote de la lista ordenada. Los valores pivote están en los índices p+p/2-1, 2p+p/2-1, 3p+p/2-1, ... , (p-1)p+p/2-1. Los valores pivote son dados a conocer a todos los procesos.\n",
        "* Cada proceso particiona su sublista ordenada en p piezas disjuntas, usando los valores pivote como separadores.\n",
        "Cada proceso Pi mantiene su iesima partición y envía la j-partición al proceso Pj\n",
        "* Cada proceso mezcla sus p particiones en una sola lista. Al final de esta etapa, los elementos están ordenados.\n",
        "Recolectar los elementos que tiene cada proceso en uno solo con fines de impresión (en pantalla o en archivo)"
      ]
    },
    {
      "cell_type": "markdown",
      "metadata": {
        "id": "bbxDJnVA0Rgh"
      },
      "source": [
        "### Código"
      ]
    },
    {
      "cell_type": "markdown",
      "metadata": {
        "id": "EmCtCIIj0K17"
      },
      "source": [
        "#### Archivo Cabecera"
      ]
    },
    {
      "cell_type": "code",
      "metadata": {
        "colab": {
          "base_uri": "https://localhost:8080/"
        },
        "id": "7HTQqquLyGjE",
        "outputId": "49af66c9-ca46-4782-e727-2c031b53a852"
      },
      "source": [
        "%%writefile funciones.h\n",
        "#include <stdlib.h>\n",
        "#include <stdio.h>\n",
        "#include <math.h> // ceil()\n",
        "#include <limits.h> // INT_MAX\n",
        "#include \"mpi.h\"\n",
        "\n",
        "#define BLOCK_LOW(id,p,n) ((id)*(n)/(p))\n",
        "#define BLOCK_HIGH(id,p,n) (BLOCK_LOW((id)+1,p,n)-1)\n",
        "#define BLOCK_SIZE(id,p,n)(BLOCK_HIGH(id,p,n)-BLOCK_LOW(id,p,n)+1)\n",
        "\n",
        "// Compara dos valores para la función qSort.\n",
        "int comparar(const void *_a, const void *_b) {\n",
        "\tint *a, *b;\n",
        "\t\n",
        "\ta = (int *) _a;\n",
        "\tb = (int *) _b;\n",
        "\t\n",
        "\treturn (*a - *b);\n",
        "}\n",
        "\n",
        "// Comprueba si se le ha asignado memoria al puntero.\n",
        "void asignarMemoria(int **arreglo, const unsigned numElem, const char nombreVar[30]) {\n",
        "\t*arreglo = (int *) malloc(numElem * sizeof(int));\n",
        "\t\n",
        "\tif (*arreglo == NULL) {\n",
        "\t\tprintf(\"Memoria insuficiente %s\\n\", nombreVar);\n",
        "\t\t\n",
        "\t\tMPI_Abort(MPI_COMM_WORLD, 99);\n",
        "\t}\n",
        "}\n",
        "\n",
        "//  Lectura de archivos\n",
        "int read_array(char* fname, int **arr, int np) {\n",
        "\tFILE *myFile;\n",
        "\tmyFile = fopen(fname, \"r\");\n",
        "\t\n",
        "\tif (!myFile) {\n",
        "\t\tprintf(\"ERROR: No se pudo abrir el archivo para lectura %s\", fname);\n",
        "\n",
        "\t\tMPI_Abort(MPI_COMM_WORLD, 99);\n",
        "\t}\n",
        "\t\n",
        "\tunsigned int n;\n",
        "\tfscanf(myFile, \"%i\\n\", &n); // numero de datos a leer\n",
        "\t\n",
        "\tasignarMemoria(arr, n, \"(arr)\");\n",
        "\t\n",
        "  for (int i = 0; i < n; i++) {\n",
        "\t\tfscanf(myFile, \"%i\\n\", (*arr) + i);\n",
        "\t}\n",
        "\t\n",
        "\tfor (int i = n; i < n; i++) {\n",
        "\t\tfscanf(myFile, \"%i\\n\", (*arr)+i);\n",
        "\t}\n",
        "\t\n",
        "\treturn n;\n",
        "}\n",
        "\n",
        "// Imprime el arreglo completo.\n",
        "void imprimirArreglo(const int *arreglo, const unsigned numElem) {\n",
        "\tprintf(\"[\");\n",
        "\t\n",
        "\tfor (int i = 0; i < numElem; i++) {\n",
        "\t\tprintf(\"%d, \", arreglo[i]);\n",
        "\t}\n",
        "\t\n",
        "\tprintf(\"\\b\\b]\\n\");\n",
        "}\n",
        "\n",
        "// Ordena los elementos del arreglo dado.\n",
        "void mezclar(int *destino, int *numDestino, int *agregado, int numAgregado) {\n",
        "    int numAux = (*numDestino) + numAgregado;\n",
        "\t\tint *aux;\n",
        "\n",
        "\t\tasignarMemoria(&aux, numAux, \"(aux)\");\n",
        "\n",
        "    int i = 0, j = 0, k = 0;\n",
        "    while (j < (*numDestino) && k < numAgregado) {\n",
        "        aux[i++] = (destino[j] < agregado[k]) ? destino[j++] : agregado[k++];\n",
        "    }\n",
        "\n",
        "    while (j < (*numDestino)) {\n",
        "        aux[i++] = destino[j++];\n",
        "    }\n",
        "\n",
        "    while (k < numAgregado) {\n",
        "        aux[i++] = agregado[k++];\n",
        "    }\n",
        "\n",
        "    for (i = 0; i < numAux; i++) {\n",
        "        destino[i] = aux[i];\n",
        "    }\n",
        "\n",
        "\t\t(*numDestino) = numAux;\n",
        "\n",
        "    free(aux);\n",
        "}"
      ],
      "execution_count": null,
      "outputs": [
        {
          "output_type": "stream",
          "name": "stdout",
          "text": [
            "Overwriting funciones.h\n"
          ]
        }
      ]
    },
    {
      "cell_type": "markdown",
      "metadata": {
        "id": "tfpPfMWL0Yd2"
      },
      "source": [
        "#### Programa Principal"
      ]
    },
    {
      "cell_type": "code",
      "metadata": {
        "colab": {
          "base_uri": "https://localhost:8080/"
        },
        "id": "fniCbpiD0axm",
        "outputId": "7823a01e-31f2-4bf0-c28c-8ca57b79a13d"
      },
      "source": [
        "%%writefile regularSampling.c\n",
        "#include \"funciones.h\"\n",
        "\n",
        "int main(int argc, char**argv) {\n",
        "\tint id, np, n, i, j, n_local, ndatos_recv;\n",
        "\tint *pivotes, *sendcounts, *sendbuf, *recvcounts, *recvbuf, *recvbuf_mezclas;\n",
        "\tint *muestras, *todas_las_muestras, *displs, *sdispls, *rdispls;\n",
        "\tdouble start, time;\n",
        "\t\n",
        "\tMPI_Init(&argc, &argv);\n",
        "\tMPI_Comm_size(MPI_COMM_WORLD, &np); // Numero total de procesos\n",
        "\tMPI_Comm_rank(MPI_COMM_WORLD, &id); // Valor de nuestro identificador\n",
        "\t\n",
        "\tMPI_Barrier(MPI_COMM_WORLD);  // sincronización\n",
        "\tstart = MPI_Wtime();\n",
        "\t\n",
        "\t// El root lee un dataset del archivo con n datos e inicia una dispersión de los datos.  <-----  (1)\n",
        "\tint root = np - 1;\n",
        "\tif (id == root) { // Lee los datos del archivo\n",
        "\t\tn = read_array(argv[1], &sendbuf, np);\n",
        "  }\n",
        "\t\n",
        "\tasignarMemoria(&sendcounts, np, \"(sendcounts)\");\n",
        "\t\n",
        "\tif (id == root) {\n",
        "\t\tfor (i = 0; i < np; i++) {\n",
        "\t\t\tsendcounts[i] = BLOCK_SIZE(i, np, n);\n",
        "\t\t}\n",
        "\t\t\n",
        "\t\tasignarMemoria(&displs, np, \"(displs)\");\n",
        "\t\t\n",
        "\t\tdispls[0] = 0;\n",
        "\t\tfor (i = 1; i < np; i++) {\n",
        "\t\t\tdispls[i] = displs[i - 1] + sendcounts[i - 1];\n",
        "\t\t}\n",
        "\t}\n",
        "\t\n",
        "\t// Comunica longitud de los chunks\n",
        "\tMPI_Bcast(&n, 1, MPI_INT, root, MPI_COMM_WORLD);\n",
        "\tn_local = BLOCK_SIZE(id, np, n);\n",
        "\t\n",
        "\tasignarMemoria(&recvbuf, n_local, \"(recvbuf)\");\n",
        "\t\n",
        "\tMPI_Scatterv(sendbuf, sendcounts, displs, MPI_INT, recvbuf, n_local, MPI_INT, root, MPI_COMM_WORLD);\n",
        "\t\n",
        "\t// Cada proceso ordena localmente sus datos con QuickSort  <-----  (2)\n",
        "\tqsort(recvbuf, n_local, sizeof(recvbuf[0]), &comparar);\n",
        "\t\n",
        "\t// Cada proceso selecciona los n índices 0, n/p^2, 2n/p^2, 3n/p^2,..., (p-1)n/p^2 como muestras regulares <-----  (3)\n",
        "\tasignarMemoria(&muestras, np, \"(muestras)\");\n",
        "\t\n",
        "\tfor (i = 0; i < np; i++) {\n",
        "\t\tmuestras[i] = recvbuf[ i*n/(np*np) ];\n",
        "\t}\n",
        "\n",
        "  // Un proceso recolecta y ordena las muestras regulares y selecciona p-1 valores pivote de la lista ordenada. <-----  (4)\n",
        "  // Los valores pivote están en los índices p+p/2-1, 2p+p/2-1, 3p+p/2-1, ... , (p-1)p+p/2-1.\n",
        "  // Los valores pivote son dados a conocer a todos los procesos.\n",
        "\tif (id == root) {\n",
        "\t\tasignarMemoria(&todas_las_muestras, np*np, \"(todas_las_muestras)\");\n",
        "\t}\n",
        "\n",
        "\tMPI_Gather( muestras, np, MPI_INT, todas_las_muestras, np, MPI_INT, root, MPI_COMM_WORLD );\n",
        "\t\n",
        "\tif (id == root) {\n",
        "\t\tqsort( todas_las_muestras, np*np, sizeof(int), &comparar );\n",
        "\t}\n",
        "\n",
        "\tasignarMemoria(&pivotes, np-1, \"(pivotes)\");\n",
        "\n",
        "\tif (id == root) {\n",
        "\t\tfor (i = 0; i < np - 1; i++) {\n",
        "\t\t\tpivotes[i] = todas_las_muestras[ (i+1)*np + np/2 -1 ];\n",
        "\t\t}\n",
        "\t}\n",
        "\n",
        "\tMPI_Bcast(pivotes, np-1, MPI_INT, root, MPI_COMM_WORLD);\n",
        "\n",
        "\t// Cada proceso particiona su sublista ordenada en p piezas disjuntas, usando los valores pivote como separadores. <----- (5)\n",
        "\tfor (i = 0, j = 0; i < (np-1); i++) {\n",
        "\t\tsendcounts[i] = 0;\n",
        "\t\t\n",
        "\t\twhile (recvbuf[j] <= pivotes[i] && j < n_local) {\n",
        "\t\t\tsendcounts[i]++;\n",
        "\t\t\t\n",
        "\t\t\tj++;\n",
        "\t\t}\n",
        "\t}\n",
        "\t\n",
        "\tsendcounts[np-1] = 0;\n",
        "\twhile (j < n_local) {\n",
        "\t\tsendcounts[np-1]++;\n",
        "\t\t\n",
        "\t\tj++;\n",
        "\t}\n",
        "\n",
        "\tasignarMemoria(&sdispls, np, \"(sdispls)\");\n",
        "\n",
        "\tsdispls[0] = 0;\n",
        "\tfor (i = 1; i < np; i++) {\n",
        "\t\tsdispls[i] = sdispls[i-1] + sendcounts[i-1];\n",
        "\t}\n",
        "\n",
        "\tasignarMemoria(&recvcounts, np, \"(recvcounts)\");\n",
        "\n",
        "\tMPI_Alltoall( sendcounts, 1, MPI_INT, recvcounts, 1, MPI_INT, MPI_COMM_WORLD );\n",
        "\t\n",
        "\tasignarMemoria(&rdispls, np, \"(rdispls)\");\n",
        "\n",
        "\trdispls[0] = 0;\n",
        "\tfor (i = 1; i < np; i++) {\n",
        "\t\trdispls[i] = rdispls[i-1] + recvcounts[i-1];\n",
        "\t}\n",
        "\n",
        "\tndatos_recv = 0;\n",
        "\tfor (i = 0; i < np; i++) {\n",
        "\t\tndatos_recv += recvcounts[i];\n",
        "\t}\n",
        "\t\n",
        "\tasignarMemoria(&recvbuf_mezclas, ndatos_recv, \"(recvbuf_mezclas)\");\n",
        "\n",
        "\t// Cada proceso P_i mantiene su i-ésima partición y envía la j-ésima partición al proceso P_j (alltoallv)  <----- (6)\n",
        "\tMPI_Alltoallv( recvbuf, sendcounts, sdispls, MPI_INT, recvbuf_mezclas, recvcounts, rdispls, MPI_INT, MPI_COMM_WORLD );\n",
        "\n",
        "\t// Cada proceso mezcla sus p particiones para obtener una sola lista.  <----- (7)\n",
        "\tint cantDatos = recvcounts[0];\n",
        "\tfor (i = 1; i < np; i++) {\n",
        "\t\t\tmezclar(recvbuf_mezclas, &cantDatos, recvbuf_mezclas + rdispls[i], recvcounts[i]);\n",
        "\t}\n",
        "\n",
        "\t// Recolectar los elementos que tiene cada proceso en un solo proceso con fines de impresión <---- (8)\n",
        "\tMPI_Gather(&ndatos_recv, 1, MPI_INT, recvcounts, 1, MPI_INT, root, MPI_COMM_WORLD);\n",
        "\t\n",
        "\tif (id == root) {\n",
        "\t\trdispls[0] = 0;\n",
        "\t\tfor (i = 1; i < np; i++) {\n",
        "\t\t\trdispls[i] = rdispls[i-1] + recvcounts[i-1];\n",
        "\t\t}\n",
        "\t}\n",
        "\t\n",
        "\tMPI_Gatherv( recvbuf_mezclas, ndatos_recv, MPI_INT, sendbuf, recvcounts, rdispls, MPI_INT, root, MPI_COMM_WORLD );\n",
        "\t\n",
        "\ttime = MPI_Wtime() - start;\n",
        "\n",
        "  if (id == root) {\n",
        "\t\t\tprintf(\"\\nNúmero de procesos = %d\", np);\n",
        "\t\t\tprintf(\"\\nCantidad de elementos = %d\", n);\n",
        "\t\t\tprintf(\"\\nTiempo necesario = %f\\n\", time);\n",
        "\t}\n",
        "\n",
        "\t// Liberar memoria\n",
        "\tif (id == root) {\n",
        "\t\tfree(sendcounts);\n",
        "\t\tfree(displs);\n",
        "\t\tfree(todas_las_muestras);\n",
        "\t}\n",
        "\n",
        "\tfree(recvbuf);\n",
        "\tfree(muestras);\n",
        "\tfree(pivotes);\n",
        " \n",
        "\tMPI_Finalize();\n",
        "\treturn 0;\n",
        "}"
      ],
      "execution_count": null,
      "outputs": [
        {
          "output_type": "stream",
          "name": "stdout",
          "text": [
            "Overwriting regularSampling.c\n"
          ]
        }
      ]
    },
    {
      "cell_type": "markdown",
      "metadata": {
        "id": "q51eX7S00bdo"
      },
      "source": [
        "### Bash"
      ]
    },
    {
      "cell_type": "code",
      "metadata": {
        "colab": {
          "base_uri": "https://localhost:8080/"
        },
        "id": "XJkttIiS0c-q",
        "outputId": "cf8f4fb4-25ff-4f02-e34d-4f46541f3f48"
      },
      "source": [
        "%%script bash\n",
        "mpicxx regularSampling.c -o ordenRegSam -lm\n",
        "mpirun --allow-run-as-root -np 5 ordenRegSam datos.dat"
      ],
      "execution_count": null,
      "outputs": [
        {
          "output_type": "stream",
          "name": "stdout",
          "text": [
            "\n",
            "Número de procesos = 5\n",
            "Cantidad de elementos = 37\n",
            "Tiempo necesario = 0.000684\n"
          ]
        }
      ]
    },
    {
      "cell_type": "markdown",
      "metadata": {
        "id": "Ky7KY7oQ6tBL"
      },
      "source": [
        "# **Criba de Eratosthenes**\n",
        "![image.png](data:image/png;base64,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)"
      ]
    },
    {
      "cell_type": "markdown",
      "metadata": {
        "id": "1YUp4D2dXMsV"
      },
      "source": [
        "## Secuencial"
      ]
    },
    {
      "cell_type": "markdown",
      "metadata": {
        "id": "BpOB_1Dh7D9-"
      },
      "source": [
        "### Código"
      ]
    },
    {
      "cell_type": "code",
      "metadata": {
        "colab": {
          "base_uri": "https://localhost:8080/"
        },
        "id": "G4n9l9kC6ysJ",
        "outputId": "ac88fb4d-fee4-48b2-aa74-4c76de5579fd"
      },
      "source": [
        "%%writefile criba.c\n",
        "#include <stdlib.h>\n",
        "#include <stdio.h>\n",
        "#include <sys/time.h>\n",
        "\n",
        "void main(int argc, char **argv) {\n",
        "    int n = atoi(argv[1]);\n",
        "\n",
        "    struct timeval tInicial;  // <--- toma de tiempo 1\n",
        "    gettimeofday(&tInicial, 0);\n",
        "\n",
        "    n--;\n",
        "\n",
        "    char *lista = (char *) malloc(n * sizeof(char));\n",
        "    if (lista == NULL) {\n",
        "        printf (\"Memoria insuficiente para crear el vector.\\n\");\n",
        "\n",
        "        exit (1);\n",
        "    }\n",
        "\n",
        "    if (lista == NULL) {\n",
        "      printf(\"Memoria insuficiente\\n\");\n",
        "\n",
        "      return;\n",
        "    }\n",
        "\n",
        "    for (int i = 0; i < n; i++) {\n",
        "        lista[i] = 0;\n",
        "    }\n",
        "\n",
        "    int k = 2, sqr_k;\n",
        "\n",
        "    do {\n",
        "        sqr_k = k*k;\n",
        "\n",
        "        for (int i = sqr_k - 2; i < n; i += k) {\n",
        "            lista[i] = 1;\n",
        "        }\n",
        "\n",
        "        for (int i = k - 1; i < n; i++) {\n",
        "            if (lista[i] == 0) {\n",
        "                k = i + 2;\n",
        "                \n",
        "                break;\n",
        "            }\n",
        "        }\n",
        "\n",
        "    } while (k*k < n);\n",
        "\n",
        "    int nPrimos = 0;\n",
        "\n",
        "    for (int i = 0; i < n; i++) {\n",
        "        if (lista[i] == 0) {\n",
        "            ++nPrimos;\n",
        "        }\n",
        "    }\n",
        "\n",
        "    struct timeval tFinal;  // <--- toma de tiempo 2\n",
        "    gettimeofday(&tFinal, 0);\n",
        "\n",
        "    long segundos = tFinal.tv_sec - tInicial.tv_sec;\n",
        "    long microsegundos = tFinal.tv_usec - tInicial.tv_usec;\n",
        "    double tTotal = segundos + (microsegundos * 1e-6);\n",
        "\n",
        "    printf(\"\\nPrimos encontrados = %d\", nPrimos);\n",
        "    printf(\"\\nTiempo total = %f segundos\\n\", tTotal);\n",
        "\n",
        "    free(lista);\n",
        "}"
      ],
      "execution_count": null,
      "outputs": [
        {
          "name": "stdout",
          "output_type": "stream",
          "text": [
            "Overwriting criba.c\n"
          ]
        }
      ]
    },
    {
      "cell_type": "markdown",
      "metadata": {
        "id": "jLwGoPnG7Enu"
      },
      "source": [
        "### Bash"
      ]
    },
    {
      "cell_type": "code",
      "metadata": {
        "colab": {
          "base_uri": "https://localhost:8080/"
        },
        "id": "Rnf4dcuU7FHT",
        "outputId": "81e93ba5-47b9-4ccb-ed02-82f9237a5496"
      },
      "source": [
        "%%script bash\n",
        "gcc criba.c -o criba -lm /* -std=gnu99 */\n",
        "./criba 500000000"
      ],
      "execution_count": null,
      "outputs": [
        {
          "name": "stdout",
          "output_type": "stream",
          "text": [
            "\n",
            "Primos encontrados = 26355867\n",
            "Tiempo total = 15.278350 segundos"
          ]
        }
      ]
    },
    {
      "cell_type": "markdown",
      "metadata": {
        "id": "fUPfLJyTX9Pw"
      },
      "source": [
        "## Paralelo - Versión 1"
      ]
    },
    {
      "cell_type": "markdown",
      "metadata": {
        "id": "EOkUEfB7X9Px"
      },
      "source": [
        "### Código"
      ]
    },
    {
      "cell_type": "code",
      "metadata": {
        "colab": {
          "base_uri": "https://localhost:8080/"
        },
        "id": "Pdoj110QX9Px",
        "outputId": "352e0256-5d4f-4ad2-c1b7-2aa8ebd46dae"
      },
      "source": [
        "%%writefile criba_v1.c\n",
        "/*\n",
        " *   Sieve of Eratosthenes\n",
        " *\n",
        " *   Programmed by Michael J. Quinn\n",
        " *\n",
        " *   Last modification: 7 September 2001\n",
        " */\n",
        "\n",
        "#include \"mpi.h\"\n",
        "#include <math.h>\n",
        "#include <stdio.h>\n",
        "#include <stdlib.h>\n",
        "\n",
        "\n",
        "int main (int argc, char *argv[])\n",
        "{\n",
        "  int    count;        /* Local prime count */\n",
        "  double elapsed_time; /* Parallel execution time */\n",
        "  int    first;        /* Index of first multiple */\n",
        "  int    global_count; /* Global prime count */\n",
        "  int    high_value;   /* Highest value on this proc */\n",
        "  int    i;\n",
        "  int    id;           /* Process ID number */\n",
        "  int    index;        /* Index of current prime */\n",
        "  int    low_value;    /* Lowest value on this proc */\n",
        "  char  *marked;       /* Portion of 2,...,'n' */\n",
        "  int    n;            /* Sieving from 2, ..., 'n' */\n",
        "  int    p;            /* Number of processes */\n",
        "  int    proc0_size;   /* Size of proc 0's subarray */\n",
        "  int    prime;        /* Current prime */\n",
        "  int    size;         /* Elements in 'marked' */\n",
        "\n",
        "  \n",
        "  MPI_Init (&argc, &argv);\n",
        "\n",
        "  /* Start the timer */\n",
        "\n",
        "  MPI_Comm_rank (MPI_COMM_WORLD, &id);\n",
        "  MPI_Comm_size (MPI_COMM_WORLD, &p);\n",
        "  MPI_Barrier(MPI_COMM_WORLD);\n",
        "  elapsed_time = -MPI_Wtime();\n",
        "\n",
        "  if (argc != 2) { if (!id) printf (\"Command line: %s <m>\\n\", argv[0]); MPI_Finalize(); exit (1);}\n",
        "\n",
        "  n = atoi(argv[1]);\n",
        "\n",
        "  /* Figure out this process's share of the array, as\n",
        "    well as the integers represented by the first and\n",
        "    last array elements */\n",
        "\n",
        "  low_value = 2 + id*(n-1)/p;\n",
        " \n",
        "  high_value = 1 + (id+1)*(n-1)/p;\n",
        " \n",
        "  size = high_value - low_value + 1;\n",
        " \n",
        "  //printf(\"\\n[%d] low_value= %d,  high_value=%d,  size=%d\\n\", id, low_value, high_value, size);\n",
        "\n",
        "  /* Bail out if all the primes used for sieving are not all held by process 0 */\n",
        "  proc0_size = (n-1)/p;\n",
        "  \n",
        "  if ((2 + proc0_size) < (int) sqrt((double) n)) { if (!id) printf (\"Too many processes\\n\"); MPI_Finalize();  exit (1); }\n",
        "\n",
        "  /* Allocate this process's share of the array. */\n",
        "  marked = (char *) malloc (size);\n",
        "  if (marked == NULL) {printf (\"Cannot allocate enough memory\\n\"); MPI_Finalize();exit (1);}\n",
        "\n",
        "  for (i = 0; i < size; i++) marked[i] = 0;\n",
        "  if (!id) index = 0;\n",
        "  prime = 2;\n",
        "  do {      \n",
        "    if (prime * prime > low_value)\n",
        "      first = prime * prime - low_value;\n",
        "    else {\n",
        "      if (!(low_value % prime)) first = 0;\n",
        "      else first = prime - (low_value % prime);\n",
        "    }\n",
        "   \n",
        "    for (i = first; i < size; i += prime) marked[i] = 1;\n",
        "    if (!id) {\n",
        "      while (marked[++index]);\n",
        "      prime = index + 2;\n",
        "    }\n",
        "    if (p > 1) MPI_Bcast (&prime,  1, MPI_INT, 0, MPI_COMM_WORLD);\n",
        "  } while (prime * prime <= n);\n",
        "\n",
        "  count = 0;\n",
        "  for (i = 0; i < size; i++)\n",
        "    if (!marked[i]) count++;\n",
        "\n",
        "  if (p > 1) MPI_Reduce (&count, &global_count, 1, MPI_INT, MPI_SUM, 0, MPI_COMM_WORLD);\n",
        "  free(marked);\n",
        "  // Stop the timer \n",
        "\n",
        "  elapsed_time += MPI_Wtime();\n",
        "\n",
        "  // Print the results \n",
        "\n",
        "  if (!id) {\n",
        "    if(p>1) printf (\"There are %d primes less than or equal to %d\\n\", global_count, n);\n",
        "    else printf (\"There are %d primes less than or equal to %d\\n\", count, n);\n",
        "    printf (\"SIEVE (%d) %10.6f segs\\n\", p, elapsed_time);\n",
        "  }\n",
        "  MPI_Finalize ();\n",
        "  return 0;\n",
        "}"
      ],
      "execution_count": null,
      "outputs": [
        {
          "output_type": "stream",
          "name": "stdout",
          "text": [
            "Overwriting criba_v1.c\n"
          ]
        }
      ]
    },
    {
      "cell_type": "markdown",
      "metadata": {
        "id": "RF8SMNUEX9Py"
      },
      "source": [
        "### Bash"
      ]
    },
    {
      "cell_type": "code",
      "metadata": {
        "id": "5XrvqGM9YVR4",
        "colab": {
          "base_uri": "https://localhost:8080/"
        },
        "outputId": "d5d2b2d3-f7eb-4d32-e3f3-50e87b285d04"
      },
      "source": [
        "%%script bash\n",
        "mpicc criba_v1.c -o criba_v1 -lm\n",
        "mpiexec --allow-run-as-root -np 5 criba_v1 500000000"
      ],
      "execution_count": null,
      "outputs": [
        {
          "output_type": "stream",
          "name": "stdout",
          "text": [
            "Process is terminated.\n"
          ]
        }
      ]
    },
    {
      "cell_type": "markdown",
      "metadata": {
        "id": "rNCnaw5LYZNm"
      },
      "source": [
        "## Paralelo - Versión 2"
      ]
    },
    {
      "cell_type": "markdown",
      "metadata": {
        "id": "BzZLied1YZNm"
      },
      "source": [
        "### Código"
      ]
    },
    {
      "cell_type": "code",
      "metadata": {
        "colab": {
          "base_uri": "https://localhost:8080/"
        },
        "id": "Pe9vO7aYYZNm",
        "outputId": "ac88fb4d-fee4-48b2-aa74-4c76de5579fd"
      },
      "source": [
        "%%writefile criba_v2.c\n",
        "/*\n",
        " *   Sieve of Eratosthenes\n",
        " *\n",
        " *   In this version only odd integers are represented.\n",
        " *\n",
        " *   Programmed by Michael J. Quinn\n",
        " *\n",
        " *   Last modification: 4 September 2001\n",
        " */\n",
        "\n",
        "#include \"mpi.h\"\n",
        "#include <math.h>\n",
        "#include <stdio.h>\n",
        "#include <stdlib.h>\n",
        "#define MIN(a,b)  ((a)<(b)?(a):(b))\n",
        "\n",
        "int main (int argc, char *argv[])\n",
        "{\n",
        "  double elapsed_time;\n",
        "  int   els;\n",
        "  int   global_count;\n",
        "  int   high_value;\n",
        "  int   i, m, count;\n",
        "  int   id;\n",
        "  int   index, prime, first, step;\n",
        "  int   larger_size;\n",
        "  int   local_count;\n",
        "  int   low_value;\n",
        "  char *marked;\n",
        "  int   num_larger_blocks;\n",
        "  int   p;\n",
        "  int   proc0_size;\n",
        "  int   smaller_size;\n",
        "  int   size;\n",
        "\n",
        "  MPI_Init (&argc, &argv);\n",
        "  MPI_Comm_rank (MPI_COMM_WORLD, &id);\n",
        "  MPI_Comm_size (MPI_COMM_WORLD, &p);\n",
        "  elapsed_time = - MPI_Wtime();\n",
        "\n",
        "  if (argc != 2) {\n",
        "  if (!id) printf (\"Command line: %s <m>\\n\", argv[0]);\n",
        "  MPI_Finalize();\n",
        "  exit (1);\n",
        "  }\n",
        "\n",
        "  m = atoi(argv[1]);\n",
        "  els = (m-1) / 2;       /* Only odd integers will be represented */\n",
        "\n",
        "  /* Figure out this process's share of the array, as well as the\n",
        "    integers represented by the first and last array elements */\n",
        "\n",
        "  smaller_size = els/p;\n",
        "  larger_size = smaller_size + 1;\n",
        "  num_larger_blocks = els % p;\n",
        "  if (id < num_larger_blocks) size = larger_size;\n",
        "  else size = smaller_size;\n",
        "\n",
        "  low_value = 2*(id*smaller_size + MIN(id, num_larger_blocks)) + 3;\n",
        "  high_value = low_value + 2*(size - 1);\n",
        "\n",
        "  if (num_larger_blocks > 0) proc0_size = larger_size;\n",
        "  else proc0_size = smaller_size;\n",
        "\n",
        "  if ((1 + 2*proc0_size) < (int) sqrt((double)m)) {\n",
        "  if (!id) printf (\"Too many processes, given upper bound of sieve\\n\");\n",
        "  if (!id) printf (\"proc0_size is %d and m is %d\\n\", proc0_size, m);\n",
        "  MPI_Finalize();\n",
        "  exit (1);\n",
        "  }\n",
        "\n",
        "  /* Allocate this process's share of the array. */\n",
        "\n",
        "  marked = (char *) malloc (size);\n",
        "\n",
        "  if (marked == NULL) {\n",
        "  printf (\"Cannot allocate enough memory\\n\");\n",
        "  MPI_Finalize();\n",
        "  exit (1);\n",
        "  }\n",
        "\n",
        "  for (i = 0; i < size; i++) marked[i] = 0;\n",
        "  if (!id) index = 0;\n",
        "  prime = 3;\n",
        "  do {\n",
        "    if (prime * prime > low_value) first = (prime * prime - low_value)/2;\n",
        "    else {\n",
        "      int r = low_value % prime;\n",
        "      if (!r) first = 0;\n",
        "      else \n",
        "        if ((prime - r) & 1)\n",
        "          first = (2*prime - r)/2;\n",
        "        else first = (prime - r)/2;\n",
        "    }\n",
        "    for (i = first; i < size; i += prime) marked[i] = 1;\n",
        "    if (!id) {\n",
        "      while (marked[++index]);\n",
        "      prime = 2*index + 3;\n",
        "    }\n",
        "    MPI_Bcast (&prime,  1, MPI_INT, 0, MPI_COMM_WORLD);\n",
        "  } while (prime * prime <= m);\n",
        "\n",
        "  count = 0;\n",
        "  for (i = 0; i < size; i++)\n",
        "    if (!marked[i]) count++;\n",
        "\n",
        "  MPI_Reduce (&count, &global_count, 1, MPI_INT, MPI_SUM, 0, MPI_COMM_WORLD);\n",
        "  free(marked);\n",
        "  global_count++;   /* To account for the only even prime, 2 */\n",
        "\n",
        "  elapsed_time += MPI_Wtime();\n",
        "\n",
        "  if (!id) {\n",
        "  printf (\"There are %d primes less than or equal to %d\\n\", global_count, m);\n",
        "  printf (\"SIEVE_ODD (%d) %10.6f\\n\", p, elapsed_time);\n",
        "  }\n",
        "\n",
        "  MPI_Finalize ();\n",
        "  return 0;\n",
        "}\n"
      ],
      "execution_count": null,
      "outputs": [
        {
          "name": "stdout",
          "output_type": "stream",
          "text": [
            "Overwriting criba.c\n"
          ]
        }
      ]
    },
    {
      "cell_type": "markdown",
      "metadata": {
        "id": "yq7XqUa1YZNn"
      },
      "source": [
        "### Bash"
      ]
    },
    {
      "cell_type": "code",
      "metadata": {
        "id": "EiG5AbFnYZNn"
      },
      "source": [
        "%%script bash\n",
        "mpicc criba_v2.c -o criba_v2 -lm\n",
        "mpiexec --allow-run-as-root -np 3 criba_v2 500000000 "
      ],
      "execution_count": null,
      "outputs": []
    },
    {
      "cell_type": "markdown",
      "metadata": {
        "id": "I8xThFlFYZvz"
      },
      "source": [
        "## Paralelo - Versión 3"
      ]
    },
    {
      "cell_type": "markdown",
      "metadata": {
        "id": "z5SH3naHYZvz"
      },
      "source": [
        "### Código"
      ]
    },
    {
      "cell_type": "code",
      "metadata": {
        "colab": {
          "base_uri": "https://localhost:8080/"
        },
        "id": "11wXUB-0YZv0",
        "outputId": "ac88fb4d-fee4-48b2-aa74-4c76de5579fd"
      },
      "source": [
        "%%writefile criba_v3.c\n",
        "/*\n",
        " *   Sieve of Eratosthenes\n",
        " *\n",
        " *   This MPI program computes the number of prime numbers\n",
        " *   less than N, where N is a command-line argument.\n",
        " *\n",
        " *   Enhancements:\n",
        " *      Only odd integers are represented\n",
        " *      Each process finds its own prime sieve values: there\n",
        " *         is no broadcast step\n",
        " *\n",
        " *   Programmer: Michael J. Quinn\n",
        " *\n",
        " *   Last modification: 6 September 2001\n",
        " */\n",
        "\n",
        "#include \"mpi.h\"\n",
        "#include <math.h>\n",
        "#include <stdio.h>\n",
        "#include <stdlib.h>\n",
        "#define MIN(a,b)  ((a)<(b)?(a):(b))\n",
        "\n",
        "int main (int argc, char *argv[])\n",
        "{\n",
        "   int    current_prime;     /* Sieve by this prime */\n",
        "   double elapsed_time;      /* Stopwatch */\n",
        "   int    id_num;            /* Process rank */\n",
        "   int    n;                 /* Top integer to check */\n",
        "   int    p;                 /* Number of processors */\n",
        "   int    sqrt_n;            /* Top value for sieve primes */\n",
        "   char  *small_primes;      /* 1's show primes to sqrt(n) */\n",
        "   char  *primes;            /* Share of values 3..n */\n",
        "   int    small_prime_count; /* Number of sieve primes */\n",
        "   int   *small_prime_values;/* Array of sieving primes */\n",
        "   int    index;             /* Sieving location */\n",
        "   int    i, j, k;\n",
        "   int    size;              /* Size of array 'primes' */\n",
        "   int    prime_count;       /* Primes on this proc */\n",
        "   int    low_proc_value;    /* Smallest int on this proc */\n",
        "   int    high_proc_value;   /* Highest int on this proc */\n",
        "   int    smaller_size;      /* Smaller block size */\n",
        "   int    larger_size;\n",
        "   int    num_larger_blocks;\n",
        "   int blocks;\n",
        "   int low;\n",
        "   int high;\n",
        "   int global_count;\n",
        "   int small_prime_array_size;\n",
        "   int els;\n",
        "   \n",
        "  int seq_sieve (char *, int , int );\n",
        "   MPI_Init (&argc, &argv);\n",
        "   MPI_Barrier(MPI_COMM_WORLD);\n",
        "   elapsed_time = -MPI_Wtime();\n",
        "   n = atoi (argv[1]);\n",
        " \n",
        "   MPI_Comm_rank (MPI_COMM_WORLD, &id_num);\n",
        "   MPI_Comm_size (MPI_COMM_WORLD, &p);\n",
        " \n",
        "   sqrt_n = (int) sqrt((double) n);\n",
        "   small_prime_array_size = (sqrt_n - 1)/2;\n",
        "   small_primes = (char *) malloc (small_prime_array_size);\n",
        "   small_prime_count = seq_sieve (small_primes, small_prime_array_size, sqrt_n);\n",
        "   small_prime_values = (int *) malloc (small_prime_count * sizeof(int));\n",
        "   index = 0;\n",
        "   for (i = 0; i < small_prime_array_size; i++)\n",
        "      if (small_primes[i]) {\n",
        "         small_prime_values[index++] = 2*i+3;\n",
        "      }\n",
        "   els = (n-1) / 2;\n",
        "   smaller_size = els / p;\n",
        "   larger_size = smaller_size + 1;\n",
        "   num_larger_blocks = els % p;\n",
        "   if (id_num < num_larger_blocks) size = larger_size;\n",
        "   else size = smaller_size;\n",
        " \n",
        "   low_proc_value = 2*(id_num*smaller_size + MIN(id_num, num_larger_blocks)) + 3;\n",
        "   high_proc_value = low_proc_value + 2 * (size-1);\n",
        " \n",
        "   primes = (char *) malloc (size);\n",
        "\n",
        "\n",
        "   for (j = 0; j < size; j++) primes[j] = 1;\n",
        "\n",
        "   for (j = 0; j < small_prime_count; j++) {\n",
        "      current_prime = small_prime_values[j];\n",
        "      if (current_prime * current_prime > low_proc_value)\n",
        "         index = (current_prime * current_prime - low_proc_value)/2;\n",
        "      else {\n",
        "         int r = low_proc_value % current_prime;\n",
        "         if (!r) index = 0;\n",
        "         else \n",
        "          if ((current_prime - r) & 1)\n",
        "            index = (2*current_prime - r)/2;\n",
        "          else \n",
        "            index = (current_prime - r)/2;\n",
        "      }\n",
        "      if (index >= size) break;\n",
        "      for (k = index; k < size; k+= current_prime)\n",
        "         primes[k] = 0;\n",
        "   }\n",
        "\n",
        "   prime_count = 0;\n",
        "   for (j = 0; j < size; j++)\n",
        "      if (primes[j]) prime_count++;\n",
        " \n",
        "   MPI_Reduce (&prime_count, &global_count, 1, MPI_INT, MPI_SUM, 0, MPI_COMM_WORLD);\n",
        " \n",
        "\n",
        "  free(primes);\n",
        "  free(small_primes);\n",
        "  free(small_prime_values);\n",
        "\n",
        "   if (!id_num) global_count++;   /* To account for only even prime, 2 */\n",
        "   elapsed_time += MPI_Wtime();\n",
        "   if (!id_num) {\n",
        "      printf (\"Total prime count is %d\\n\", global_count);\n",
        "      printf (\"SIEVE_ODD_NO_BCAST (%d) %10.6f segs\\n\", p, elapsed_time);\n",
        "   }\n",
        "   MPI_Finalize();\n",
        "   return 0;\n",
        "}\n",
        "//--------------------------------------------------------------------\n",
        "int seq_sieve (char *small_primes, int small_prime_array_size, int sqrt_n)\n",
        "{\n",
        "   int i, j;\n",
        "   int prime_index;\n",
        "   int prime_value;\n",
        "   int count;\n",
        "\n",
        "   /* small_primes[i] represents integer 2i+3 */\n",
        "\n",
        "   for (i = 0; i < small_prime_array_size; i++) small_primes[i] = 1;\n",
        " \n",
        "   prime_index = 0;\n",
        "   prime_value = 3;\n",
        "   while (prime_value * prime_value <= sqrt_n) {\n",
        "      j = prime_value * prime_value / 2 - 1;\n",
        "      while (j < small_prime_array_size) {\n",
        "         small_primes[j] = 0;\n",
        "         j += prime_value;\n",
        "      }\n",
        "      while (small_primes[++prime_index] == 0);\n",
        "      prime_value = 2*prime_index + 3;\n",
        "   }\n",
        "   count = 0;\n",
        "   for (i = 0; i < small_prime_array_size; i++)\n",
        "      if (small_primes[i] == 1) {\n",
        "         count++;\n",
        "      }\n",
        "   return count;\n",
        "}\n"
      ],
      "execution_count": null,
      "outputs": [
        {
          "name": "stdout",
          "output_type": "stream",
          "text": [
            "Overwriting criba.c\n"
          ]
        }
      ]
    },
    {
      "cell_type": "markdown",
      "metadata": {
        "id": "wr5gYvF0YZv0"
      },
      "source": [
        "### Bash"
      ]
    },
    {
      "cell_type": "code",
      "metadata": {
        "id": "0jBoAc9vYZv0"
      },
      "source": [
        "%%script bash\n",
        "mpicc criba_v3.c -o criba_v3 -lm\n",
        "mpiexec --allow-run-as-root -np 3 criba_v3 500000000 >> time.dat"
      ],
      "execution_count": null,
      "outputs": []
    }
  ]
}