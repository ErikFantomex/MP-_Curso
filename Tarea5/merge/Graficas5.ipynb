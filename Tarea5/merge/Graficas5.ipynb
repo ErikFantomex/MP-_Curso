{
 "cells": [
  {
   "cell_type": "code",
   "execution_count": 2,
   "id": "6c65ac36-c4b7-4ad2-93fd-437f79c5ce0c",
   "metadata": {},
   "outputs": [],
   "source": [
    "import pandas as pd\n",
    "import numpy as np\n",
    "import matplotlib.pyplot as plt\n",
    "\n",
    "#df  = pd.read_csv(\"tiempo_sec.dat\")\n",
    "df1 = pd.read_csv(\"tiempos.dat\", sep=',',  names=['np','tiempo'])"
   ]
  },
  {
   "cell_type": "code",
   "execution_count": 3,
   "id": "2ef1fc7c-e356-4620-950c-dd2a775d3227",
   "metadata": {},
   "outputs": [
    {
     "data": {
      "text/html": [
       "<div>\n",
       "<style scoped>\n",
       "    .dataframe tbody tr th:only-of-type {\n",
       "        vertical-align: middle;\n",
       "    }\n",
       "\n",
       "    .dataframe tbody tr th {\n",
       "        vertical-align: top;\n",
       "    }\n",
       "\n",
       "    .dataframe thead th {\n",
       "        text-align: right;\n",
       "    }\n",
       "</style>\n",
       "<table border=\"1\" class=\"dataframe\">\n",
       "  <thead>\n",
       "    <tr style=\"text-align: right;\">\n",
       "      <th></th>\n",
       "      <th>np</th>\n",
       "      <th>tiempo</th>\n",
       "    </tr>\n",
       "  </thead>\n",
       "  <tbody>\n",
       "    <tr>\n",
       "      <th>0</th>\n",
       "      <td>1</td>\n",
       "      <td>2.71092</td>\n",
       "    </tr>\n",
       "    <tr>\n",
       "      <th>1</th>\n",
       "      <td>2</td>\n",
       "      <td>1.88101</td>\n",
       "    </tr>\n",
       "    <tr>\n",
       "      <th>2</th>\n",
       "      <td>3</td>\n",
       "      <td>1.72982</td>\n",
       "    </tr>\n",
       "    <tr>\n",
       "      <th>3</th>\n",
       "      <td>4</td>\n",
       "      <td>1.52685</td>\n",
       "    </tr>\n",
       "    <tr>\n",
       "      <th>4</th>\n",
       "      <td>5</td>\n",
       "      <td>1.47550</td>\n",
       "    </tr>\n",
       "    <tr>\n",
       "      <th>5</th>\n",
       "      <td>6</td>\n",
       "      <td>1.37675</td>\n",
       "    </tr>\n",
       "    <tr>\n",
       "      <th>6</th>\n",
       "      <td>7</td>\n",
       "      <td>1.36471</td>\n",
       "    </tr>\n",
       "    <tr>\n",
       "      <th>7</th>\n",
       "      <td>8</td>\n",
       "      <td>1.30460</td>\n",
       "    </tr>\n",
       "    <tr>\n",
       "      <th>8</th>\n",
       "      <td>9</td>\n",
       "      <td>1.29986</td>\n",
       "    </tr>\n",
       "    <tr>\n",
       "      <th>9</th>\n",
       "      <td>10</td>\n",
       "      <td>1.26222</td>\n",
       "    </tr>\n",
       "    <tr>\n",
       "      <th>10</th>\n",
       "      <td>11</td>\n",
       "      <td>1.26242</td>\n",
       "    </tr>\n",
       "    <tr>\n",
       "      <th>11</th>\n",
       "      <td>12</td>\n",
       "      <td>1.23395</td>\n",
       "    </tr>\n",
       "    <tr>\n",
       "      <th>12</th>\n",
       "      <td>13</td>\n",
       "      <td>1.23745</td>\n",
       "    </tr>\n",
       "    <tr>\n",
       "      <th>13</th>\n",
       "      <td>14</td>\n",
       "      <td>1.21776</td>\n",
       "    </tr>\n",
       "    <tr>\n",
       "      <th>14</th>\n",
       "      <td>15</td>\n",
       "      <td>1.22795</td>\n",
       "    </tr>\n",
       "  </tbody>\n",
       "</table>\n",
       "</div>"
      ],
      "text/plain": [
       "    np   tiempo\n",
       "0    1  2.71092\n",
       "1    2  1.88101\n",
       "2    3  1.72982\n",
       "3    4  1.52685\n",
       "4    5  1.47550\n",
       "5    6  1.37675\n",
       "6    7  1.36471\n",
       "7    8  1.30460\n",
       "8    9  1.29986\n",
       "9   10  1.26222\n",
       "10  11  1.26242\n",
       "11  12  1.23395\n",
       "12  13  1.23745\n",
       "13  14  1.21776\n",
       "14  15  1.22795"
      ]
     },
     "execution_count": 3,
     "metadata": {},
     "output_type": "execute_result"
    }
   ],
   "source": [
    "df1"
   ]
  },
  {
   "cell_type": "markdown",
   "id": "19a1ea7f-71dc-41b3-96c8-0ac9f4b08165",
   "metadata": {},
   "source": [
    "#2.717144"
   ]
  },
  {
   "cell_type": "markdown",
   "id": "54ca5d2d-7576-4d49-8f6e-d78588732c33",
   "metadata": {},
   "source": [
    "# Grafica Tiempo"
   ]
  },
  {
   "cell_type": "code",
   "execution_count": 6,
   "id": "40deb1f7-e295-4a92-b69d-d7001929fe2b",
   "metadata": {},
   "outputs": [
    {
     "data": {
      "text/plain": [
       "Text(0.5, 1.0, ' Merge-split Sort')"
      ]
     },
     "execution_count": 6,
     "metadata": {},
     "output_type": "execute_result"
    },
    {
     "data": {
      "image/png": "[encoded data removed]",
      "text/plain": [
       "<Figure size 432x288 with 1 Axes>"
      ]
     },
     "metadata": {
      "needs_background": "light"
     },
     "output_type": "display_data"
    }
   ],
   "source": [
    "plt.plot(1,2.717144,color='r',marker='*',markersize=20)\n",
    "plt.text(1.5,2.717144,'<--- qsort secuencial',color='r')\n",
    "\n",
    "plt.plot(df1['np'], df1['tiempo'],color='b',marker='.',label='paralela v1',linestyle='dashed')\n",
    "#plt.plot(df2['np'], df2['tiempo'],color='g',marker='.',label='paralela v2')\n",
    "plt.xlabel(\"Numero de procesos\")\n",
    "plt.ylabel(\"Tiempo\")\n",
    "plt.legend()\n",
    "plt.title(\" Merge-split Sort\")\n",
    "#plt.axis([0.5, 10.5, -0.1, maximo+0.5])"
   ]
  },
  {
   "cell_type": "markdown",
   "id": "df4d28c7-a1c9-449f-a95f-7e72431b821e",
   "metadata": {},
   "source": [
    "# Grafica speedup"
   ]
  },
  {
   "cell_type": "code",
   "execution_count": 11,
   "id": "86d923d8-d2e7-4b60-9253-a7c450b152a7",
   "metadata": {},
   "outputs": [
    {
     "data": {
      "text/plain": [
       "Text(0.5, 1.0, ' Merge-split Sort vs qsort')"
      ]
     },
     "execution_count": 11,
     "metadata": {},
     "output_type": "execute_result"
    },
    {
     "data": {
      "image/png": "[encoded data removed]",
      "text/plain": [
       "<Figure size 432x288 with 1 Axes>"
      ]
     },
     "metadata": {
      "needs_background": "light"
     },
     "output_type": "display_data"
    }
   ],
   "source": [
    "#plt.plot(1,2.717144,color='r',marker='*',markersize=20)\n",
    "#plt.text(1.5,2.717144,'<--- qsort secuencial',color='r')\n",
    "\n",
    "plt.plot(df1['np'], (2.717144)/df1['tiempo'],color='b',marker='.',label='paralela v1',linestyle='dashed')\n",
    "#plt.plot(df2['np'], df2['tiempo'],color='g',marker='.',label='paralela v2')\n",
    "plt.xlabel(\"Numero de procesos\")\n",
    "plt.ylabel(\"Speedup\")\n",
    "plt.legend()\n",
    "plt.title(\" Merge-split Sort vs qsort\")\n",
    "#plt.axis([0.5, 10.5, -0.1, maximo+0.5])"
   ]
  },
  {
   "cell_type": "markdown",
   "id": "84176953-cf64-4c2f-9031-23e62a335271",
   "metadata": {},
   "source": [
    "# Grafica eficiencia"
   ]
  },
  {
   "cell_type": "code",
   "execution_count": 13,
   "id": "eec0ab68-f94e-4e6b-b10f-2513240f6dfb",
   "metadata": {},
   "outputs": [
    {
     "data": {
      "text/plain": [
       "Text(0.5, 1.0, ' Merge-split Sort vs qsort')"
      ]
     },
     "execution_count": 13,
     "metadata": {},
     "output_type": "execute_result"
    },
    {
     "data": {
      "image/png": "[encoded data removed]",
      "text/plain": [
       "<Figure size 432x288 with 1 Axes>"
      ]
     },
     "metadata": {
      "needs_background": "light"
     },
     "output_type": "display_data"
    }
   ],
   "source": [
    "plt.plot(df1['np'], ((2.717144)/df1['tiempo'])*df1['np'],color='b',marker='.',label='paralela v1',linestyle='dashed')\n",
    "#plt.plot(df2['np'], df2['tiempo'],color='g',marker='.',label='paralela v2')\n",
    "plt.xlabel(\"Numero de procesos\")\n",
    "plt.ylabel(\"Eficiencia\")\n",
    "plt.legend()\n",
    "plt.title(\" Merge-split Sort vs qsort\")\n",
    "#plt.axis([0.5, 10.5, -0.1, maximo+0.5])"
   ]
  }
 ],
 "metadata": {
  "kernelspec": {
   "display_name": "Python 3 (ipykernel)",
   "language": "python",
   "name": "python3"
  },
  "language_info": {
   "codemirror_mode": {
    "name": "ipython",
    "version": 3
   },
   "file_extension": ".py",
   "mimetype": "text/x-python",
   "name": "python",
   "nbconvert_exporter": "python",
   "pygments_lexer": "ipython3",
   "version": "3.8.5"
  }
 },
 "nbformat": 4,
 "nbformat_minor": 5
}
