{
  "cells": [
    {
      "cell_type": "markdown",
      "metadata": {
        "id": "Rex9eg0SUJ8P"
      },
      "source": [
        "# Introducción"
      ]
    },
    {
      "cell_type": "markdown",
      "metadata": {
        "id": "B3daCOlENREB"
      },
      "source": [
        "El objetivo de este material es presentarte los fundamentos de MPI utilizando  ejemplos en C, C++, Fortran y Python. Aunque cabe hacer la aclaración de que la librería para C y C++ es la misma, es decir no hay cambios en el uso de las funciones de MPI, sin embargo, se incluyen los ejemplos para dejar a la elección del estudiante qué lenguaje utiizar en las tareas.\n",
        "\n",
        "Se muestra cómo compilar y ejecutar el código en cada uno de los lenguajes mencionados.\n",
        "\n",
        "Utizaremos estándar 3.1 para la descripción de las funciones por ser la última versión liberada. Se incluyen funciones para la comunicación punto a punto, comunicación colectiva, se presentan los conceptos de grupos y comunicadores, topologías de procesos, entrada y salida paralela, entre otras.\n"
      ]
    },
    {
      "cell_type": "markdown",
      "metadata": {
        "id": "Xw66zXG7Vwj_"
      },
      "source": [
        "MPI (Message-Passing Interface) es una especificación de interfaz de biblioteca de paso de mensajes. Todas las partes de esta definición son significativas. MPI aborda principalmente el modelo de programación paralela de paso de mensajes, en el que los datos se mueven desde el espacio de direcciones de un proceso al de otro proceso a través de operaciones cooperativas en cada proceso. \n",
        "\n",
        "MPI es una especificación, no una implementación; hay múltiples implementaciones de MPI, por ejemplo\n",
        "* [Open-MPI](https://www.open-mpi.org/)\n",
        "* [MPICH](https://www.mpich.org/)\n",
        "* [mpi4py](https://pypi.org/project/mpi4py/)\n",
        "\n",
        "\n",
        "Esta especificación es para una interfaz de biblioteca; MPI no es un lenguaje, y todas las operaciones de MPI se expresan como funciones, subrutinas o métodos, de acuerdo con los enlaces de lenguaje apropiados que, para C y Fortran, son parte del estándar MPI. \n",
        "\n",
        "El estándar ha sido definido a través de un proceso abierto por una comunidad de proveedores de computación paralelos, científicos informáticos y desarrolladores de aplicaciones. \n",
        "\n",
        "El objetivo de la interfaz de paso de mensajes, en pocas palabras, es desarrollar un estándar ampliamente utilizado para escribir programas de paso de mensajes. Como tal, la interfaz debería establecer un estándar práctico, portátil, eficiente y flexible para el paso de mensajes. \n",
        "\n"
      ]
    },
    {
      "cell_type": "markdown",
      "metadata": {
        "id": "olR6XQBXNXxt"
      },
      "source": [
        "## Sitio oficial\n",
        "El estándar MPI v1.1 fue liberada en 1994 y en el 2015 se liberó la versión 3.1; ésta última, está disponible en [la liga](https://www.mpi-forum.org/docs/mpi-3.1/mpi31-report.pdf), aunque ya se está trabajando para liberar la versión 4.0, puedes consultar los avances en el sitio oficial MPI-Forum (https://www.mpi-forum.org/)\n",
        "\n",
        "\n"
      ]
    },
    {
      "cell_type": "markdown",
      "metadata": {
        "id": "tIu8J03bUkFD"
      },
      "source": [
        "## Material recomendado\n",
        "\n",
        "Sitios recomendados, donde se explica el uso de funciones de MPI, de manera individual y, en algunos casos, con ejemplos de uso.\n",
        "\n",
        "*   [Open-mpi](https://www.open-mpi.org/doc/v3.1/)\n",
        "*   [rockiehpc.com](https://www.rookiehpc.com/mpi/docs/index.php)\n",
        "* [www.bu.edu](http://www.bu.edu/tech/support/research/training-consulting/online-tutorials/mpi/)\n",
        "* [MPI-Forum](https://www.mpi-forum.org/docs/)\n",
        "\n"
      ]
    },
    {
      "cell_type": "markdown",
      "metadata": {
        "id": "dDbtxy1Rc04d"
      },
      "source": [
        "## Convenciones\n",
        "\n",
        "En la mayoría de los casos, las funciones MPI para C tiene la forma **MPI_Class_action_subset**, esto se originó en MPI v1. Esto cambió a partir de MPI v2 con la intención de estandarizar los nombre de las funciones de acuerdo a las siguientes reglas:\n",
        "\n",
        "* En C, todas las funciones asociadas con una función deberán tener la forma MPI_Class_action_subset o, si el suconjunto no existe, de la forma MPI_Class_action. En Fortran, todas las rutinas tienen la forma MPI_CLASS_ACTION_SUBSET p, si el subconjunto no existe, tendrá la forma MPI_CLASS_ACTION.\n",
        "* Las funciones o rutinas que no estén asociadas a una clase, deberán tener la forma MPI_Action_subset o MPI_ACTION_SUBSET, para C o Frotran.\n",
        "* Los nombres de ciertas acciones se ha estandarizado. En particular, **Create** crea un objeto, **Get** recupera información sobre un objeto, **Set** establece esta informacion, **Delete** borra información, **Is** pregunta si un objeto tiene o no cierta propiedad."
      ]
    },
    {
      "cell_type": "markdown",
      "metadata": {
        "id": "CfD1yggDPSNV"
      },
      "source": [
        "Las funciones MPI están especificadas en una notación independiente del  lenguaje. Los argumentos de las funciones se marcan como IN, OUT o INOUT. El significado de esa notación es \n",
        "\n",
        "* IN En la función se puede utilizar el valor de entrada pero no se puede actualizar el valor del argumento una vez que regrese de la llamda.\n",
        "* OUT En la función se puede actualizar el valor de entrada, pero no utilizar el valor de entrada.\n",
        "* INOUT La función puede usar el valor y actualizarlo.\n",
        "\n",
        "Todas las funciones MPI se definen primero en esta notación independiente del lenguaje y después se presentan las implementaciones en los lenguajes mencionados."
      ]
    },
    {
      "cell_type": "markdown",
      "metadata": {
        "id": "o_mreQNgc2bc"
      },
      "source": []
    },
    {
      "cell_type": "code",
      "execution_count": null,
      "metadata": {
        "id": "iw-jEkDRAlyR"
      },
      "outputs": [],
      "source": [
        "# TODO: -----> Montar el drive de Google para acceder al archivo del dataset\n",
        "from google.colab import drive\n",
        "drive.mount('/content/drive')"
      ]
    },
    {
      "cell_type": "markdown",
      "metadata": {
        "id": "RX4rpEwYAmMH"
      },
      "source": [
        "# [Elementos básicos]\n",
        "\n",
        "Se presentan las funciones básicas de MPI, como la inicialización y finalización del ambiente MPI, determinar el número de procesos creado y el identificador que le corresponde a cada uno. Se incluye la medición de tiempo para hacer comparaciones con la versión secuencial. Se incluye también un ejemplo donde se determina la versión de MPI que se está utilizando.\n",
        "\n",
        "REVISAR: https://slideplayer.es/slide/39876/ "
      ]
    },
    {
      "cell_type": "markdown",
      "metadata": {
        "id": "7U8440L3MURJ"
      },
      "source": [
        "# [Comunicación punto a punto]\n",
        "\n",
        "Se presentan las funciones de comunicación punto a punto, para el envío y recepción de mensajes. Se incluyen las versiones de bloqueo y de no bloqueo.\n",
        "\n",
        "Tarea1: Comunicación en anillo"
      ]
    },
    {
      "cell_type": "markdown",
      "metadata": {
        "id": "wHwThpsYMiC6"
      },
      "source": [
        "# [Comunicación colectiva\n",
        "\n",
        "\n",
        "\n",
        "Tarea2: Determinar el número de primos menores a 5 millones\n",
        "\n",
        "[EJEMPLO]\n",
        "\n",
        "Tarea3. Encontrar el máximo GAP entre dos números primos menores a 5 millones\n",
        "\n",
        "Tarea4. Encontrar el número de primos gemelos menores a 5 millones"
      ]
    },
    {
      "cell_type": "markdown",
      "metadata": {
        "id": "yLykWIiHK9x0"
      },
      "source": [
        "\n",
        "\n",
        "* https://www.microsiervos.com/archivo/ordenadores/algoritmos-ordenacion-animados.html \n",
        "\n",
        "Tarea5. Merge-split\n",
        "\n",
        "Tarea6. Regular samplings"
      ]
    },
    {
      "cell_type": "markdown",
      "metadata": {
        "id": "v2aqCTdyM0mo"
      },
      "source": [
        "# Entrada y salida paralela "
      ]
    },
    {
      "cell_type": "markdown",
      "metadata": {
        "id": "pcO8Lvaw_P-1"
      },
      "source": [
        "#[I/O Paralela ]\n",
        "\n",
        "[LECTURA/Escritura paralela]"
      ]
    },
    {
      "cell_type": "markdown",
      "metadata": {
        "id": "RnMWxpcd0MdX"
      },
      "source": [
        "# Comunicadores"
      ]
    },
    {
      "cell_type": "markdown",
      "metadata": {
        "id": "RxnQqergWzYJ"
      },
      "source": [
        "## [Ejercicios con matrices]\n",
        "\n",
        "* partición rayada por bloque de renglones\n",
        "* partición rayada por bloque de columnas\n",
        "* partición de tablero\n",
        "* Multiplicación matriz x vector\n",
        "* Multiplicación matriz x matriz\n",
        "* Procesamiento de imagenes (escala de grises y color)\n",
        "\n",
        "REVISAR: https://slideplayer.es/slide/1715916/ \n",
        "\n"
      ]
    },
    {
      "cell_type": "markdown",
      "metadata": {
        "id": "TnM9UqRe0i5E"
      },
      "source": [
        "\n",
        "[Mas información](https://pypi.org/project/emoji/)\n",
        "\n",
        "[Lista de emojis](https://carpedm20.github.io/emoji/)"
      ]
    },
    {
      "cell_type": "markdown",
      "metadata": {
        "id": "u6WqJTlQfSSA"
      },
      "source": [
        "#Archivos bash "
      ]
    },
    {
      "cell_type": "markdown",
      "metadata": {
        "id": "qJmupyRENW3t"
      },
      "source": [
        "**Compilar en secuencial** \n",
        "\n",
        "C++\n",
        "\n",
        "> c++ archivo.cpp -o archivosalida\n",
        "\n",
        "\n",
        "\n",
        "C\n",
        "\n",
        "> gcc archivo.c -o archivoSalida\n",
        "\n",
        "\n",
        "\n",
        "\n",
        "\n"
      ]
    },
    {
      "cell_type": "markdown",
      "metadata": {
        "id": "MpNE_DqpE9TL"
      },
      "source": [
        "#Ligas de interés"
      ]
    },
    {
      "cell_type": "markdown",
      "metadata": {
        "id": "UUecSeq-E-nt"
      },
      "source": [
        "https://www.facebook.com/watch/live/?extid=NS-UNK-UNK-UNK-IOS_GK0T-GK1C&ref=watch_permalink&v=5111857182269230 \n",
        "\n",
        "https://www.youtube.com/watch?v=4r9H-K0Xmlc\n",
        "\n",
        "\n",
        "\n",
        "[MPI + Python](https://www.youtube.com/watch?v=LhkwDwgZSV8)\n",
        "\n",
        "[Debuggers](https://www.youtube.com/watch?v=0q7jUokL7eY)"
      ]
    }
  ],
  "metadata": {
    "colab": {
      "provenance": [],
      "toc_visible": true
    },
    "kernelspec": {
      "display_name": "Python 3.11.0 64-bit",
      "language": "python",
      "name": "python3"
    },
    "language_info": {
      "name": "python",
      "version": "3.11.0"
    },
    "vscode": {
      "interpreter": {
        "hash": "c261aea317cc0286b3b3261fbba9abdec21eaa57589985bb7a274bf54d6cc0a7"
      }
    }
  },
  "nbformat": 4,
  "nbformat_minor": 0
}
