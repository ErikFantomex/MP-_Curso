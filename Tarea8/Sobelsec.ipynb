{
 "cells": [
  {
   "cell_type": "markdown",
   "id": "44d60061-5a2b-4c7d-82b5-93a151011662",
   "metadata": {},
   "source": [
    "# Tarea 8 Operador Sobel"
   ]
  },
  {
   "cell_type": "code",
   "execution_count": 7,
   "id": "ab3d7fb6-73a3-4b6d-af4d-6b537d3c99bc",
   "metadata": {},
   "outputs": [],
   "source": [
    "import cv2\n",
    "import numpy as np"
   ]
  },
  {
   "cell_type": "code",
   "execution_count": 8,
   "id": "0cf289df-b666-42e1-acc7-3f96d455a865",
   "metadata": {},
   "outputs": [],
   "source": [
    "def preprocessing(rawimg):\n",
    "    \"\"\"\n",
    "    :param img: Importar una imagen concreta\n",
    "    :return: Devuelve una imagen en escala de grises de la imagen leída\n",
    "    \"\"\"\n",
    "    src = cv2.imread(rawimg)\n",
    "    processedSrc = cv2.cvtColor(src, cv2.COLOR_BGR2GRAY)\n",
    "    return "
   ]
  },
  {
   "cell_type": "code",
   "execution_count": 9,
   "id": "c1c0c17b-e733-468a-adb8-56fb8b61f434",
   "metadata": {},
   "outputs": [],
   "source": [
    "\n",
    "def pad_with(array, pad_width, iaxis, kwargs):\n",
    "    \"\"\"\n",
    "    Esta función se utiliza como parámetro de la función de relleno\n",
    "    :param array: Introduzca la matriz para la que desea realizar la operación de relleno\n",
    "    :param pad_width:Número de capas por arista del sistema de coordenadas para las operaciones de relleno\n",
    "    :param kwargs: Parámetro variable que especifica el valor de la operación de relleno, por defecto es 0\n",
    "    \"\"\"\n",
    "    pad_value = kwargs.get(\"padder\", 0)\n",
    "    array[:pad_width[0]] = pad_value\n",
    "    array[-pad_width[1]:] = pad_value\n",
    "    return array"
   ]
  },
  {
   "cell_type": "code",
   "execution_count": 10,
   "id": "6c50253a-4049-48ac-a1a6-0dd1b5dbedaa",
   "metadata": {},
   "outputs": [],
   "source": [
    "\n",
    "def padding(array, pad_width):\n",
    "    \"\"\"\n",
    "    :param array: Introduzca la matriz para la que desea realizar la operación de relleno\n",
    "    :param pad_width:Número de capas por arista del sistema de coordenadas para las operaciones de relleno\n",
    "    :return:Matriz después de la operación de acolchado\n",
    "    \"\"\"\n",
    "    paddingarray = np.pad(array, pad_width, pad_with)\n",
    "    return paddingarray"
   ]
  },
  {
   "cell_type": "code",
   "execution_count": 11,
   "id": "dcfff015-1f15-4068-9afb-979bbcd7500b",
   "metadata": {},
   "outputs": [],
   "source": [
    "def convolution(rowlength, columnlength, kernel, array):\n",
    "    \"\"\"\n",
    "    :param rowlength: Número de filas de la matriz\n",
    "    :param columnlength: Número de columnas de la matriz\n",
    "    :param kernel: Núcleo de convolución para operaciones de convolución\n",
    "    :param array: Matriz para operaciones de convolución con núcleos de convolución\n",
    "    :return: La matriz después de la operación de convolución, es decir, la imagen después de la operación de convolución\n",
    "    \"\"\"\n",
    "    temp = np.zeros((rowlength, columnlength), dtype=np.float_)\n",
    "    for i in range(rowlength):\n",
    "        for j in range(columnlength):\n",
    "            temp[i][j] = np.inner(kernel, array[i:i+3, j:j+3].flatten())\n",
    "    return temp\n"
   ]
  },
  {
   "cell_type": "markdown",
   "id": "d3dc026c-cc02-48d3-8b29-eabb0d3c07b7",
   "metadata": {},
   "source": [
    "# Procesamiento de imagenes"
   ]
  },
  {
   "cell_type": "code",
   "execution_count": 19,
   "id": "9f4fd80a-2cef-45a3-a140-45d03ab7d101",
   "metadata": {},
   "outputs": [
    {
     "ename": "AttributeError",
     "evalue": "'NoneType' object has no attribute 'shape'",
     "output_type": "error",
     "traceback": [
      "\u001b[0;31m---------------------------------------------------------------------------\u001b[0m",
      "\u001b[0;31mAttributeError\u001b[0m                            Traceback (most recent call last)",
      "\u001b[0;32m/tmp/ipykernel_122909/2788384422.py\u001b[0m in \u001b[0;36m<module>\u001b[0;34m\u001b[0m\n\u001b[1;32m      7\u001b[0m     \u001b[0;31m# Obtener la longitud y la anchura de la imagen de lena\u001b[0m\u001b[0;34m\u001b[0m\u001b[0;34m\u001b[0m\u001b[0;34m\u001b[0m\u001b[0m\n\u001b[1;32m      8\u001b[0m     \u001b[0;31m#para facilitar las posteriores operaciones de convolución\u001b[0m\u001b[0;34m\u001b[0m\u001b[0;34m\u001b[0m\u001b[0;34m\u001b[0m\u001b[0m\n\u001b[0;32m----> 9\u001b[0;31m     \u001b[0mrowlength\u001b[0m \u001b[0;34m=\u001b[0m \u001b[0mgray_lena\u001b[0m\u001b[0;34m.\u001b[0m\u001b[0mshape\u001b[0m\u001b[0;34m[\u001b[0m\u001b[0;36m0\u001b[0m\u001b[0;34m]\u001b[0m\u001b[0;34m\u001b[0m\u001b[0;34m\u001b[0m\u001b[0m\n\u001b[0m\u001b[1;32m     10\u001b[0m     \u001b[0mcolumnlength\u001b[0m \u001b[0;34m=\u001b[0m \u001b[0mgray_lena\u001b[0m\u001b[0;34m.\u001b[0m\u001b[0mshape\u001b[0m\u001b[0;34m[\u001b[0m\u001b[0;36m1\u001b[0m\u001b[0;34m]\u001b[0m\u001b[0;34m\u001b[0m\u001b[0;34m\u001b[0m\u001b[0m\n\u001b[1;32m     11\u001b[0m     \u001b[0;31m# Crear núcleos de convolución para el operador prewitt en las direcciones x , y\u001b[0m\u001b[0;34m\u001b[0m\u001b[0;34m\u001b[0m\u001b[0;34m\u001b[0m\u001b[0m\n",
      "\u001b[0;31mAttributeError\u001b[0m: 'NoneType' object has no attribute 'shape'"
     ]
    }
   ],
   "source": [
    "\n",
    "\n",
    "if __name__ == \"__main__\":\n",
    "    # Preprocesamiento de la imagen original en una imagen en escala de grises\n",
    "    # Añadir una capa de relleno a la imagen transformada en escala de grises\n",
    " \n",
    "    gray_lena = preprocessing(\"chessboard.png\")\n",
    "    padding_lena = padding(gray_lena, 1)\n",
    "    # Obtener la longitud y la anchura de la imagen de lena \n",
    "    #para facilitar las posteriores operaciones de convolución\n",
    "    rowlength = gray_lena.shape[0]\n",
    "    columnlength = gray_lena.shape[1]\n",
    "    # Crear núcleos de convolución para el operador prewitt en las direcciones x , y\n",
    "    \n",
    "    prewitt_kernel_x = np.array([-1, -1, -1,\n",
    "                                 0, 0, 0,\n",
    "                                 1, 1, 1])\n",
    "    prewitt_kernel_y = np.array([-1, 0, 1,\n",
    "                                 -1, 0, 1,\n",
    "                                 -1, 0, 1])\n",
    "    # Crear núcleos de convolución para el operador sobel en las direcciones x , y\n",
    "    sobel_kernel_x = np.array([-1, -2, -1,\n",
    "                               0, 0, 0,\n",
    "                               1, 2, 1])\n",
    "    sobel_kernel_y = np.array([-1, 0, 1,\n",
    "                               -2, 0, 2,\n",
    "                               -1, 0, 1])\n",
    "    # Generar y guardar la imagen después del procesamiento del operador prewitt\n",
    "    prewitt_gx = convolution(rowlength, columnlength, prewitt_kernel_x, padding_lena)\n",
    "    prewitt_gy = convolution(rowlength, columnlength, prewitt_kernel_y, padding_lena)\n",
    "    prewitt_g = np.abs(prewitt_gx) + np.abs(prewitt_gy)\n",
    "    cv2.imwrite(\"prewitt_gx.jpg\", prewitt_gx)\n",
    "    cv2.imwrite(\"prewitt_gy.jpg\", prewitt_gy)\n",
    "    cv2.imwrite(\"prewitt_g.jpg\", prewitt_g)\n",
    "    \n",
    "    # Generar y guardar la imagen después del proceso del operador sobel\n",
    "    sobel_gx = convolution(rowlength, columnlength, sobel_kernel_x, padding_lena)\n",
    "    sobel_gy = convolution(rowlength, columnlength, sobel_kernel_y, padding_lena)\n",
    "    sobel_g = np.abs(sobel_gx) + np.abs(sobel_gy)\n",
    "    cv2.imwrite(\"sobel_gx.jpg\", sobel_gx)\n",
    "    cv2.imwrite(\"sobel_gy.jpg\", sobel_gy)\n",
    "    cv2.imwrite(\"sobel_g.jpg\", sobel_g)\n",
    "    \n",
    "    \n",
    "    \n",
    "    "
   ]
  },
  {
   "cell_type": "code",
   "execution_count": null,
   "id": "eb1ba0ce-48b4-4b3d-afc4-46b273dc7f38",
   "metadata": {},
   "outputs": [],
   "source": [
    "#Tarea operador Sobel python version secuencial \n",
    "\n",
    "#https://github.com/faizahmp/image-processing\n",
    "\n",
    "#https://github.com/mfedoriv/image-processing\n",
    "\n",
    "#https://github.com/zhaoyuzhi/PyTorch-Sobel/blob/main/pytorch-sobel.py\n",
    "\n",
    "#https://github.com/SmratiSingh/Sobel-Operator-Implementation/blob/master/sobl.py\n",
    "\n"
   ]
  }
 ],
 "metadata": {
  "kernelspec": {
   "display_name": "Python 3 (ipykernel)",
   "language": "python",
   "name": "python3"
  },
  "language_info": {
   "codemirror_mode": {
    "name": "ipython",
    "version": 3
   },
   "file_extension": ".py",
   "mimetype": "text/x-python",
   "name": "python",
   "nbconvert_exporter": "python",
   "pygments_lexer": "ipython3",
   "version": "3.8.5"
  }
 },
 "nbformat": 4,
 "nbformat_minor": 5
}
