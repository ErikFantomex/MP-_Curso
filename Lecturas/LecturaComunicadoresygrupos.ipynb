{
  "nbformat": 4,
  "nbformat_minor": 0,
  "metadata": {
    "colab": {
      "provenance": [],
      "toc_visible": true,
      "include_colab_link": true
    },
    "kernelspec": {
      "name": "python3",
      "display_name": "Python 3"
    },
    "language_info": {
      "name": "python"
    }
  },
  "cells": [
    {
      "cell_type": "markdown",
      "metadata": {
        "id": "view-in-github",
        "colab_type": "text"
      },
      "source": [
        "<a href=\"https://colab.research.google.com/github/ErikFantomex/MPI_Curso/blob/master/Lecturas/LecturaComunicadoresygrupos.ipynb\" target=\"_parent\"><img src=\"https://colab.research.google.com/assets/colab-badge.svg\" alt=\"Open In Colab\"/></a>"
      ]
    },
    {
      "cell_type": "markdown",
      "metadata": {
        "id": "EBciyMZU18VU"
      },
      "source": [
        "# Grupos\n",
        "Esta sección describe las funciones que permiten la manipulación de grupos de procesos en MPI. Estas operaciones son locales y su ejecución no requiere de comunicación interprocesos. MPI permite la manipulación de grupos fuera de un comunicador pero solo pueden ser usados para paso de mensajes como parte de un comunicador. "
      ]
    },
    {
      "cell_type": "markdown",
      "metadata": {
        "id": "N2ZfN-Ak2NKD"
      },
      "source": [
        "## MPI_GROUP_SIZE\n",
        "Regresa el número de procesos en el grupo. Si group=MPI\\_GROUP\\_EMPTY, entonces size=0.  El valor de retorno puede ser \n",
        "\n",
        "1. MPI\\_SUCCESS Significa que no hubo error. La función se completó exitosamente. \n",
        "2. MPI\\_ERR\\_GROUP Significa que se pasó como argumento un grupo nulo.\n",
        "3. MPI\\_ERR\\_ARG     Significa que hay un argumento no válido.\n"
      ]
    },
    {
      "cell_type": "markdown",
      "metadata": {
        "id": "4tkpaa8W2viz"
      },
      "source": [
        "## MPI_GROUP_RANK\n",
        "\n",
        "\n",
        "Esta función regresa el rango correspondiente al proceso que hizo la llamada a la función, dentro del grupo $group$. Si el proceso no es miembro de $group$ entonces $rank$ toma el valor MPI\\_UNDEFINED. El valor del rango es un entero en $[0, size-1]$, donde $size$ es el valor regresado por MPI\\_Group\\_size()."
      ]
    },
    {
      "cell_type": "markdown",
      "metadata": {
        "id": "C3VC9hHd3Xlz"
      },
      "source": [
        "## MPI_COMM_GROUP\n"
      ]
    },
    {
      "cell_type": "markdown",
      "metadata": {
        "id": "6dwIS6cUOG_L"
      },
      "source": [
        "##C"
      ]
    },
    {
      "cell_type": "code",
      "metadata": {
        "colab": {
          "base_uri": "https://localhost:8080/"
        },
        "id": "aQyHAwRw3eHc",
        "outputId": "4fb8ea3e-7ab1-4e45-828d-9c5b8eaaa6d3"
      },
      "source": [
        "%%writefile grupo_world.c\n",
        "// Ejemplo con el grupo default \n",
        "#include \"mpi.h\"\n",
        "#include <stdio.h>\n",
        "int main(  ){\n",
        "   int myID_grupo, numProcs_grupo;\t\n",
        "   MPI_Group grupo1;  \t\n",
        "\n",
        "   MPI_Init(NULL,NULL);\n",
        "\n",
        "   // Obtiene un manejador al grupo del comunicador por default \n",
        "   MPI_Comm_group(MPI_COMM_WORLD, &grupo1);\n",
        "   \t\n",
        "   MPI_Group_size(grupo1, &numProcs_grupo);   \t\n",
        "   MPI_Group_rank(grupo1, &myID_grupo);   \n",
        "   printf(\"Somos %d procesos en el grupo, mi ID es %d \\n\",numProcs_grupo,myID_grupo);\n",
        "   \t\n",
        "   MPI_Finalize();\n",
        "   return 0;\n",
        "}"
      ],
      "execution_count": null,
      "outputs": [
        {
          "output_type": "stream",
          "name": "stdout",
          "text": [
            "Writing grupo_world.c\n"
          ]
        }
      ]
    },
    {
      "cell_type": "code",
      "metadata": {
        "colab": {
          "base_uri": "https://localhost:8080/"
        },
        "id": "2WeDWd6c3etj",
        "outputId": "ae04c228-3a0f-42bc-edf6-9493d83e11d6"
      },
      "source": [
        "%%script bash\n",
        "mpicc grupo_world.c -o grupo_world\n",
        "mpirun --allow-run-as-root -np 6 grupo_world"
      ],
      "execution_count": null,
      "outputs": [
        {
          "output_type": "stream",
          "name": "stdout",
          "text": [
            "Somos 6 procesos en el grupo, mi ID es 2 \n",
            "Somos 6 procesos en el grupo, mi ID es 5 \n",
            "Somos 6 procesos en el grupo, mi ID es 3 \n",
            "Somos 6 procesos en el grupo, mi ID es 1 \n",
            "Somos 6 procesos en el grupo, mi ID es 4 \n",
            "Somos 6 procesos en el grupo, mi ID es 0 \n"
          ]
        }
      ]
    },
    {
      "cell_type": "markdown",
      "metadata": {
        "id": "RElYyIEeOJvq"
      },
      "source": [
        "##C++"
      ]
    },
    {
      "cell_type": "code",
      "metadata": {
        "id": "L-foud5qOK-x"
      },
      "source": [],
      "execution_count": null,
      "outputs": []
    },
    {
      "cell_type": "code",
      "metadata": {
        "id": "ecEyrltVOLCN"
      },
      "source": [],
      "execution_count": null,
      "outputs": []
    },
    {
      "cell_type": "code",
      "metadata": {
        "colab": {
          "base_uri": "https://localhost:8080/"
        },
        "id": "cV1t5TVk15zq",
        "outputId": "2f5f5903-2929-4d3a-9c62-fdbb10df4a24"
      },
      "source": [
        "%%writefile grupo_vacio.c\n",
        "// Ejemplo con un grupo vacio \n",
        "#include \"mpi.h\"\n",
        "#include <stdio.h>\n",
        "int main(  ){\n",
        "   MPI_Init(NULL,NULL);   \t\n",
        "   int myID,numProcs;\t   \n",
        "   MPI_Group grupo1 = MPI_GROUP_EMPTY;\n",
        "   \n",
        "   MPI_Group_size(grupo1, &numProcs);\n",
        "   MPI_Group_rank(grupo1, &myID);   \n",
        "   printf(\"Somos %d procesos, mi ID es %d \\n\",numProcs,myID);  \n",
        "    \t\n",
        "   MPI_Finalize();\n",
        "   return 0;\n",
        "}"
      ],
      "execution_count": null,
      "outputs": [
        {
          "output_type": "stream",
          "name": "stdout",
          "text": [
            "Writing grupo_vacio.c\n"
          ]
        }
      ]
    },
    {
      "cell_type": "code",
      "metadata": {
        "colab": {
          "base_uri": "https://localhost:8080/"
        },
        "id": "bPdjiZxY29pt",
        "outputId": "46068554-ff43-470a-8e51-5b9223fd4eb1"
      },
      "source": [
        "%%script bash\n",
        "mpicc grupo_vacio.c -o grupo_vacio\n",
        "mpirun --allow-run-as-root -np 5 grupo_vacio"
      ],
      "execution_count": null,
      "outputs": [
        {
          "output_type": "stream",
          "name": "stdout",
          "text": [
            "Somos 0 procesos, mi ID es -32766 \n",
            "Somos 0 procesos, mi ID es -32766 \n",
            "Somos 0 procesos, mi ID es -32766 \n",
            "Somos 0 procesos, mi ID es -32766 \n",
            "Somos 0 procesos, mi ID es -32766 \n"
          ]
        }
      ]
    },
    {
      "cell_type": "markdown",
      "metadata": {
        "id": "xrATmhHZ3uZr"
      },
      "source": [
        "## MPI_GROUP_COMPARE\n",
        "Compara la relación entre dos grupos de procesos dados como argumentos,  *group1* y *group*.  El valor en *result* puede ser alguno de los siguientes\n",
        "\n",
        "1. MPI\\_IDENT si los procesos en los dos grupos son idénticos y tienen rangos iguales, \n",
        "2. MPI\\_SIMILAR si los procesos son idénticos pero sus rango son diferentes, \n",
        "3. MPI\\_UNEQUAL para cualquier otra relación entre los grupos.\n",
        "\n",
        "La función regresa MPI\\_SUCCESS si se llevó a cabo de forma correcta, en caso contrario regresa un valor distinto (MPI\\_ERR\\_GROUP o MPI\\_ERR\\_ARG), para indicar que alguno de los grupos pasados como argumento son nulos o no válidos, o bien que alguno de los argumentos son no válidos o que no se pudo detectar el tipo de error."
      ]
    },
    {
      "cell_type": "markdown",
      "metadata": {
        "id": "D0LPjHlk485N"
      },
      "source": [
        "## Constructores\n",
        "Los constructores de grupo son usados para construir grupos nuevos a partir de grupos existentes usando un conjunto de operaciones. Las operaciones que podemos usar para crear nuevos grupos a partir de uno o dos grupos dados son\n",
        "\n",
        "\n",
        "* inclusión, \n",
        "* exclusión,\n",
        "* unión,\n",
        "* diferencia\n",
        "* intersección\n",
        "\n",
        "Nótese que las operaciones MPI\\_Group\\_union(), MPI\\_Group\\_intersection() y MPI\\_Group\\_difference() el orden de los procesos en el grupo de salida primero está determinado  por el orden del $grupo1$ y después, si es necesario, por el orden en $group2$. La unión y la intersección no son conmutativos pero son asociativas. El nuevo grupo resultante puede estar vacío en cuyo caso será igual a MPI\\_GROUP\\_EMPTY. "
      ]
    },
    {
      "cell_type": "markdown",
      "metadata": {
        "id": "h8DBwkiv5P8z"
      },
      "source": [
        "### MPI_GROUP_INCL\n",
        "\n",
        "Se crea un nuevo grupo, llamado $newgroup$, a partir de la inclusión de los $n$ miembros del grupo $group$, especificados en el arreglo $ranks$. El arreglo $ranks$ debe contener rangos válidos de elementos de $group$, sin repetir alguno, en otro caso será una llamada errónea. Si $n=0$, entonces $newgroup$=MPI\\_GROUP\\_EMPTY. \n",
        "\n"
      ]
    },
    {
      "cell_type": "code",
      "metadata": {
        "colab": {
          "base_uri": "https://localhost:8080/"
        },
        "id": "uO-PXlTj5Yzu",
        "outputId": "cee0221b-f8f7-44d6-e559-ed0b25290846"
      },
      "source": [
        "%%writefile grupos_incl.c\n",
        "/*\n",
        " * Crea un nuevo grupo llamado <newGroup> a partir del grupo <worldGroup>\n",
        " * Se incluye en el nuevo grupo a un conjunto de procesos especificados en\n",
        " * el arreglo <ranks>.\n",
        " * Despues se comparan ambos grupos y se manda un mensaje con el resultado \n",
        " * de la comparacion (iguales, semejantes o diferentes)\n",
        "*/\n",
        "#include \"mpi.h\"\n",
        "#include <stdio.h>\n",
        "#include <stdlib.h>\n",
        "int main(  ){\n",
        "  MPI_Init( NULL , NULL );        \n",
        "  int i, myId ,myId_new, res;\n",
        "  int numprocs, nElems, *ranks;\n",
        "  MPI_Group worldGroup, newGroup;\n",
        "\n",
        "   MPI_Comm_group(MPI_COMM_WORLD,&worldGroup);\n",
        "   MPI_Group_size (worldGroup,&numprocs);\t        \n",
        "   MPI_Group_rank (worldGroup,&myId);\t\t\n",
        "\t\t\n",
        "   nElems   = ( numprocs+1)/2; // numero de procesos pares\n",
        "   ranks = (int*)malloc(nElems*sizeof(int)); if(ranks==NULL){ printf(\"Memoria insuficiente \\n\"); MPI_Finalize(); return 0; }\n",
        "\n",
        "   for(i=0;i<nElems;i++) ranks[i]=2*i;\n",
        "\n",
        "   MPI_Group_incl(worldGroup,nElems,ranks,&newGroup);\n",
        "   MPI_Group_rank(newGroup,&myId_new);\n",
        "\n",
        "   if(myId_new!=MPI_UNDEFINED)\n",
        "      printf(\"\\n [ID en WORLD_GROUP %d][ID en el newGroup %d]\\n\",myId,myId_new);\n",
        "\t\tMPI_Barrier(MPI_COMM_WORLD);\n",
        "   // comparando al worldGroup y al newGroup\n",
        "   MPI_Group_compare(worldGroup,newGroup,&res);\n",
        "   if (myId==0)\n",
        "      if(res==MPI_IDENT )printf(\"\\n *** Grupos iguales\\n\");\n",
        "      else\n",
        "         if(res==MPI_SIMILAR)printf(\"\\n *** Grupos similares\\n\");\n",
        "         else  // res==MPI_UNEQUAL \n",
        "            printf(\"\\n *** Grupos diferentes\\n\");\n",
        "\n",
        "   if(myId_new!=MPI_UNDEFINED) MPI_Group_free(&newGroup);\n",
        "        \n",
        "   MPI_Finalize();\n",
        "   return 0;\n",
        "}"
      ],
      "execution_count": null,
      "outputs": [
        {
          "output_type": "stream",
          "name": "stdout",
          "text": [
            "Writing grupos_incl.c\n"
          ]
        }
      ]
    },
    {
      "cell_type": "code",
      "metadata": {
        "colab": {
          "base_uri": "https://localhost:8080/"
        },
        "id": "AtgD94fI5Y4E",
        "outputId": "9f8b917d-2c1b-4e14-e5c9-a46174e0af2b"
      },
      "source": [
        "%%script bash\n",
        "mpicc grupos_incl.c -o ej_incl\n",
        "mpirun --allow-run-as-root -np 9 ej_incl"
      ],
      "execution_count": null,
      "outputs": [
        {
          "output_type": "stream",
          "name": "stdout",
          "text": [
            "\n",
            "\n",
            " [ID en WORLD_GROUP 8][ID en el newGroup 4]\n",
            "\n",
            " [ID en WORLD_GROUP 4][ID en el newGroup 2]\n",
            " [ID en WORLD_GROUP 0][ID en el newGroup 0]\n",
            "\n",
            " [ID en WORLD_GROUP 6][ID en el newGroup 3]\n",
            "\n",
            " [ID en WORLD_GROUP 2][ID en el newGroup 1]\n",
            "\n",
            " *** Grupos diferentes\n"
          ]
        }
      ]
    },
    {
      "cell_type": "markdown",
      "metadata": {
        "id": "updtdzvn6b4d"
      },
      "source": [
        "### MPI_GROUP_EXCL\n",
        "Permite crear un nuevo grupo, llamado $newgroup$, consistente de todos los procesos de $group$ que no hayan sido excluidos. Los $n$ procesos a excluirse están especificados en el arreglo $ranks$. El orden de los procesos en el nuevo grupo es idéntico al que tenían en $group$. El arreglo $ranks$ debe contener rangos válidos de elementos de $group$, sin repetir alguno, en otro caso será una llamada errónea. Si $n=0$, entonces $newgroup$ será idéntico a $group$.\n"
      ]
    },
    {
      "cell_type": "code",
      "metadata": {
        "colab": {
          "base_uri": "https://localhost:8080/"
        },
        "id": "FFeWx6ZM6nDc",
        "outputId": "44b3baa2-8d5f-4612-fe8f-b87f786d8053"
      },
      "source": [
        "%%writefile grupos_excl.c\n",
        "\n",
        "/* Crea un nuevo grupo llamado <newGroup> a partir del grupo <worldGroup>\n",
        " * excluyendo del nuevo grupo a un conjunto de procesos especificados en\n",
        " * el arreglo <ranks>\n",
        " * Despues se comparan ambos grupos y se manda un mensaje con el resultado de la \n",
        " * comparacion (iguales, semejantes o diferentes)\n",
        "*/\n",
        "\n",
        "#include \"mpi.h\"\n",
        "#include <stdlib.h>\n",
        "#include <stdio.h>\n",
        "int main(  ){\n",
        "\tint\t\ti,res,world_Id,rank,numprocs,npp;\n",
        "\tint \t*procPares;\t\n",
        "\tMPI_Group \tworldGroup, gImpares;\n",
        "\n",
        "\tMPI_Init(NULL,NULL);\n",
        "\t\n",
        "\tMPI_Comm_group(MPI_COMM_WORLD,&worldGroup);\n",
        "\tMPI_Group_size (worldGroup,&numprocs);\t\n",
        "\tMPI_Group_rank (worldGroup,&world_Id);\n",
        "\n",
        "\t// formando el conjunto de los pares\n",
        "  npp   = (numprocs+1)/2; // numero de procesos pares\n",
        "  procPares = (int*)malloc(sizeof(int)*npp);\n",
        "  for(i=0;i<npp;i++) \n",
        "\t\tprocPares[i] = 2*i;\n",
        "\t\t\n",
        "\t// formando un nuevo grupo apartir de <world_group>\n",
        "\t// eliminando los elementos en <procPares>\n",
        "  \tMPI_Group_excl(worldGroup, npp, procPares, &gImpares);\n",
        "  \tMPI_Group_rank(gImpares,&rank);    \n",
        "\t\n",
        "\tif(rank!=MPI_UNDEFINED) \n",
        "\t\tprintf(\"\\n [ID en world_group %d][ID en gImpares %d]\\n\",world_Id,rank);\n",
        "    \n",
        "  // comparando al worldGroup y al gImpares\n",
        "\tMPI_Group_compare(worldGroup,gImpares,&res);\n",
        "\tif (world_Id==0)\n",
        "      if(res==MPI_IDENT )printf(\"\\n *** Grupos iguales\\n\");\n",
        "      else\n",
        "         if(res==MPI_SIMILAR)printf(\"\\n *** Grupos similares\\n\");\n",
        "         else  // res==MPI_UNEQUAL \n",
        "            printf(\"\\n *** Grupos diferentes\\n\");\n",
        "    \n",
        "  \tif(gImpares!=MPI_GROUP_NULL) MPI_Group_free(&gImpares);\n",
        "    \n",
        "\tMPI_Finalize();\n",
        "  \treturn 0;\n",
        "}"
      ],
      "execution_count": null,
      "outputs": [
        {
          "output_type": "stream",
          "name": "stdout",
          "text": [
            "Writing grupos_excl.c\n"
          ]
        }
      ]
    },
    {
      "cell_type": "code",
      "metadata": {
        "colab": {
          "base_uri": "https://localhost:8080/"
        },
        "id": "AzLT3Yix6nKl",
        "outputId": "2601ec18-529f-43bd-d63f-585eda2eec32"
      },
      "source": [
        "%%script bash\n",
        "mpicc grupos_excl.c -o ej_excl\n",
        "mpirun --allow-run-as-root -np 6 ej_excl"
      ],
      "execution_count": null,
      "outputs": [
        {
          "output_type": "stream",
          "name": "stdout",
          "text": [
            "\n",
            " [ID en world_group 5][ID en gImpares 2]\n",
            "\n",
            " [ID en world_group 1][ID en gImpares 0]\n",
            "\n",
            " [ID en world_group 3][ID en gImpares 1]\n",
            "\n",
            " *** Grupos diferentes\n"
          ]
        }
      ]
    },
    {
      "cell_type": "markdown",
      "metadata": {
        "id": "O5HelDcT9OUP"
      },
      "source": [
        "### MPI_GROUP_UNION\n",
        "Un nuevo grupo $newgroup$ es creado a partir de la unión de dos grupos ya definidos, $group1$  y $group2$. Los miembros del primer grupo conservan su rango mientras que los miembros del segundo grupo tendrán rango nuevo en $newgroup$.\n"
      ]
    },
    {
      "cell_type": "code",
      "metadata": {
        "colab": {
          "base_uri": "https://localhost:8080/"
        },
        "id": "Ccayqt3Q9T6u",
        "outputId": "d689f167-4911-4318-a67c-3d5dda8a3a9d"
      },
      "source": [
        "%%writefile grupos_union.c\n",
        "\n",
        "/* Crea un nuevo grupo llamado <newGroup> a partir de los grupos \n",
        " * <gPares> y <gImpares> formados previamente\n",
        " *\n",
        " * Despues se comparan los grupos newGroup y worldGroup,  y se manda un mensaje con el resultado \n",
        " * de la comparacion (iguales, semejantes o diferentes). \n",
        " * Observese que newGroup contiene el mismo conjunto de procesos que \n",
        " * <worldGroup> aunque estan etiquetados de manera diferente, por esta\n",
        " * razon son grupos \"semejantes\".\n",
        "*/\n",
        "\n",
        "#include \"mpi.h\"\n",
        "#include <stdio.h>\n",
        "#include <stdlib.h>\n",
        "\n",
        "int main(  ){\n",
        "   int i,myId,myid_grupoPares,rank,res;\n",
        "   int numprocs,npares,*pares;\n",
        "   int nimpares,*impares;\n",
        "   MPI_Group worldGroup,gPares,gImpares,newGroup;\n",
        "\n",
        "   MPI_Init( NULL , NULL );\n",
        "\t\n",
        "   MPI_Comm_group(MPI_COMM_WORLD,&worldGroup);\n",
        "   MPI_Group_size (worldGroup,&numprocs);\t\n",
        "   MPI_Group_rank (worldGroup,&myId);\n",
        "     \n",
        "   // formando un grupo que incluya solo a los pares de <worldGroup>\n",
        "   npares   =(numprocs+1)/2;\n",
        "   pares=(int*)malloc(sizeof(int)*npares);\n",
        "   for(i=0;i<npares;i++)\tpares[i]=2*i;\n",
        "   MPI_Group_incl(worldGroup, npares,pares,&gPares);\n",
        "\t\n",
        "   // formando un grupo que incluya solo a los impares de <worldGroup>\n",
        "   nimpares=numprocs-npares;\n",
        "   impares=(int*)malloc(sizeof(int)*nimpares);\n",
        "   for(i=0;i<nimpares;i++) impares[i]=2*i+1;\n",
        "   MPI_Group_incl(worldGroup, nimpares,impares,&gImpares);\t\n",
        "\t\n",
        "   // formando un nuevo grupo a partir de la union del grupo de los \n",
        "   // pares y el de los impares\n",
        "   MPI_Group_union(gPares, gImpares, &newGroup);\n",
        "   MPI_Group_rank(newGroup,&rank);\n",
        "    \n",
        "   if(rank!=MPI_UNDEFINED)\n",
        "      printf(\"\\n [ID en worldGroup= %d][ID en el grupo union= %d]\\n\",myId,rank);\n",
        "\t\t\n",
        "   // comparando al worldGroup y al newgroup\n",
        "   MPI_Group_compare(worldGroup,newGroup,&res);\n",
        "   if (myId==0)\n",
        "      if(res==MPI_IDENT )printf(\"\\n *** Grupos iguales\\n\");\n",
        "      else\n",
        "         if(res==MPI_SIMILAR)printf(\"\\n *** Grupos similares\\n\");\n",
        "         else  // res==MPI_UNEQUAL \n",
        "            printf(\"\\n *** Grupos diferentes\\n\");           \n",
        "   MPI_Finalize();\n",
        "   return 0;\n",
        "}\t"
      ],
      "execution_count": null,
      "outputs": [
        {
          "output_type": "stream",
          "name": "stdout",
          "text": [
            "Writing grupos_union.c\n"
          ]
        }
      ]
    },
    {
      "cell_type": "code",
      "metadata": {
        "colab": {
          "base_uri": "https://localhost:8080/"
        },
        "id": "uR-kf3TM9UBN",
        "outputId": "999c2ff2-bb11-41e7-baa7-d8f2ed0cc278"
      },
      "source": [
        "%%script bash\n",
        "mpicc grupos_union.c -o ej_union\n",
        "mpirun --allow-run-as-root -np 5 ej_union"
      ],
      "execution_count": null,
      "outputs": [
        {
          "output_type": "stream",
          "name": "stdout",
          "text": [
            "\n",
            " [ID en worldGroup= 0][ID en el grupo union= 0]\n",
            "\n",
            "\n",
            " [ID en worldGroup= 2][ID en el grupo union= 1]\n",
            " *** Grupos similares\n",
            "\n",
            " [ID en worldGroup= 3][ID en el grupo union= 4]\n",
            "\n",
            "\n",
            " [ID en worldGroup= 1][ID en el grupo union= 3]\n",
            " [ID en worldGroup= 4][ID en el grupo union= 2]\n"
          ]
        }
      ]
    },
    {
      "cell_type": "markdown",
      "metadata": {
        "id": "nhD-L9Dt-NoO"
      },
      "source": [
        "### MIP_GROUP_DIFFERENCE\n",
        "\n",
        "El nuevo grupo consiste de los elementos que pertenecen a $group1$ que no pertenezcan a $group2$, tendrán el orden especificado en $group1$."
      ]
    },
    {
      "cell_type": "code",
      "metadata": {
        "colab": {
          "base_uri": "https://localhost:8080/"
        },
        "id": "vN5UQYfW-UWO",
        "outputId": "28875e7e-a230-4394-c8b2-4b624f1e1af6"
      },
      "source": [
        "%%writefile grupos_difference.c\n",
        "\n",
        "/*\n",
        " * Crea un nuevo grupo llamado <gPares> a partir del grupo <worldGroup>\n",
        " * incluyendo del nuevo grupo a un conjunto de procesos especificados en\n",
        " * el arreglo <ranks>\n",
        " * Despues se crea un nuevo grupo llamado <newGroup> a partir de la \n",
        " * diferencia entre los procesos en <worldGroup> y en <gPares>\n",
        "*/\n",
        "#include \"mpi.h\"\n",
        "#include <stdio.h>\n",
        "#include <stdlib.h>\n",
        "int main(  ){\n",
        "  int i,myId,myIdNew,res,myIdPar;\n",
        "  int numprocs,nElems,*ranks;\n",
        "  MPI_Group worldGroup,newGroup,gPares;\n",
        "\n",
        "  MPI_Init( NULL , NULL );        \n",
        "  MPI_Comm_group(MPI_COMM_WORLD,&worldGroup);\n",
        "  MPI_Group_size (worldGroup,&numprocs);        \n",
        "  MPI_Group_rank (worldGroup,&myId);\t\t\n",
        "  \n",
        "  // formando un grupo incluyendo los elementos pares de <worldGroup>\n",
        "  nElems   = ( numprocs+1)/2;\n",
        "  ranks=(int*)malloc(nElems*sizeof(int)); if(ranks==NULL){printf(\"Memoria insuficiente \\n\"); MPI_Finalize();  return 0; }\n",
        "\n",
        "  for(i=0;i<nElems;i++) ranks[i]=2*i;\t\t\n",
        "\n",
        "  MPI_Group_incl(worldGroup,nElems,ranks,&gPares);        \n",
        "  MPI_Group_rank(gPares,&myIdPar);\n",
        "  \n",
        "  // formando un nuevo grupo a partir de la diferencia entre \n",
        "  // <worldGroup> y en <gPares>\n",
        "  MPI_Group_difference(worldGroup,gPares,&newGroup);\n",
        "  MPI_Group_rank(newGroup,&myIdNew);\n",
        "  \n",
        "  if(myIdNew!=MPI_UNDEFINED)\n",
        "    printf(\"\\n [ID en WORLD_GROUP %d][ID en el newGroup %d]\\n\",myId,myIdNew);\t\t\n",
        "\n",
        "  if(myIdPar!=MPI_UNDEFINED) MPI_Group_free(&gPares);\n",
        "  if(myIdNew!=MPI_UNDEFINED) MPI_Group_free(&newGroup);\n",
        "      \n",
        "  MPI_Finalize();\n",
        "  return 0;\n",
        "}"
      ],
      "execution_count": null,
      "outputs": [
        {
          "output_type": "stream",
          "name": "stdout",
          "text": [
            "Writing grupos_difference.c\n"
          ]
        }
      ]
    },
    {
      "cell_type": "code",
      "metadata": {
        "colab": {
          "base_uri": "https://localhost:8080/"
        },
        "id": "KrAyIcR8-UZo",
        "outputId": "2a5d43ce-6407-41db-d320-81e12260783a"
      },
      "source": [
        "%%script bash\n",
        "mpicc grupos_difference.c -o ej_diff\n",
        "mpirun --allow-run-as-root -np 5 ej_diff"
      ],
      "execution_count": null,
      "outputs": [
        {
          "output_type": "stream",
          "name": "stdout",
          "text": [
            "\n",
            " [ID en WORLD_GROUP 3][ID en el newGroup 1]\n",
            "\n",
            " [ID en WORLD_GROUP 1][ID en el newGroup 0]\n"
          ]
        }
      ]
    },
    {
      "cell_type": "markdown",
      "metadata": {
        "id": "6SLr8B-i-mXV"
      },
      "source": [
        "### MPI_GROUP_INTERSECTION\n",
        "El nuevo grupo consiste de los elementos en el $group1$ que también están en $group2$, tendrán rangos en el mismo orden que en el $group1$.\n"
      ]
    },
    {
      "cell_type": "code",
      "metadata": {
        "colab": {
          "base_uri": "https://localhost:8080/"
        },
        "id": "iXCAo-xr-r1e",
        "outputId": "4e85399a-c74b-4ce3-8628-4d0b9321c873"
      },
      "source": [
        "%%writefile grupos_intersection.c\n",
        "\n",
        "/*\n",
        " * Crea un nuevo grupo llamado <gPares> a partir del grupo <worldGroup>\n",
        " * incluyendo del nuevo grupo a un conjunto de procesos especificados en\n",
        " * el arreglo <ranks>\n",
        " * Despues se crea un nuevo grupo llamado <newGroup> a partir de la \n",
        " * interseccion entre los procesos en <worldGroup> y en <gPares>\n",
        "*/\n",
        "#include \"mpi.h\"\n",
        "#include <stdio.h>\n",
        "#include <stdlib.h>\n",
        "int main(  ){\n",
        "   int\ti,myId,myIdNew,res,myIdPar;\n",
        "   int numprocs,nElems,*ranks;\n",
        "   MPI_Group worldGroup,newGroup,gPares;\n",
        "\n",
        "   MPI_Init( NULL , NULL );        \n",
        "   MPI_Comm_group(MPI_COMM_WORLD,&worldGroup);\n",
        "   MPI_Group_size (worldGroup,&numprocs);        \n",
        "   MPI_Group_rank (worldGroup,&myId);\t\t\n",
        "\t\t\n",
        "   // formando un grupo incluyendo los elementos pares de <worldGroup>\n",
        "   nElems   = ( numprocs+1)/2;\n",
        "   ranks=(int*)malloc(nElems*sizeof(int));\n",
        "   if(ranks==NULL){printf(\"Memoria insuficiente \\n\"); MPI_Finalize();  return 0;}\n",
        "\n",
        "   for(i=0;i<nElems;i++) ranks[i]=2*i;\t\t\n",
        "   MPI_Group_incl(worldGroup,nElems,ranks,&gPares);        \n",
        "   \n",
        "   // formando un nuevo grupo a partir de la interseccion entre \n",
        "   // <worldGroup> y en <gPares>\n",
        "   MPI_Group_intersection(worldGroup,gPares,&newGroup);\n",
        "   MPI_Group_rank(newGroup,&myIdNew);\n",
        "   \n",
        "   if(newGroup==MPI_GROUP_EMPTY ) \n",
        "   \tprintf(\"\\nLa interseccion resultante es un grupo vacio\\n\\n\");\n",
        "   else\n",
        "      if(myIdNew!=MPI_UNDEFINED)\n",
        "         printf(\"\\n [ID en WORLD_GROUP %d][ID en el newGroup %d]\\n\",myId,myIdNew);\t\t\n",
        "\n",
        "   if(myIdPar!=MPI_UNDEFINED) MPI_Group_free(&gPares);\n",
        "   if(myIdNew!=MPI_UNDEFINED) MPI_Group_free(&newGroup);\n",
        "        \n",
        "   MPI_Finalize();\n",
        "   return 0;\n",
        "}"
      ],
      "execution_count": null,
      "outputs": [
        {
          "output_type": "stream",
          "name": "stdout",
          "text": [
            "Writing grupos_intersection.c\n"
          ]
        }
      ]
    },
    {
      "cell_type": "code",
      "metadata": {
        "colab": {
          "base_uri": "https://localhost:8080/"
        },
        "id": "pqc54t8K-r6W",
        "outputId": "fa9baf82-79c0-42e4-9ef9-6aa81d2be00d"
      },
      "source": [
        "%%script bash\n",
        "mpicc grupos_intersection.c -o ej_inters\n",
        "mpirun --allow-run-as-root -np 5 ej_inters"
      ],
      "execution_count": null,
      "outputs": [
        {
          "output_type": "stream",
          "name": "stdout",
          "text": [
            "\n",
            "\n",
            " [ID en WORLD_GROUP 2][ID en el newGroup 1]\n",
            "\n",
            " [ID en WORLD_GROUP 4][ID en el newGroup 2]\n",
            " [ID en WORLD_GROUP 0][ID en el newGroup 0]\n"
          ]
        }
      ]
    },
    {
      "cell_type": "markdown",
      "metadata": {
        "id": "NevJPjED_V5g"
      },
      "source": [
        "## MPI_GROUP_FREE(&grupo)\n",
        "\n",
        "\n",
        "\n",
        "Destruye el grupo $group$. Una vez realizada la llamada $group$=MPI\\_GROUP\\_NULL. Nótese que liberar a un grupo, no libera al comunicador al cual pertenece. Para ello hay que usar la función MPI\\_Comm\\_free()."
      ]
    },
    {
      "cell_type": "markdown",
      "metadata": {
        "id": "tj_R7G8z_yLV"
      },
      "source": [
        "#Comunicadores"
      ]
    },
    {
      "cell_type": "markdown",
      "metadata": {
        "id": "vDEml8dnA-FQ"
      },
      "source": [
        "##MPI_COM_RANK\n",
        "En la variable $rank$ regresa el identificador del proceso (un valor entero entre $0$ y $num\\_procesos -1$) bajo el comunicador $comm$. Esta valor es relativo al grupo asociado con $comm$. Si la llamada es realizada como MPI\\_Comm\\_rank(MPI\\_COMM\\_WORLD,\\&rank), regresa un valor en el contexto del comunicador global; si es utilizada la llamada MPI\\_Comm\\_rank(MPI\\_COMM\\_SELF,\\&rank) entonces $rank=0$. Devolverá un valor distinto de MPI\\_SUCCESS si el comunicador no es válido."
      ]
    },
    {
      "cell_type": "markdown",
      "metadata": {
        "id": "rHt7ykdXBBqt"
      },
      "source": [
        "##MPI_COMM_SIZE\n",
        "Si $comm$ es un intracomunicador, entonces regresa el tamaño del grupo asociado con $comm$. La función regresará un valor distinto de MPI\\_SUCCESS si el comunicador no es válido. "
      ]
    },
    {
      "cell_type": "markdown",
      "metadata": {
        "id": "-nrG7LmgBD-F"
      },
      "source": [
        "##Constructores\n",
        "En MPI hay varias formas de crear un nuevo comunicador. Estas formas son\n",
        "\n",
        "\n",
        "* duplicar un intracomunicador existente,\n",
        "* dividir un intracomunicador en dos o más sub-intracomunicadores,\n",
        "* modificar un grupo de procesos en un intracomunicador existente, para crear un nuevo comunicador en base al grupo modificado.\n"
      ]
    },
    {
      "cell_type": "markdown",
      "metadata": {
        "id": "dy0IQ_fOBeT-"
      },
      "source": [
        "### MPI_COMM_DUP\n",
        "Duplica un comunicador existente. Es decir, crea un nuevo intracomunicador con los mismo atributos que $comm$. El nuevo comunicador tendrá el mismo grupo asociado que $comm$ pero con un contexto distinto.\n",
        "\n",
        "\n"
      ]
    },
    {
      "cell_type": "markdown",
      "metadata": {
        "id": "x6F9BZu7BgMu"
      },
      "source": [
        "### MPI_COMM_CREATE\n",
        "Genera un comunicador con $group$ como grupo asociado. Ningún atributo se propaga de $comm$ a $newcomm$. Regresa MPI\\_COMM\\_NULL para procesos que no están en el grupo. $group$ debe ser un subconjunto del grupo asociado al comunicador $comm$."
      ]
    },
    {
      "cell_type": "code",
      "metadata": {
        "colab": {
          "base_uri": "https://localhost:8080/"
        },
        "id": "pr6qLwKBB6qO",
        "outputId": "b0c6e865-ee61-4c20-8d97-16ff268a4d11"
      },
      "source": [
        "%%writefile comunicadores.c\n",
        "/* Crea un nuevo grupo llamado <newGroup> a partir del grupo <worldGroup>\n",
        " * incluyendo del nuevo grupo a un conjunto de procesos especificados en\n",
        " * el arreglo <ranks>\n",
        " * Despues crea un comunicador llamado <newComm> con el grupo <newGroup>,\n",
        " * obtiene el Id que corresponde en el nuevo comunicador y \n",
        " * lo manda a imprimir\n",
        "*/\n",
        "#include \"mpi.h\"\n",
        "#include <stdio.h>\n",
        "#include <stdlib.h>\n",
        "int main(  ){\n",
        "   int i,myId,myIdComm,myIdGroup;\n",
        "   int numprocs,nElems,*ranks;\n",
        "   MPI_Group worldGroup,newGroup;\n",
        "   MPI_Comm newComm;\n",
        "\n",
        "   MPI_Init( NULL , NULL );        \n",
        "   MPI_Comm_group(MPI_COMM_WORLD,&worldGroup);\n",
        "   MPI_Group_size (worldGroup,&numprocs);\t        \n",
        "   MPI_Group_rank (worldGroup,&myId);\t\t\n",
        "\t\t\n",
        "   nElems=(numprocs+1)/2;\n",
        "   ranks=(int*)malloc(nElems*sizeof(int));\n",
        "   if(ranks==NULL){\n",
        "      printf(\"Memoria insuficiente \\n\");\n",
        "      MPI_Finalize();\n",
        "      return 0;\n",
        "   }\n",
        "   for(i=0;i<nElems;i++) ranks[i]=2*i;\n",
        "   MPI_Group_incl(worldGroup,nElems,ranks,&newGroup);  \n",
        "   MPI_Group_rank(newGroup,&myIdGroup);   \n",
        "   \n",
        "   MPI_Comm_create(MPI_COMM_WORLD,newGroup,&newComm);   \n",
        "   if(newComm!=MPI_COMM_NULL){\n",
        "      MPI_Comm_rank(newComm,&myIdComm);      \n",
        "      printf(\"\\n [ID en COMM_WORLD %d][ID en el newComm %d]\\n\",myId,myIdComm);\n",
        "   }\t\n",
        "   if(myIdGroup!=MPI_UNDEFINED) MPI_Group_free(&newGroup);\n",
        "   if(newComm!=MPI_COMM_NULL) MPI_Comm_free(&newComm);\n",
        "   \n",
        "   MPI_Finalize();\n",
        "   return 0;\n",
        "}"
      ],
      "execution_count": null,
      "outputs": [
        {
          "output_type": "stream",
          "name": "stdout",
          "text": [
            "Writing comunicadores.c\n"
          ]
        }
      ]
    },
    {
      "cell_type": "code",
      "metadata": {
        "colab": {
          "base_uri": "https://localhost:8080/"
        },
        "id": "aw997_cFB6td",
        "outputId": "00e4255a-9e2a-4511-b7ac-f5c900c0847c"
      },
      "source": [
        "%%script bash\n",
        "mpicc comunicadores.c -o ej_comm\n",
        "mpirun --allow-run-as-root -np 5 ej_comm\n"
      ],
      "execution_count": null,
      "outputs": [
        {
          "output_type": "stream",
          "name": "stdout",
          "text": [
            "\n",
            " [ID en COMM_WORLD 0][ID en el newComm 0]\n",
            "\n",
            " [ID en COMM_WORLD 4][ID en el newComm 2]\n",
            "\n",
            " [ID en COMM_WORLD 2][ID en el newComm 1]\n"
          ]
        }
      ]
    },
    {
      "cell_type": "markdown",
      "metadata": {
        "id": "PDEP1VpxCPOw"
      },
      "source": [
        "### MPI_COMM_SPLIT\n",
        "Esta función divide un intracomunicador existente en dos o mas sub-itercomunicadores. La función parte el grupo asociado con $comm$ en subgrupos disjuntos, uno para cada valor de $color$. Cada subgrupo contiene todos los procesos del mismo valor en $color$. Dentro de cada grupo, los procesos son ordenados de acuerdo al valor del argumento $key$. Un nuevo dominio de comunicación es creado y se regresa un manejador en $newcomm$. Un proceso puede contener el valor MPI\\_UNDEFINED en $color$ y no formará parte del nuevo comunicador en cuyo caso, $newcomm=$MPI\\_COMM\\_NULL. Esta es una llamada colectiva pero cada proceso puede proporcionar un valor distinto en $color$ y $key$. Los valores en color deben ser no-negativos."
      ]
    },
    {
      "cell_type": "code",
      "metadata": {
        "colab": {
          "base_uri": "https://localhost:8080/"
        },
        "id": "qUUVPAt0CY4R",
        "outputId": "47282b36-8c2a-4cd1-ce41-5b58b6b09268"
      },
      "source": [
        "%%writefile comunicadores_split.c\n",
        "/* *****\n",
        " * Crea un nuevo comunicador <newComm> a partir de los valores \n",
        " * <color> y <key>\n",
        " * <newComm> en realidad representa <color> comunicadores\n",
        " * con los procesos ordenados segun <key>  \n",
        " * Despues se obtiene el valor del identificador en el comunicador\n",
        " * correspondiente a cada proceso y se manda a imprimir junto a <myId>\n",
        " **** */\n",
        "#include \"mpi.h\"\n",
        "#include <stdio.h>\n",
        "int main( ){\n",
        "   int myId,np,myIdComm,npComm,color,key;\n",
        "   MPI_Comm\tnewComm;\n",
        "\n",
        "   MPI_Init( NULL,NULL );\n",
        "   MPI_Comm_size (MPI_COMM_WORLD,&np);\n",
        "   MPI_Comm_rank (MPI_COMM_WORLD,&myId);\n",
        "\n",
        "   if(np<2){\n",
        "      if(myId==0) printf(\"Deben utilizarse al menos %d procesos en la ejecucion\\n\",2);\n",
        "      MPI_Finalize();\n",
        "      return 0;\n",
        "   }\n",
        "\n",
        "   color= myId%2; // se crean 2 comunicadores\n",
        "   key  = -myId; // se ordenaran en orden inverso al actual\n",
        "   \n",
        "   MPI_Comm_split(MPI_COMM_WORLD,color,key,&newComm);\n",
        "   if(newComm != MPI_COMM_NULL){\n",
        "      MPI_Comm_rank (newComm,&myIdComm);\n",
        "      MPI_Comm_size (newComm,&npComm);\n",
        "      if (myIdComm==0) \n",
        "      \tprintf(\"Color %d, Numero de procesos en el nuevo comunicador =%d\\n\",color,npComm);\n",
        "         \n",
        "      printf(\"\\n[Color %d] [myid nuevo, myID viejo]=[%d,%d] \\n\",color,myIdComm,myId);\n",
        "   }\n",
        "\t\n",
        "   \tif(newComm!=MPI_COMM_NULL) MPI_Comm_free(&newComm);\n",
        "\n",
        "   MPI_Finalize();\n",
        "   return 0;\n",
        "}"
      ],
      "execution_count": null,
      "outputs": [
        {
          "output_type": "stream",
          "name": "stdout",
          "text": [
            "Writing comunicadores_split.c\n"
          ]
        }
      ]
    },
    {
      "cell_type": "code",
      "metadata": {
        "colab": {
          "base_uri": "https://localhost:8080/"
        },
        "id": "_tgy9VsGCZRF",
        "outputId": "1059ecf0-96e1-48d3-cb59-62b2ad367522"
      },
      "source": [
        "%%script bash\n",
        "mpicc comunicadores_split.c -o ej_split\n",
        "mpirun --allow-run-as-root -np 5 ej_split"
      ],
      "execution_count": null,
      "outputs": [
        {
          "output_type": "stream",
          "name": "stdout",
          "text": [
            "\n",
            "[Color 0] [myid nuevo, myID viejo]=[2,0] \n",
            "\n",
            "Color 1, Numero de procesos en el nuevo comunicador =2\n",
            "\n",
            "[Color 1] [myid nuevo, myID viejo]=[0,3] \n",
            "\n",
            "[Color 0] [myid nuevo, myID viejo]=[1,2] \n",
            "Color 0, Numero de procesos en el nuevo comunicador =3\n",
            "\n",
            "[Color 0] [myid nuevo, myID viejo]=[0,4] \n",
            "[Color 1] [myid nuevo, myID viejo]=[1,1] \n"
          ]
        }
      ]
    },
    {
      "cell_type": "markdown",
      "metadata": {
        "id": "-gmhC4dVCtU4"
      },
      "source": [
        "## Destructor\n",
        "\n",
        "\n",
        "\n",
        "Destruye el comunicador $comm$, después de esto $comm=$MPI\\_COMM\\_NULL. Cualquier operación pendiente en este comunicador se completará normalmente.\n",
        "\n",
        "Es un error intentar liberar MPI\\_COMM\\_NULL."
      ]
    }
  ]
}